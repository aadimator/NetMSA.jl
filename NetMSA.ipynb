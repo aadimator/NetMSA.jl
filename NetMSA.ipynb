{
  "cells": [
    {
      "cell_type": "code",
      "source": [
        "using NetMSA\n",
        "using StatsBase"
      ],
      "outputs": [],
      "execution_count": 3,
      "metadata": {
        "collapsed": false,
        "jupyter": {
          "source_hidden": false,
          "outputs_hidden": false
        },
        "nteract": {
          "transient": {
            "deleting": false
          }
        },
        "execution": {
          "iopub.status.busy": "2020-06-26T11:38:22.905Z",
          "iopub.execute_input": "2020-06-26T11:38:22.914Z",
          "iopub.status.idle": "2020-06-26T11:38:23.371Z"
        }
      }
    },
    {
      "cell_type": "code",
      "source": [
        "S1 = \"abcbcdem\";\n",
        "S2 = \"acbcfg\";\n",
        "S3 = \"abchimn\";\n",
        "S4 = \"abcbcjkm\";\n",
        "\n",
        "L = [S1, S2, S3, S4]"
      ],
      "outputs": [
        {
          "output_type": "execute_result",
          "execution_count": 4,
          "data": {
            "text/plain": [
              "4-element Array{String,1}:\n",
              " \"abcbcdem\"\n",
              " \"acbcfg\"\n",
              " \"abchimn\"\n",
              " \"abcbcjkm\""
            ]
          },
          "metadata": {}
        }
      ],
      "execution_count": 4,
      "metadata": {
        "collapsed": true,
        "jupyter": {
          "source_hidden": false,
          "outputs_hidden": false
        },
        "nteract": {
          "transient": {
            "deleting": false
          }
        },
        "execution": {
          "iopub.status.busy": "2020-06-26T11:38:24.135Z",
          "iopub.execute_input": "2020-06-26T11:38:24.143Z",
          "iopub.status.idle": "2020-06-26T11:38:24.157Z"
        }
      }
    },
    {
      "cell_type": "code",
      "source": [
        "M = NetMSA.createPeerMatrix(L)"
      ],
      "outputs": [
        {
          "output_type": "execute_result",
          "execution_count": 5,
          "data": {
            "text/plain": [
              "8×4 Array{Union{Missing, Char},2}:\n",
              " 'a'  'a'      'a'      'a'\n",
              " 'b'  'c'      'b'      'b'\n",
              " 'c'  'b'      'c'      'c'\n",
              " 'b'  'c'      'h'      'b'\n",
              " 'c'  'f'      'i'      'c'\n",
              " 'd'  'g'      'm'      'j'\n",
              " 'e'  missing  'n'      'k'\n",
              " 'm'  missing  missing  'm'"
            ]
          },
          "metadata": {}
        }
      ],
      "execution_count": 5,
      "metadata": {
        "collapsed": true,
        "jupyter": {
          "source_hidden": false,
          "outputs_hidden": false
        },
        "nteract": {
          "transient": {
            "deleting": false
          }
        },
        "execution": {
          "iopub.status.busy": "2020-06-26T11:38:24.625Z",
          "iopub.execute_input": "2020-06-26T11:38:24.632Z",
          "iopub.status.idle": "2020-06-26T11:38:25.643Z"
        }
      }
    },
    {
      "cell_type": "code",
      "source": [
        "mutable struct Position \n",
        "  row::Int64\n",
        "  locations::Int64\n",
        "end\n",
        "\n",
        "mutable struct Particle\n",
        "  value::Char\n",
        "  best::Position\n",
        "end"
      ],
      "outputs": [],
      "execution_count": 6,
      "metadata": {
        "collapsed": true,
        "jupyter": {
          "source_hidden": false,
          "outputs_hidden": false
        },
        "nteract": {
          "transient": {
            "deleting": false
          }
        },
        "execution": {
          "iopub.status.busy": "2020-06-26T11:38:26.905Z",
          "iopub.execute_input": "2020-06-26T11:38:26.914Z",
          "iopub.status.idle": "2020-06-26T11:38:26.970Z"
        }
      }
    },
    {
      "cell_type": "code",
      "source": [
        "function createSwarm(rowIndex::Int64, row)\n",
        "  unique = Set(row)\n",
        "  println(unique)\n",
        "end\n",
        "\n",
        "function mostfrequent(row)\n",
        "  counts = countmap(row)\n",
        "  delete!(counts, '-')\n",
        "  max = findmax(counts);\n",
        "  return max;\n",
        "end\n",
        "\n",
        "function aligned(row)::Bool\n",
        "  row = Set(row)\n",
        "  return length(row) == 1 || (length(row) == 2 && ('-' in row || missing in row))\n",
        "end\n",
        "\n",
        "function full(row)::Bool\n",
        "  return length(Set(row)) == 1\n",
        "end\n",
        "\n",
        "function weight(row; w1=0.25, w2=0.5, w3=1.0)\n",
        "  if full(row)\n",
        "    return w3;\n",
        "  end\n",
        "  \n",
        "  max = mostfrequent(row)[1];\n",
        "  c = length(row);\n",
        "  if aligned(row)\n",
        "    return w2 * max / c;\n",
        "  else\n",
        "    x = max == 1 ? 0 : max;\n",
        "    return w1 * x / c;\n",
        "  end\n",
        "end"
      ],
      "outputs": [
        {
          "output_type": "execute_result",
          "execution_count": 7,
          "data": {
            "text/plain": [
              "weight (generic function with 1 method)"
            ]
          },
          "metadata": {}
        }
      ],
      "execution_count": 7,
      "metadata": {
        "collapsed": true,
        "jupyter": {
          "source_hidden": false,
          "outputs_hidden": false
        },
        "nteract": {
          "transient": {
            "deleting": false
          }
        },
        "execution": {
          "iopub.status.busy": "2020-06-26T11:38:29.814Z",
          "iopub.execute_input": "2020-06-26T11:38:29.821Z",
          "iopub.status.idle": "2020-06-26T11:38:30.277Z"
        }
      }
    },
    {
      "cell_type": "code",
      "source": [
        "for (index, row) in enumerate(eachrow(M))\n",
        "#   println(\"$index: $row\")\n",
        "  createSwarm(index, row)\n",
        "  println(weight(row))\n",
        "end"
      ],
      "outputs": [
        {
          "output_type": "stream",
          "name": "stdout",
          "text": [
            "Set(Union{Missing, Char}['a'])\n",
            "1.0\n",
            "Set(Union{Missing, Char}['c', 'b'])\n",
            "0.1875\n",
            "Set(Union{Missing, Char}['c', 'b'])\n",
            "0.1875\n",
            "Set(Union{Missing, Char}['h', 'c', 'b'])\n",
            "0.125\n",
            "Set(Union{Missing, Char}['f', 'c', 'i'])\n",
            "0.125\n",
            "Set(Union{Missing, Char}['g', 'd', 'j', 'm'])\n",
            "0.0\n",
            "Set(Union{Missing, Char}['n', missing, 'e', 'k'])\n",
            "0.0\n",
            "Set(Union{Missing, Char}[missing, 'm'])\n",
            "0.125\n"
          ]
        }
      ],
      "execution_count": 10,
      "metadata": {
        "collapsed": true,
        "jupyter": {
          "source_hidden": false,
          "outputs_hidden": false
        },
        "nteract": {
          "transient": {
            "deleting": false
          }
        },
        "execution": {
          "iopub.status.busy": "2020-06-26T06:39:47.110Z",
          "iopub.execute_input": "2020-06-26T06:39:47.115Z",
          "iopub.status.idle": "2020-06-26T06:39:47.155Z"
        }
      }
    },
    {
      "cell_type": "code",
      "source": [
        "function objective(M, rowind::Int64; endind::Int64=-1)\n",
        "  weights = sum(weight.(eachrow(M[rowind:end, :])))\n",
        "  C = mostfrequent(M[rowind, :])[1];\n",
        "  A = sum(aligned.(eachrow(M))[rowind:end])\n",
        "  \n",
        "  endind = endind == -1 ? size(M)[1] : endind;\n",
        "  if endind > size(M)[1]\n",
        "    throw(ArgumentError(\"endind exceeds the matrix size\"));\n",
        "  end\n",
        "  counts = countmap(M[rowind:endind, :]);\n",
        "  Gaps = get(counts, '-', 0);\n",
        "  \n",
        "  return weights * (A * C)/(1 + Gaps)\n",
        "end"
      ],
      "outputs": [
        {
          "output_type": "execute_result",
          "execution_count": 20,
          "data": {
            "text/plain": [
              "objective (generic function with 1 method)"
            ]
          },
          "metadata": {}
        }
      ],
      "execution_count": 20,
      "metadata": {
        "collapsed": true,
        "jupyter": {
          "source_hidden": false,
          "outputs_hidden": false
        },
        "nteract": {
          "transient": {
            "deleting": false
          }
        },
        "execution": {
          "iopub.status.busy": "2020-06-26T11:51:14.109Z",
          "iopub.execute_input": "2020-06-26T11:51:14.119Z",
          "iopub.status.idle": "2020-06-26T11:51:14.132Z"
        }
      }
    },
    {
      "cell_type": "code",
      "source": [
        "objective(M, 2, endind=6)"
      ],
      "outputs": [
        {
          "output_type": "execute_result",
          "execution_count": 22,
          "data": {
            "text/plain": [
              "2.625"
            ]
          },
          "metadata": {}
        }
      ],
      "execution_count": 22,
      "metadata": {
        "collapsed": true,
        "jupyter": {
          "source_hidden": false,
          "outputs_hidden": false
        },
        "nteract": {
          "transient": {
            "deleting": false
          }
        },
        "execution": {
          "iopub.status.busy": "2020-06-26T11:51:54.074Z",
          "iopub.execute_input": "2020-06-26T11:51:54.081Z",
          "iopub.status.idle": "2020-06-26T11:51:54.093Z"
        }
      }
    },
    {
      "cell_type": "code",
      "source": [
        "endindex = endind == -1 ? size(M)[1] : endind;"
      ],
      "outputs": [
        {
          "output_type": "execute_result",
          "execution_count": 39,
          "data": {
            "text/plain": [
              "7-element Array{Float64,1}:\n",
              " 0.1875\n",
              " 0.375\n",
              " 0.5\n",
              " 0.625\n",
              " 0.625\n",
              " 0.625\n",
              " 0.875"
            ]
          },
          "metadata": {}
        }
      ],
      "execution_count": 39,
      "metadata": {
        "collapsed": true,
        "jupyter": {
          "source_hidden": false,
          "outputs_hidden": false
        },
        "nteract": {
          "transient": {
            "deleting": false
          }
        },
        "execution": {
          "iopub.status.busy": "2020-06-26T07:20:17.851Z",
          "iopub.execute_input": "2020-06-26T07:20:17.856Z",
          "iopub.status.idle": "2020-06-26T07:20:17.879Z"
        }
      }
    },
    {
      "cell_type": "code",
      "source": [
        "mostfrequent(M[2, :])"
      ],
      "outputs": [
        {
          "output_type": "execute_result",
          "execution_count": 23,
          "data": {
            "text/plain": [
              "(3, 'b')"
            ]
          },
          "metadata": {}
        }
      ],
      "execution_count": 23,
      "metadata": {
        "collapsed": true,
        "jupyter": {
          "source_hidden": false,
          "outputs_hidden": false
        },
        "nteract": {
          "transient": {
            "deleting": false
          }
        },
        "execution": {
          "iopub.status.busy": "2020-06-26T11:54:06.446Z",
          "iopub.execute_input": "2020-06-26T11:54:06.453Z",
          "iopub.status.idle": "2020-06-26T11:54:06.836Z"
        }
      }
    },
    {
      "cell_type": "code",
      "source": [
        "nₛ"
      ],
      "outputs": [],
      "execution_count": null,
      "metadata": {
        "collapsed": true,
        "jupyter": {
          "source_hidden": false,
          "outputs_hidden": false
        },
        "nteract": {
          "transient": {
            "deleting": false
          }
        }
      }
    },
    {
      "cell_type": "code",
      "source": [
        "0.5 * 2/4"
      ],
      "outputs": [
        {
          "output_type": "execute_result",
          "execution_count": 35,
          "data": {
            "text/plain": [
              "0.25"
            ]
          },
          "metadata": {}
        }
      ],
      "execution_count": 35,
      "metadata": {
        "collapsed": true,
        "jupyter": {
          "source_hidden": false,
          "outputs_hidden": false
        },
        "nteract": {
          "transient": {
            "deleting": false
          }
        },
        "execution": {
          "iopub.status.busy": "2020-06-26T07:18:02.020Z",
          "iopub.execute_input": "2020-06-26T07:18:02.026Z",
          "iopub.status.idle": "2020-06-26T07:18:02.037Z"
        }
      }
    },
    {
      "cell_type": "code",
      "source": [
        "weight.(eachrow(M[2:end, :]))"
      ],
      "outputs": [
        {
          "output_type": "execute_result",
          "execution_count": 46,
          "data": {
            "text/plain": [
              "7-element Array{Float64,1}:\n",
              " 0.1875\n",
              " 0.1875\n",
              " 0.125\n",
              " 0.125\n",
              " 0.0\n",
              " 0.0\n",
              " 0.25"
            ]
          },
          "metadata": {}
        }
      ],
      "execution_count": 46,
      "metadata": {
        "collapsed": true,
        "jupyter": {
          "source_hidden": false,
          "outputs_hidden": false
        },
        "nteract": {
          "transient": {
            "deleting": false
          }
        },
        "execution": {
          "iopub.status.busy": "2020-06-26T07:30:35.766Z",
          "iopub.execute_input": "2020-06-26T07:30:35.772Z",
          "iopub.status.idle": "2020-06-26T07:30:35.782Z"
        }
      }
    },
    {
      "cell_type": "code",
      "source": [
        "?count"
      ],
      "outputs": [
        {
          "output_type": "stream",
          "name": "stdout",
          "text": [
            "search: \u001b[0m\u001b[1mc\u001b[22m\u001b[0m\u001b[1mo\u001b[22m\u001b[0m\u001b[1mu\u001b[22m\u001b[0m\u001b[1mn\u001b[22m\u001b[0m\u001b[1mt\u001b[22m \u001b[0m\u001b[1mc\u001b[22m\u001b[0m\u001b[1mo\u001b[22m\u001b[0m\u001b[1mu\u001b[22m\u001b[0m\u001b[1mn\u001b[22m\u001b[0m\u001b[1mt\u001b[22ms \u001b[0m\u001b[1mc\u001b[22m\u001b[0m\u001b[1mo\u001b[22m\u001b[0m\u001b[1mu\u001b[22m\u001b[0m\u001b[1mn\u001b[22m\u001b[0m\u001b[1mt\u001b[22mne \u001b[0m\u001b[1mc\u001b[22m\u001b[0m\u001b[1mo\u001b[22m\u001b[0m\u001b[1mu\u001b[22m\u001b[0m\u001b[1mn\u001b[22m\u001b[0m\u001b[1mt\u001b[22meq \u001b[0m\u001b[1mc\u001b[22m\u001b[0m\u001b[1mo\u001b[22m\u001b[0m\u001b[1mu\u001b[22m\u001b[0m\u001b[1mn\u001b[22m\u001b[0m\u001b[1mt\u001b[22mmap \u001b[0m\u001b[1mc\u001b[22m\u001b[0m\u001b[1mo\u001b[22m\u001b[0m\u001b[1mu\u001b[22m\u001b[0m\u001b[1mn\u001b[22m\u001b[0m\u001b[1mt\u001b[22mlines \u001b[0m\u001b[1mc\u001b[22m\u001b[0m\u001b[1mo\u001b[22m\u001b[0m\u001b[1mu\u001b[22m\u001b[0m\u001b[1mn\u001b[22m\u001b[0m\u001b[1mt\u001b[22m_ones \u001b[0m\u001b[1mc\u001b[22m\u001b[0m\u001b[1mo\u001b[22m\u001b[0m\u001b[1mu\u001b[22m\u001b[0m\u001b[1mn\u001b[22m\u001b[0m\u001b[1mt\u001b[22m_zeros\n",
            "\n"
          ]
        },
        {
          "output_type": "execute_result",
          "execution_count": 69,
          "data": {
            "text/plain": [
              "\u001b[36m  count(p, itr) -> Integer\u001b[39m\n",
              "\u001b[36m  count(itr) -> Integer\u001b[39m\n",
              "\n",
              "  Count the number of elements in \u001b[36mitr\u001b[39m for which predicate \u001b[36mp\u001b[39m returns \u001b[36mtrue\u001b[39m. If \u001b[36mp\u001b[39m\n",
              "  is omitted, counts the number of \u001b[36mtrue\u001b[39m elements in \u001b[36mitr\u001b[39m (which should be a\n",
              "  collection of boolean values).\n",
              "\n",
              "\u001b[1m  Examples\u001b[22m\n",
              "\u001b[1m  ≡≡≡≡≡≡≡≡≡≡\u001b[22m\n",
              "\n",
              "\u001b[36m  julia> count(i->(4<=i<=6), [2,3,4,5,6])\u001b[39m\n",
              "\u001b[36m  3\u001b[39m\n",
              "\u001b[36m  \u001b[39m\n",
              "\u001b[36m  julia> count([true, false, true, true])\u001b[39m\n",
              "\u001b[36m  3\u001b[39m\n",
              "\n",
              "  ────────────────────────────────────────────────────────────────────────────\n",
              "\n",
              "\u001b[36m  count(\u001b[39m\n",
              "\u001b[36m      pattern::Union{AbstractString,Regex},\u001b[39m\n",
              "\u001b[36m      string::AbstractString;\u001b[39m\n",
              "\u001b[36m      overlap::Bool = false,\u001b[39m\n",
              "\u001b[36m  )\u001b[39m\n",
              "\n",
              "  Return the number of matches for \u001b[36mpattern\u001b[39m in \u001b[36mstring\u001b[39m. This is equivalent to\n",
              "  calling \u001b[36mlength(findall(pattern, string))\u001b[39m but more efficient.\n",
              "\n",
              "  If \u001b[36moverlap=true\u001b[39m, the matching sequences are allowed to overlap indices in\n",
              "  the original string, otherwise they must be from disjoint character ranges."
            ],
            "text/markdown": [
              "```\n",
              "count(p, itr) -> Integer\n",
              "count(itr) -> Integer\n",
              "```\n",
              "\n",
              "Count the number of elements in `itr` for which predicate `p` returns `true`. If `p` is omitted, counts the number of `true` elements in `itr` (which should be a collection of boolean values).\n",
              "\n",
              "# Examples\n",
              "\n",
              "```jldoctest\n",
              "julia> count(i->(4<=i<=6), [2,3,4,5,6])\n",
              "3\n",
              "\n",
              "julia> count([true, false, true, true])\n",
              "3\n",
              "```\n",
              "\n",
              "---\n",
              "\n",
              "```\n",
              "count(\n",
              "    pattern::Union{AbstractString,Regex},\n",
              "    string::AbstractString;\n",
              "    overlap::Bool = false,\n",
              ")\n",
              "```\n",
              "\n",
              "Return the number of matches for `pattern` in `string`. This is equivalent to calling `length(findall(pattern, string))` but more efficient.\n",
              "\n",
              "If `overlap=true`, the matching sequences are allowed to overlap indices in the original string, otherwise they must be from disjoint character ranges.\n"
            ],
            "text/latex": [
              "\\begin{verbatim}\n",
              "count(p, itr) -> Integer\n",
              "count(itr) -> Integer\n",
              "\\end{verbatim}\n",
              "Count the number of elements in \\texttt{itr} for which predicate \\texttt{p} returns \\texttt{true}. If \\texttt{p} is omitted, counts the number of \\texttt{true} elements in \\texttt{itr} (which should be a collection of boolean values).\n",
              "\n",
              "\\section{Examples}\n",
              "\\begin{verbatim}\n",
              "julia> count(i->(4<=i<=6), [2,3,4,5,6])\n",
              "3\n",
              "\n",
              "julia> count([true, false, true, true])\n",
              "3\n",
              "\\end{verbatim}\n",
              "\\rule{\\textwidth}{1pt}\n",
              "\\begin{verbatim}\n",
              "count(\n",
              "    pattern::Union{AbstractString,Regex},\n",
              "    string::AbstractString;\n",
              "    overlap::Bool = false,\n",
              ")\n",
              "\\end{verbatim}\n",
              "Return the number of matches for \\texttt{pattern} in \\texttt{string}. This is equivalent to calling \\texttt{length(findall(pattern, string))} but more efficient.\n",
              "\n",
              "If \\texttt{overlap=true}, the matching sequences are allowed to overlap indices in the original string, otherwise they must be from disjoint character ranges.\n",
              "\n"
            ]
          },
          "metadata": {}
        }
      ],
      "execution_count": 69,
      "metadata": {
        "collapsed": true,
        "jupyter": {
          "source_hidden": false,
          "outputs_hidden": false
        },
        "nteract": {
          "transient": {
            "deleting": false
          }
        },
        "execution": {
          "iopub.status.busy": "2020-06-26T09:58:21.945Z",
          "iopub.execute_input": "2020-06-26T09:58:21.950Z",
          "iopub.status.idle": "2020-06-26T09:58:21.964Z"
        }
      }
    },
    {
      "cell_type": "code",
      "source": [
        "count(i -> (i=='a'), M)"
      ],
      "outputs": [
        {
          "output_type": "error",
          "ename": "TypeError",
          "evalue": "TypeError: non-boolean (Missing) used in boolean context",
          "traceback": [
            "TypeError: non-boolean (Missing) used in boolean context",
            "",
            "Stacktrace:",
            " [1] count(::var\"#4#5\", ::Array{Union{Missing, Char},2}) at .\\reduce.jl:862",
            " [2] top-level scope at In[72]:1"
          ]
        }
      ],
      "execution_count": 72,
      "metadata": {
        "collapsed": true,
        "jupyter": {
          "source_hidden": false,
          "outputs_hidden": false
        },
        "nteract": {
          "transient": {
            "deleting": false
          }
        },
        "execution": {
          "iopub.status.busy": "2020-06-26T09:59:51.742Z",
          "iopub.execute_input": "2020-06-26T09:59:51.748Z",
          "iopub.status.idle": "2020-06-26T09:59:51.807Z"
        }
      }
    },
    {
      "cell_type": "code",
      "source": [
        "findall(i -> !ismissing(i) && i == 'b', M)"
      ],
      "outputs": [
        {
          "output_type": "execute_result",
          "execution_count": 88,
          "data": {
            "text/plain": [
              "6-element Array{CartesianIndex{2},1}:\n",
              " CartesianIndex(2, 1)\n",
              " CartesianIndex(4, 1)\n",
              " CartesianIndex(3, 2)\n",
              " CartesianIndex(2, 3)\n",
              " CartesianIndex(2, 4)\n",
              " CartesianIndex(4, 4)"
            ]
          },
          "metadata": {}
        }
      ],
      "execution_count": 88,
      "metadata": {
        "collapsed": true,
        "jupyter": {
          "source_hidden": false,
          "outputs_hidden": false
        },
        "nteract": {
          "transient": {
            "deleting": false
          }
        },
        "execution": {
          "iopub.status.busy": "2020-06-26T10:20:05.293Z",
          "iopub.execute_input": "2020-06-26T10:20:05.300Z",
          "iopub.status.idle": "2020-06-26T10:20:05.331Z"
        }
      }
    },
    {
      "cell_type": "code",
      "source": [
        "?all"
      ],
      "outputs": [
        {
          "output_type": "stream",
          "name": "stdout",
          "text": [
            "search: \u001b[0m\u001b[1ma\u001b[22m\u001b[0m\u001b[1ml\u001b[22m\u001b[0m\u001b[1ml\u001b[22m \u001b[0m\u001b[1ma\u001b[22m\u001b[0m\u001b[1ml\u001b[22m\u001b[0m\u001b[1ml\u001b[22m! \u001b[0m\u001b[1ma\u001b[22m\u001b[0m\u001b[1ml\u001b[22m\u001b[0m\u001b[1ml\u001b[22munique @\u001b[0m\u001b[1ma\u001b[22m\u001b[0m\u001b[1ml\u001b[22m\u001b[0m\u001b[1ml\u001b[22mocated cc\u001b[0m\u001b[1ma\u001b[22m\u001b[0m\u001b[1ml\u001b[22m\u001b[0m\u001b[1ml\u001b[22m fin\u001b[0m\u001b[1ma\u001b[22m\u001b[0m\u001b[1ml\u001b[22m\u001b[0m\u001b[1ml\u001b[22my find\u001b[0m\u001b[1ma\u001b[22m\u001b[0m\u001b[1ml\u001b[22m\u001b[0m\u001b[1ml\u001b[22m Union\u001b[0m\u001b[1mA\u001b[22m\u001b[0m\u001b[1ml\u001b[22m\u001b[0m\u001b[1ml\u001b[22m corkend\u001b[0m\u001b[1ma\u001b[22m\u001b[0m\u001b[1ml\u001b[22m\u001b[0m\u001b[1ml\u001b[22m\n",
            "\n"
          ]
        },
        {
          "output_type": "execute_result",
          "execution_count": 77,
          "data": {
            "text/plain": [
              "\u001b[36m  all(itr) -> Bool\u001b[39m\n",
              "\n",
              "  Test whether all elements of a boolean collection are \u001b[36mtrue\u001b[39m, returning \u001b[36mfalse\u001b[39m\n",
              "  as soon as the first \u001b[36mfalse\u001b[39m value in \u001b[36mitr\u001b[39m is encountered (short-circuiting).\n",
              "\n",
              "  If the input contains \u001b[36mmissing\u001b[39m values, return \u001b[36mmissing\u001b[39m if all non-missing\n",
              "  values are \u001b[36mtrue\u001b[39m (or equivalently, if the input contains no \u001b[36mfalse\u001b[39m value),\n",
              "  following three-valued logic\n",
              "  (https://en.wikipedia.org/wiki/Three-valued_logic).\n",
              "\n",
              "\u001b[1m  Examples\u001b[22m\n",
              "\u001b[1m  ≡≡≡≡≡≡≡≡≡≡\u001b[22m\n",
              "\n",
              "\u001b[36m  julia> a = [true,false,false,true]\u001b[39m\n",
              "\u001b[36m  4-element Array{Bool,1}:\u001b[39m\n",
              "\u001b[36m   1\u001b[39m\n",
              "\u001b[36m   0\u001b[39m\n",
              "\u001b[36m   0\u001b[39m\n",
              "\u001b[36m   1\u001b[39m\n",
              "\u001b[36m  \u001b[39m\n",
              "\u001b[36m  julia> all(a)\u001b[39m\n",
              "\u001b[36m  false\u001b[39m\n",
              "\u001b[36m  \u001b[39m\n",
              "\u001b[36m  julia> all((println(i); v) for (i, v) in enumerate(a))\u001b[39m\n",
              "\u001b[36m  1\u001b[39m\n",
              "\u001b[36m  2\u001b[39m\n",
              "\u001b[36m  false\u001b[39m\n",
              "\u001b[36m  \u001b[39m\n",
              "\u001b[36m  julia> all([missing, false])\u001b[39m\n",
              "\u001b[36m  false\u001b[39m\n",
              "\u001b[36m  \u001b[39m\n",
              "\u001b[36m  julia> all([true, missing])\u001b[39m\n",
              "\u001b[36m  missing\u001b[39m\n",
              "\n",
              "  ────────────────────────────────────────────────────────────────────────────\n",
              "\n",
              "\u001b[36m  all(p, itr) -> Bool\u001b[39m\n",
              "\n",
              "  Determine whether predicate \u001b[36mp\u001b[39m returns \u001b[36mtrue\u001b[39m for all elements of \u001b[36mitr\u001b[39m,\n",
              "  returning \u001b[36mfalse\u001b[39m as soon as the first item in \u001b[36mitr\u001b[39m for which \u001b[36mp\u001b[39m returns \u001b[36mfalse\u001b[39m\n",
              "  is encountered (short-circuiting).\n",
              "\n",
              "  If the input contains \u001b[36mmissing\u001b[39m values, return \u001b[36mmissing\u001b[39m if all non-missing\n",
              "  values are \u001b[36mtrue\u001b[39m (or equivalently, if the input contains no \u001b[36mfalse\u001b[39m value),\n",
              "  following three-valued logic\n",
              "  (https://en.wikipedia.org/wiki/Three-valued_logic).\n",
              "\n",
              "\u001b[1m  Examples\u001b[22m\n",
              "\u001b[1m  ≡≡≡≡≡≡≡≡≡≡\u001b[22m\n",
              "\n",
              "\u001b[36m  julia> all(i->(4<=i<=6), [4,5,6])\u001b[39m\n",
              "\u001b[36m  true\u001b[39m\n",
              "\u001b[36m  \u001b[39m\n",
              "\u001b[36m  julia> all(i -> (println(i); i < 3), 1:10)\u001b[39m\n",
              "\u001b[36m  1\u001b[39m\n",
              "\u001b[36m  2\u001b[39m\n",
              "\u001b[36m  3\u001b[39m\n",
              "\u001b[36m  false\u001b[39m\n",
              "\u001b[36m  \u001b[39m\n",
              "\u001b[36m  julia> all(i -> i > 0, [1, missing])\u001b[39m\n",
              "\u001b[36m  missing\u001b[39m\n",
              "\u001b[36m  \u001b[39m\n",
              "\u001b[36m  julia> all(i -> i > 0, [-1, missing])\u001b[39m\n",
              "\u001b[36m  false\u001b[39m\n",
              "\u001b[36m  \u001b[39m\n",
              "\u001b[36m  julia> all(i -> i > 0, [1, 2])\u001b[39m\n",
              "\u001b[36m  true\u001b[39m\n",
              "\n",
              "  ────────────────────────────────────────────────────────────────────────────\n",
              "\n",
              "\u001b[36m  all(A; dims)\u001b[39m\n",
              "\n",
              "  Test whether all values along the given dimensions of an array are \u001b[36mtrue\u001b[39m.\n",
              "\n",
              "\u001b[1m  Examples\u001b[22m\n",
              "\u001b[1m  ≡≡≡≡≡≡≡≡≡≡\u001b[22m\n",
              "\n",
              "\u001b[36m  julia> A = [true false; true true]\u001b[39m\n",
              "\u001b[36m  2×2 Array{Bool,2}:\u001b[39m\n",
              "\u001b[36m   1  0\u001b[39m\n",
              "\u001b[36m   1  1\u001b[39m\n",
              "\u001b[36m  \u001b[39m\n",
              "\u001b[36m  julia> all(A, dims=1)\u001b[39m\n",
              "\u001b[36m  1×2 Array{Bool,2}:\u001b[39m\n",
              "\u001b[36m   1  0\u001b[39m\n",
              "\u001b[36m  \u001b[39m\n",
              "\u001b[36m  julia> all(A, dims=2)\u001b[39m\n",
              "\u001b[36m  2×1 Array{Bool,2}:\u001b[39m\n",
              "\u001b[36m   0\u001b[39m\n",
              "\u001b[36m   1\u001b[39m"
            ],
            "text/markdown": [
              "```\n",
              "all(itr) -> Bool\n",
              "```\n",
              "\n",
              "Test whether all elements of a boolean collection are `true`, returning `false` as soon as the first `false` value in `itr` is encountered (short-circuiting).\n",
              "\n",
              "If the input contains [`missing`](@ref) values, return `missing` if all non-missing values are `true` (or equivalently, if the input contains no `false` value), following [three-valued logic](https://en.wikipedia.org/wiki/Three-valued_logic).\n",
              "\n",
              "# Examples\n",
              "\n",
              "```jldoctest\n",
              "julia> a = [true,false,false,true]\n",
              "4-element Array{Bool,1}:\n",
              " 1\n",
              " 0\n",
              " 0\n",
              " 1\n",
              "\n",
              "julia> all(a)\n",
              "false\n",
              "\n",
              "julia> all((println(i); v) for (i, v) in enumerate(a))\n",
              "1\n",
              "2\n",
              "false\n",
              "\n",
              "julia> all([missing, false])\n",
              "false\n",
              "\n",
              "julia> all([true, missing])\n",
              "missing\n",
              "```\n",
              "\n",
              "---\n",
              "\n",
              "```\n",
              "all(p, itr) -> Bool\n",
              "```\n",
              "\n",
              "Determine whether predicate `p` returns `true` for all elements of `itr`, returning `false` as soon as the first item in `itr` for which `p` returns `false` is encountered (short-circuiting).\n",
              "\n",
              "If the input contains [`missing`](@ref) values, return `missing` if all non-missing values are `true` (or equivalently, if the input contains no `false` value), following [three-valued logic](https://en.wikipedia.org/wiki/Three-valued_logic).\n",
              "\n",
              "# Examples\n",
              "\n",
              "```jldoctest\n",
              "julia> all(i->(4<=i<=6), [4,5,6])\n",
              "true\n",
              "\n",
              "julia> all(i -> (println(i); i < 3), 1:10)\n",
              "1\n",
              "2\n",
              "3\n",
              "false\n",
              "\n",
              "julia> all(i -> i > 0, [1, missing])\n",
              "missing\n",
              "\n",
              "julia> all(i -> i > 0, [-1, missing])\n",
              "false\n",
              "\n",
              "julia> all(i -> i > 0, [1, 2])\n",
              "true\n",
              "```\n",
              "\n",
              "---\n",
              "\n",
              "```\n",
              "all(A; dims)\n",
              "```\n",
              "\n",
              "Test whether all values along the given dimensions of an array are `true`.\n",
              "\n",
              "# Examples\n",
              "\n",
              "```jldoctest\n",
              "julia> A = [true false; true true]\n",
              "2×2 Array{Bool,2}:\n",
              " 1  0\n",
              " 1  1\n",
              "\n",
              "julia> all(A, dims=1)\n",
              "1×2 Array{Bool,2}:\n",
              " 1  0\n",
              "\n",
              "julia> all(A, dims=2)\n",
              "2×1 Array{Bool,2}:\n",
              " 0\n",
              " 1\n",
              "```\n"
            ],
            "text/latex": [
              "\\begin{verbatim}\n",
              "all(itr) -> Bool\n",
              "\\end{verbatim}\n",
              "Test whether all elements of a boolean collection are \\texttt{true}, returning \\texttt{false} as soon as the first \\texttt{false} value in \\texttt{itr} is encountered (short-circuiting).\n",
              "\n",
              "If the input contains \\href{@ref}{\\texttt{missing}} values, return \\texttt{missing} if all non-missing values are \\texttt{true} (or equivalently, if the input contains no \\texttt{false} value), following \\href{https://en.wikipedia.org/wiki/Three-valued_logic}{three-valued logic}.\n",
              "\n",
              "\\section{Examples}\n",
              "\\begin{verbatim}\n",
              "julia> a = [true,false,false,true]\n",
              "4-element Array{Bool,1}:\n",
              " 1\n",
              " 0\n",
              " 0\n",
              " 1\n",
              "\n",
              "julia> all(a)\n",
              "false\n",
              "\n",
              "julia> all((println(i); v) for (i, v) in enumerate(a))\n",
              "1\n",
              "2\n",
              "false\n",
              "\n",
              "julia> all([missing, false])\n",
              "false\n",
              "\n",
              "julia> all([true, missing])\n",
              "missing\n",
              "\\end{verbatim}\n",
              "\\rule{\\textwidth}{1pt}\n",
              "\\begin{verbatim}\n",
              "all(p, itr) -> Bool\n",
              "\\end{verbatim}\n",
              "Determine whether predicate \\texttt{p} returns \\texttt{true} for all elements of \\texttt{itr}, returning \\texttt{false} as soon as the first item in \\texttt{itr} for which \\texttt{p} returns \\texttt{false} is encountered (short-circuiting).\n",
              "\n",
              "If the input contains \\href{@ref}{\\texttt{missing}} values, return \\texttt{missing} if all non-missing values are \\texttt{true} (or equivalently, if the input contains no \\texttt{false} value), following \\href{https://en.wikipedia.org/wiki/Three-valued_logic}{three-valued logic}.\n",
              "\n",
              "\\section{Examples}\n",
              "\\begin{verbatim}\n",
              "julia> all(i->(4<=i<=6), [4,5,6])\n",
              "true\n",
              "\n",
              "julia> all(i -> (println(i); i < 3), 1:10)\n",
              "1\n",
              "2\n",
              "3\n",
              "false\n",
              "\n",
              "julia> all(i -> i > 0, [1, missing])\n",
              "missing\n",
              "\n",
              "julia> all(i -> i > 0, [-1, missing])\n",
              "false\n",
              "\n",
              "julia> all(i -> i > 0, [1, 2])\n",
              "true\n",
              "\\end{verbatim}\n",
              "\\rule{\\textwidth}{1pt}\n",
              "\\begin{verbatim}\n",
              "all(A; dims)\n",
              "\\end{verbatim}\n",
              "Test whether all values along the given dimensions of an array are \\texttt{true}.\n",
              "\n",
              "\\section{Examples}\n",
              "\\begin{verbatim}\n",
              "julia> A = [true false; true true]\n",
              "2×2 Array{Bool,2}:\n",
              " 1  0\n",
              " 1  1\n",
              "\n",
              "julia> all(A, dims=1)\n",
              "1×2 Array{Bool,2}:\n",
              " 1  0\n",
              "\n",
              "julia> all(A, dims=2)\n",
              "2×1 Array{Bool,2}:\n",
              " 0\n",
              " 1\n",
              "\\end{verbatim}\n"
            ]
          },
          "metadata": {}
        }
      ],
      "execution_count": 77,
      "metadata": {
        "collapsed": true,
        "jupyter": {
          "source_hidden": false,
          "outputs_hidden": false
        },
        "nteract": {
          "transient": {
            "deleting": false
          }
        },
        "execution": {
          "iopub.status.busy": "2020-06-26T10:05:47.148Z",
          "iopub.execute_input": "2020-06-26T10:05:47.152Z",
          "iopub.status.idle": "2020-06-26T10:05:47.171Z"
        }
      }
    },
    {
      "cell_type": "code",
      "source": [],
      "outputs": [],
      "execution_count": null,
      "metadata": {
        "collapsed": true,
        "jupyter": {
          "source_hidden": false,
          "outputs_hidden": false
        },
        "nteract": {
          "transient": {
            "deleting": false
          }
        }
      }
    }
  ],
  "metadata": {
    "kernel_info": {
      "name": "julia-1.3"
    },
    "language_info": {
      "file_extension": ".jl",
      "name": "julia",
      "mimetype": "application/julia",
      "version": "1.4.2"
    },
    "kernelspec": {
      "argv": [
        "C:\\Users\\aadim\\AppData\\Local\\Julia-1.3.1\\bin\\julia.exe",
        "-i",
        "--startup-file=yes",
        "--color=yes",
        "--project=@.",
        "C:\\Users\\aadim\\.julia\\packages\\IJulia\\yLI42\\src\\kernel.jl",
        "{connection_file}"
      ],
      "display_name": "Julia 1.3.1",
      "env": {},
      "interrupt_mode": "message",
      "language": "julia",
      "name": "julia-1.3"
    },
    "nteract": {
      "version": "0.23.3"
    }
  },
  "nbformat": 4,
  "nbformat_minor": 0
}
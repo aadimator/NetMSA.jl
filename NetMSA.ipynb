{
  "cells": [
    {
      "cell_type": "code",
      "source": [
        "using NetMSA"
      ],
      "outputs": [],
      "execution_count": null,
      "metadata": {
        "collapsed": false,
        "jupyter": {
          "source_hidden": false,
          "outputs_hidden": false
        },
        "nteract": {
          "transient": {
            "deleting": false
          }
        }
      }
    }
  ],
  "metadata": {
    "kernel_info": {
      "name": "julia-1.3"
    },
    "language_info": {
      "file_extension": ".jl",
      "name": "julia",
      "mimetype": "application/julia",
      "version": "1.4.2"
    },
    "kernelspec": {
      "argv": [
        "C:\\Users\\aadim\\AppData\\Local\\Julia-1.3.1\\bin\\julia.exe",
        "-i",
        "--startup-file=yes",
        "--color=yes",
        "--project=@.",
        "C:\\Users\\aadim\\.julia\\packages\\IJulia\\yLI42\\src\\kernel.jl",
        "{connection_file}"
      ],
      "display_name": "Julia 1.3.1",
      "env": {},
      "interrupt_mode": "message",
      "language": "julia",
      "name": "julia-1.3"
    },
    "nteract": {
      "version": "0.23.3"
    }
  },
  "nbformat": 4,
  "nbformat_minor": 0
}
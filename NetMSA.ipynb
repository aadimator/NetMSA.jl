{
  "cells": [
    {
      "cell_type": "code",
      "source": [
        "using NetMSA\n",
        "using StatsBase\n",
        "using BenchmarkTools"
      ],
      "outputs": [
        {
          "output_type": "stream",
          "name": "stderr",
          "text": [
            "┌ Info: Precompiling BenchmarkTools [6e4b80f9-dd63-53aa-95a3-0cdb28fa8baf]\n",
            "└ @ Base loading.jl:1260\n"
          ]
        }
      ],
      "execution_count": 7,
      "metadata": {
        "collapsed": false,
        "jupyter": {
          "source_hidden": false,
          "outputs_hidden": false
        },
        "nteract": {
          "transient": {
            "deleting": false
          }
        },
        "execution": {
          "iopub.status.busy": "2020-06-30T07:10:32.609Z",
          "iopub.execute_input": "2020-06-30T07:10:32.618Z",
          "iopub.status.idle": "2020-06-30T07:10:34.127Z"
        }
      }
    },
    {
      "cell_type": "code",
      "source": [
        "S1 = \"abcbcdem\";\n",
        "S2 = \"acbcfg\";\n",
        "S3 = \"abchimn\";\n",
        "S4 = \"abcbcjkm\";\n",
        "\n",
        "L = [S1, S2, S3, S4]"
      ],
      "outputs": [
        {
          "output_type": "execute_result",
          "execution_count": 2,
          "data": {
            "text/plain": [
              "4-element Array{String,1}:\n",
              " \"abcbcdem\"\n",
              " \"acbcfg\"\n",
              " \"abchimn\"\n",
              " \"abcbcjkm\""
            ]
          },
          "metadata": {}
        }
      ],
      "execution_count": 2,
      "metadata": {
        "collapsed": true,
        "jupyter": {
          "source_hidden": false,
          "outputs_hidden": false
        },
        "nteract": {
          "transient": {
            "deleting": false
          }
        },
        "execution": {
          "iopub.status.busy": "2020-06-30T07:04:39.634Z",
          "iopub.execute_input": "2020-06-30T07:04:39.639Z",
          "iopub.status.idle": "2020-06-30T07:04:40.794Z"
        }
      }
    },
    {
      "cell_type": "code",
      "source": [
        "M = NetMSA.createPeerMatrix(L)"
      ],
      "outputs": [
        {
          "output_type": "execute_result",
          "execution_count": 3,
          "data": {
            "text/plain": [
              "8×4 Array{Union{Missing, Char},2}:\n",
              " 'a'  'a'      'a'      'a'\n",
              " 'b'  'c'      'b'      'b'\n",
              " 'c'  'b'      'c'      'c'\n",
              " 'b'  'c'      'h'      'b'\n",
              " 'c'  'f'      'i'      'c'\n",
              " 'd'  'g'      'm'      'j'\n",
              " 'e'  missing  'n'      'k'\n",
              " 'm'  missing  missing  'm'"
            ]
          },
          "metadata": {}
        }
      ],
      "execution_count": 3,
      "metadata": {
        "collapsed": true,
        "jupyter": {
          "source_hidden": false,
          "outputs_hidden": false
        },
        "nteract": {
          "transient": {
            "deleting": false
          }
        },
        "execution": {
          "iopub.status.busy": "2020-06-30T07:04:40.805Z",
          "iopub.execute_input": "2020-06-30T07:04:40.812Z",
          "iopub.status.idle": "2020-06-30T07:04:41.936Z"
        }
      }
    },
    {
      "cell_type": "code",
      "source": [
        "mutable struct Position \n",
        "  row::Int64\n",
        "  indexes::Vector{Int64}\n",
        "end\n",
        "\n",
        "mutable struct Particle\n",
        "  value::Char\n",
        "  updated::Int64\n",
        "  pos::Position\n",
        "  best::Position\n",
        "  bestvalue::Float64\n",
        "  \n",
        "  function Particle(value::Char, pos::Position)\n",
        "    return new(value, 0, pos, pos, 0.0)\n",
        "  end\n",
        "end"
      ],
      "outputs": [],
      "execution_count": 4,
      "metadata": {
        "collapsed": true,
        "jupyter": {
          "source_hidden": false,
          "outputs_hidden": false
        },
        "nteract": {
          "transient": {
            "deleting": false
          }
        },
        "execution": {
          "iopub.status.busy": "2020-06-30T07:04:41.946Z",
          "iopub.execute_input": "2020-06-30T07:04:41.950Z",
          "iopub.status.idle": "2020-06-30T07:04:42.045Z"
        }
      }
    },
    {
      "cell_type": "code",
      "source": [
        "function getposition(value::T, rowindex::Int64, row::SubArray{T, 1}) where (T)\n",
        "  indexes = findall(i -> i == value, skipmissing(row))\n",
        "  return Position(rowindex, indexes);\n",
        "end\n",
        "\n",
        "r = collect(eachrow(M))\n",
        "@benchmark getposition('b', 2, r[2])\n"
      ],
      "outputs": [
        {
          "output_type": "execute_result",
          "execution_count": 33,
          "data": {
            "text/plain": [
              "BenchmarkTools.Trial: \n",
              "  memory estimate:  416 bytes\n",
              "  allocs estimate:  12\n",
              "  --------------\n",
              "  minimum time:     189.024 ns (0.00% GC)\n",
              "  median time:      228.659 ns (0.00% GC)\n",
              "  mean time:        342.172 ns (20.56% GC)\n",
              "  maximum time:     22.723 μs (95.02% GC)\n",
              "  --------------\n",
              "  samples:          10000\n",
              "  evals/sample:     656"
            ]
          },
          "metadata": {}
        }
      ],
      "execution_count": 33,
      "metadata": {
        "collapsed": true,
        "jupyter": {
          "source_hidden": false,
          "outputs_hidden": false
        },
        "nteract": {
          "transient": {
            "deleting": false
          }
        },
        "execution": {
          "iopub.status.busy": "2020-06-30T07:17:40.651Z",
          "iopub.execute_input": "2020-06-30T07:17:40.661Z",
          "iopub.status.idle": "2020-06-30T07:17:44.108Z"
        }
      }
    },
    {
      "cell_type": "code",
      "source": [
        "function getposition(value::T, rowindex::Int64, row::Array{T, 1}) where (T)\n",
        "  indexes = findall(i -> i == value, skipmissing(row))\n",
        "  return Position(rowindex, indexes);\n",
        "end\n",
        "\n",
        "@benchmark getposition('b', 2, M[2, :])"
      ],
      "outputs": [
        {
          "output_type": "execute_result",
          "execution_count": 35,
          "data": {
            "text/plain": [
              "BenchmarkTools.Trial: \n",
              "  memory estimate:  544 bytes\n",
              "  allocs estimate:  14\n",
              "  --------------\n",
              "  minimum time:     569.892 ns (0.00% GC)\n",
              "  median time:      658.065 ns (0.00% GC)\n",
              "  mean time:        887.365 ns (12.01% GC)\n",
              "  maximum time:     60.381 μs (97.84% GC)\n",
              "  --------------\n",
              "  samples:          10000\n",
              "  evals/sample:     186"
            ]
          },
          "metadata": {}
        }
      ],
      "execution_count": 35,
      "metadata": {
        "collapsed": true,
        "jupyter": {
          "source_hidden": false,
          "outputs_hidden": false
        },
        "nteract": {
          "transient": {
            "deleting": false
          }
        },
        "execution": {
          "iopub.status.busy": "2020-06-30T07:17:47.159Z",
          "iopub.execute_input": "2020-06-30T07:17:47.170Z",
          "iopub.status.idle": "2020-06-30T07:17:50.234Z"
        }
      }
    },
    {
      "cell_type": "code",
      "source": [
        "function getposition(value::T, rowindex::Int64, matrix::Matrix{T}) where (T)\n",
        "  indexes = findall(i -> i == value, skipmissing(matrix[rowindex, :]))\n",
        "  return Position(rowindex, indexes);\n",
        "end\n",
        "\n",
        "@benchmark getposition('b', 2, M)"
      ],
      "outputs": [
        {
          "output_type": "execute_result",
          "execution_count": 36,
          "data": {
            "text/plain": [
              "BenchmarkTools.Trial: \n",
              "  memory estimate:  528 bytes\n",
              "  allocs estimate:  13\n",
              "  --------------\n",
              "  minimum time:     204.665 ns (0.00% GC)\n",
              "  median time:      242.000 ns (0.00% GC)\n",
              "  mean time:        385.117 ns (25.78% GC)\n",
              "  maximum time:     19.744 μs (98.72% GC)\n",
              "  --------------\n",
              "  samples:          10000\n",
              "  evals/sample:     600"
            ]
          },
          "metadata": {}
        }
      ],
      "execution_count": 36,
      "metadata": {
        "collapsed": true,
        "jupyter": {
          "source_hidden": false,
          "outputs_hidden": false
        },
        "nteract": {
          "transient": {
            "deleting": false
          }
        },
        "execution": {
          "iopub.status.busy": "2020-06-30T07:17:50.245Z",
          "iopub.execute_input": "2020-06-30T07:17:50.256Z",
          "iopub.status.idle": "2020-06-30T07:17:53.836Z"
        }
      }
    },
    {
      "cell_type": "code",
      "source": [],
      "outputs": [],
      "execution_count": null,
      "metadata": {
        "collapsed": true,
        "jupyter": {
          "source_hidden": false,
          "outputs_hidden": false
        },
        "nteract": {
          "transient": {
            "deleting": false
          }
        }
      }
    },
    {
      "cell_type": "code",
      "source": [
        "function getposition(index::Int64, row, value)\n",
        "  indexes = findall(i -> i == value, skipmissing(row))\n",
        "  return Position(index, indexes);\n",
        "end\n",
        "\n",
        "function mostfrequent(row)\n",
        "  counts = countmap(row);\n",
        "  delete!(counts, '-');\n",
        "#   println(row)\n",
        "#   println(counts)\n",
        "  max = isempty(counts) ? 0 : findmax(counts);\n",
        "  return max;\n",
        "end\n",
        "\n",
        "function aligned(row)::Bool\n",
        "  row = Set(row)\n",
        "  return (length(row) == 1 && !(missing in row)) || (length(row) == 2 && ('-' in row || missing in row))\n",
        "end\n",
        "\n",
        "function full(row)::Bool\n",
        "  return length(Set(row)) == 1 && !(missing in Set(row))\n",
        "end\n",
        "\n",
        "function weight(row; w1=0.25, w2=0.5, w3=1.0)\n",
        "  if length(Set(skipmissing(row))) == 0\n",
        "    return 0;\n",
        "  end\n",
        "  if full(row)\n",
        "    return w3;\n",
        "  end\n",
        "  \n",
        "  c = length(row);\n",
        "  if c == 0\n",
        "    return 0;\n",
        "  end\n",
        "  max = mostfrequent(row)[1];\n",
        "  \n",
        "  if aligned(row)\n",
        "    return w2 * max / c;\n",
        "  else\n",
        "    x = max <= 1 ? 0 : max;\n",
        "    return w1 * x / c;\n",
        "  end\n",
        "end\n",
        "\n",
        "function objective(M, rowindex::Int; endindex::Int=0)\n",
        "  weights = sum(weight.(eachrow(M[rowindex:end, :])))\n",
        "  C = mostfrequent(M[rowindex, :])[1];\n",
        "  A = sum(aligned.(eachrow(M))[rowindex:end])\n",
        "  \n",
        "  endindex = endindex == 0 ? size(M)[1] : endindex;\n",
        "  if endindex > size(M)[1]\n",
        "    throw(ArgumentError(\"endind exceeds the matrix size\"));\n",
        "  end\n",
        "  counts = countmap(M[rowindex:endindex, :]);\n",
        "  Gaps = get(counts, '-', 0);\n",
        "  \n",
        "  \n",
        "  \n",
        "#   println(A)\n",
        "#   println(C)\n",
        "#   println(Gaps)\n",
        "#   println(weights)\n",
        "#   println(sum(weights))\n",
        "  \n",
        "  return weights * (A * C)/(1 + Gaps)\n",
        "end\n",
        "\n",
        "function createswarm(rowindex::Int64, row)\n",
        "  unique = Set(skipmissing(row))\n",
        "  swarm = Vector{Particle}(undef, length(unique))\n",
        "  for (i, c) in enumerate(unique)\n",
        "    swarm[i] = Particle(c, getposition(rowindex, row, c))\n",
        "  end\n",
        "  return swarm\n",
        "end\n",
        "\n",
        "function criteria3(p::Particle, M, newindex)\n",
        "#   display(newindex)\n",
        "#   display(M[newindex, :])\n",
        "#   display(length(p.pos.indexes) != length(getposition(newindex, M[newindex, :], p.value).indexes))\n",
        "  return length(p.pos.indexes) != length(getposition(newindex, M[newindex, :], p.value).indexes)\n",
        "end\n",
        "\n",
        "function criteria2(p::Particle)\n",
        "  return p.updated > 6;\n",
        "end\n",
        "\n",
        "function stopcriteria(p::Particle, M, t)\n",
        "  c3 = criteria3(p, M, t);\n",
        "  c2 = criteria2(p);\n",
        "  if c3\n",
        "    display(\"Terminating cause of criteria 3\")\n",
        "  elseif  c2\n",
        "    display(\"Terminating cause of criteria 2\")\n",
        "  end\n",
        "  return c3 || c2;\n",
        "end\n",
        "\n",
        "function remove_missing_rows(M)\n",
        "  return M[[length(Set(skipmissing(r))) != 0 for r in eachrow(M)], :]\n",
        "end"
      ],
      "outputs": [],
      "execution_count": null,
      "metadata": {
        "collapsed": true,
        "jupyter": {
          "source_hidden": false,
          "outputs_hidden": false
        },
        "nteract": {
          "transient": {
            "deleting": false
          }
        },
        "execution": {
          "iopub.status.busy": "2020-06-29T09:11:08.056Z",
          "iopub.execute_input": "2020-06-29T09:11:08.060Z",
          "iopub.status.idle": "2020-06-29T09:11:08.071Z"
        }
      }
    },
    {
      "cell_type": "code",
      "source": [
        "function flydown(p, M; stride=1)\n",
        "  notpcols = setdiff(collect(1:size(M, 2)), p.pos.indexes)\n",
        "  colsize = size(M, 2)\n",
        "  pos = p.pos\n",
        "  newrows = fill('-', (stride, colsize))\n",
        "  M = vcat(M[1:pos.row - 1, :], reshape(newrows, stride, colsize), M[pos.row:end, :])\n",
        "  display(M)\n",
        "  for i in collect(pos.row+stride:size(M, 1))\n",
        "    M[i-stride,notpcols] = M[i, notpcols]\n",
        "    M[i, notpcols] .= missing\n",
        "  end\n",
        "  display(M)\n",
        "  M = remove_missing_rows(M)\n",
        "  return M\n",
        "end\n",
        "\n",
        "N = copy(M)\n",
        "c = 'c'\n",
        "p = Particle(c, getposition(2, N[2, :], c))\n",
        "N = flydown(p, N, stride=3)"
      ],
      "outputs": [],
      "execution_count": null,
      "metadata": {
        "collapsed": true,
        "jupyter": {
          "source_hidden": false,
          "outputs_hidden": false
        },
        "nteract": {
          "transient": {
            "deleting": false
          }
        },
        "execution": {
          "iopub.status.busy": "2020-06-29T09:17:41.533Z",
          "iopub.execute_input": "2020-06-29T09:17:41.543Z",
          "iopub.status.idle": "2020-06-29T09:17:41.595Z"
        }
      }
    },
    {
      "cell_type": "code",
      "source": [
        "M"
      ],
      "outputs": [],
      "execution_count": null,
      "metadata": {
        "collapsed": true,
        "jupyter": {
          "source_hidden": false,
          "outputs_hidden": false
        },
        "nteract": {
          "transient": {
            "deleting": false
          }
        },
        "execution": {
          "iopub.status.busy": "2020-06-29T09:13:56.423Z",
          "iopub.execute_input": "2020-06-29T09:13:56.430Z",
          "iopub.status.idle": "2020-06-29T09:13:56.443Z"
        }
      }
    },
    {
      "cell_type": "code",
      "source": [
        "function rowalignment(r, M)\n",
        "  row = M[r, :];\n",
        "#   display(row);\n",
        "#   println(aligned(row))\n",
        "  if aligned(row)\n",
        "#     println(\"aligned\");\n",
        "    return nothing;\n",
        "  end\n",
        "  \n",
        "  swarm = createswarm(r, row);\n",
        "  \n",
        "  gₒ = g = swarm[1];\n",
        "  gₒvalue = gvalue = objective(M, r, endindex=r);\n",
        "  cols = size(row, 1)\n",
        "  \n",
        "  for p in swarm\n",
        "    \n",
        "    t = r;\n",
        "    N = copy(M);\n",
        "    \n",
        "    p.bestvalue = objective(M, r, endindex=t)\n",
        "#     display(\"Aligning $p\");\n",
        "#     display(N)\n",
        "#     display(p)\n",
        "    \n",
        "    missingp = setdiff(collect(1:size(N, 2)), p.pos.indexes)\n",
        "    maxlen = maximum([length(collect(skipmissing(col))) for col in eachcol(N[:, missingp])])\n",
        "    criteria1 = maxlen;\n",
        "    \n",
        "#     display(criteria1)\n",
        "    \n",
        "    while stopcriteria(p, N, t) != true && t < criteria1\n",
        "#       display(stopcriteria(p, N, t) != true)\n",
        "      t += 1;\n",
        "      p.updated += 1;\n",
        "     \n",
        "      N = flydown(p, N);\n",
        "#       display(N)\n",
        "      display(p)\n",
        "      score = objective(N, r);\n",
        "      display(score);\n",
        "#       display(p.bestvalue);\n",
        "      if score > p.bestvalue\n",
        "        p.bestvalue = score;\n",
        "        p.updated = 0;\n",
        "      end\n",
        "      \n",
        "      if score > gvalue\n",
        "        gvalue = score;\n",
        "        g = deepcopy(p);\n",
        "        g.best = getposition(t, N[t, :], p.value);\n",
        "        g.bestvalue = score;\n",
        "      end\n",
        "      \n",
        "      \n",
        "#       display(p)\n",
        "      \n",
        "    end\n",
        "  end\n",
        "  \n",
        "  if gvalue == gₒvalue\n",
        "    return nothing;\n",
        "  end\n",
        "  return g;\n",
        "end"
      ],
      "outputs": [],
      "execution_count": null,
      "metadata": {
        "collapsed": true,
        "jupyter": {
          "source_hidden": false,
          "outputs_hidden": false
        },
        "nteract": {
          "transient": {
            "deleting": false
          }
        },
        "execution": {
          "iopub.status.busy": "2020-06-29T09:09:59.575Z",
          "iopub.execute_input": "2020-06-29T09:09:59.585Z",
          "iopub.status.idle": "2020-06-29T09:09:59.598Z"
        }
      }
    },
    {
      "cell_type": "code",
      "source": [
        "N = copy(M)\n",
        "g = rowalignment(2, N)\n",
        "N = flydown(g, N, stride=g.best.row - g.pos.row)\n",
        "objective(N, 2)"
      ],
      "outputs": [],
      "execution_count": null,
      "metadata": {
        "collapsed": true,
        "jupyter": {
          "source_hidden": false,
          "outputs_hidden": false
        },
        "nteract": {
          "transient": {
            "deleting": false
          }
        },
        "execution": {
          "iopub.status.busy": "2020-06-29T09:12:15.802Z",
          "iopub.execute_input": "2020-06-29T09:12:15.811Z",
          "iopub.status.idle": "2020-06-29T09:12:16.464Z"
        }
      }
    },
    {
      "cell_type": "code",
      "source": [
        "g = rowalignment(3, N)\n",
        "# N = flydown(g, N, stride=g.best.row - g.pos.row)"
      ],
      "outputs": [],
      "execution_count": null,
      "metadata": {
        "collapsed": true,
        "jupyter": {
          "source_hidden": false,
          "outputs_hidden": false
        },
        "nteract": {
          "transient": {
            "deleting": false
          }
        },
        "execution": {
          "iopub.status.busy": "2020-06-29T09:10:03.101Z",
          "iopub.execute_input": "2020-06-29T09:10:03.105Z",
          "iopub.status.idle": "2020-06-29T09:10:03.109Z"
        }
      }
    },
    {
      "cell_type": "code",
      "source": [
        "g = rowalignment(4, N)\n",
        "N = flydown(g, N, stride=g.best.row - g.pos.row)"
      ],
      "outputs": [],
      "execution_count": null,
      "metadata": {
        "collapsed": true,
        "jupyter": {
          "source_hidden": false,
          "outputs_hidden": false
        },
        "nteract": {
          "transient": {
            "deleting": false
          }
        },
        "execution": {
          "iopub.status.busy": "2020-06-29T09:10:04.884Z",
          "iopub.execute_input": "2020-06-29T09:10:04.890Z",
          "iopub.status.idle": "2020-06-29T09:10:04.938Z"
        }
      }
    },
    {
      "cell_type": "code",
      "source": [
        "display(N)\n",
        "objective(N, 4)"
      ],
      "outputs": [],
      "execution_count": null,
      "metadata": {
        "collapsed": true,
        "jupyter": {
          "source_hidden": false,
          "outputs_hidden": false
        },
        "nteract": {
          "transient": {
            "deleting": false
          }
        },
        "execution": {
          "iopub.status.busy": "2020-06-29T09:11:23.102Z",
          "iopub.execute_input": "2020-06-29T09:11:23.106Z",
          "iopub.status.idle": "2020-06-29T09:11:23.122Z"
        }
      }
    },
    {
      "cell_type": "code",
      "source": [
        "function matrixalignment(M)\n",
        "  for (index, row) in enumerate(eachrow(M))\n",
        "  #   println(\"$index: $row\")\n",
        "    g = rowalignment(index, M) \n",
        "    if !isnothing(g)\n",
        "      M = flydown(g, M, stride=g.best.row - g.pos.row)\n",
        "    end\n",
        "  end\n",
        "  replace!(M, missing => '-')\n",
        "end\n",
        "matrixalignment(M)"
      ],
      "outputs": [],
      "execution_count": null,
      "metadata": {
        "collapsed": true,
        "jupyter": {
          "source_hidden": false,
          "outputs_hidden": false
        },
        "nteract": {
          "transient": {
            "deleting": false
          }
        },
        "execution": {
          "iopub.status.busy": "2020-06-29T09:22:18.737Z",
          "iopub.execute_input": "2020-06-29T09:22:18.744Z",
          "iopub.status.idle": "2020-06-29T09:22:18.806Z"
        }
      }
    },
    {
      "cell_type": "code",
      "source": [],
      "outputs": [],
      "execution_count": null,
      "metadata": {
        "collapsed": true,
        "jupyter": {
          "source_hidden": false,
          "outputs_hidden": false
        },
        "nteract": {
          "transient": {
            "deleting": false
          }
        },
        "execution": {
          "iopub.status.busy": "2020-06-27T07:47:03.281Z",
          "iopub.execute_input": "2020-06-27T07:47:03.289Z",
          "iopub.status.idle": "2020-06-27T07:47:03.302Z"
        }
      }
    },
    {
      "cell_type": "code",
      "source": [],
      "outputs": [],
      "execution_count": null,
      "metadata": {
        "collapsed": true,
        "jupyter": {
          "source_hidden": false,
          "outputs_hidden": false
        },
        "nteract": {
          "transient": {
            "deleting": false
          }
        }
      }
    }
  ],
  "metadata": {
    "kernel_info": {
      "name": "julia-1.3"
    },
    "language_info": {
      "file_extension": ".jl",
      "name": "julia",
      "mimetype": "application/julia",
      "version": "1.4.2"
    },
    "kernelspec": {
      "argv": [
        "C:\\Users\\aadim\\AppData\\Local\\Julia-1.3.1\\bin\\julia.exe",
        "-i",
        "--startup-file=yes",
        "--color=yes",
        "--project=@.",
        "C:\\Users\\aadim\\.julia\\packages\\IJulia\\yLI42\\src\\kernel.jl",
        "{connection_file}"
      ],
      "display_name": "Julia 1.3.1",
      "env": {},
      "interrupt_mode": "message",
      "language": "julia",
      "name": "julia-1.3"
    },
    "nteract": {
      "version": "0.23.3"
    }
  },
  "nbformat": 4,
  "nbformat_minor": 0
}
{
  "cells": [
    {
      "cell_type": "code",
      "source": [
        "using NetMSA\n",
        "using StatsBase"
      ],
      "outputs": [],
      "execution_count": 1,
      "metadata": {
        "collapsed": false,
        "jupyter": {
          "source_hidden": false,
          "outputs_hidden": false
        },
        "nteract": {
          "transient": {
            "deleting": false
          }
        },
        "execution": {
          "iopub.status.busy": "2020-06-26T17:02:40.835Z",
          "iopub.execute_input": "2020-06-26T17:02:41.698Z",
          "iopub.status.idle": "2020-06-26T17:02:42.681Z"
        }
      }
    },
    {
      "cell_type": "code",
      "source": [
        "S1 = \"abcbcdem\";\n",
        "S2 = \"acbcfg\";\n",
        "S3 = \"abchimn\";\n",
        "S4 = \"abcbcjkm\";\n",
        "\n",
        "L = [S1, S2, S3, S4]"
      ],
      "outputs": [
        {
          "output_type": "execute_result",
          "execution_count": 2,
          "data": {
            "text/plain": [
              "4-element Array{String,1}:\n",
              " \"abcbcdem\"\n",
              " \"acbcfg\"\n",
              " \"abchimn\"\n",
              " \"abcbcjkm\""
            ]
          },
          "metadata": {}
        }
      ],
      "execution_count": 2,
      "metadata": {
        "collapsed": true,
        "jupyter": {
          "source_hidden": false,
          "outputs_hidden": false
        },
        "nteract": {
          "transient": {
            "deleting": false
          }
        },
        "execution": {
          "iopub.status.busy": "2020-06-26T17:02:42.691Z",
          "iopub.execute_input": "2020-06-26T17:02:42.699Z",
          "iopub.status.idle": "2020-06-26T17:02:43.615Z"
        }
      }
    },
    {
      "cell_type": "code",
      "source": [
        "M = NetMSA.createPeerMatrix(L)"
      ],
      "outputs": [
        {
          "output_type": "execute_result",
          "execution_count": 3,
          "data": {
            "text/plain": [
              "8×4 Array{Union{Missing, Char},2}:\n",
              " 'a'  'a'      'a'      'a'\n",
              " 'b'  'c'      'b'      'b'\n",
              " 'c'  'b'      'c'      'c'\n",
              " 'b'  'c'      'h'      'b'\n",
              " 'c'  'f'      'i'      'c'\n",
              " 'd'  'g'      'm'      'j'\n",
              " 'e'  missing  'n'      'k'\n",
              " 'm'  missing  missing  'm'"
            ]
          },
          "metadata": {}
        }
      ],
      "execution_count": 3,
      "metadata": {
        "collapsed": true,
        "jupyter": {
          "source_hidden": false,
          "outputs_hidden": false
        },
        "nteract": {
          "transient": {
            "deleting": false
          }
        },
        "execution": {
          "iopub.status.busy": "2020-06-26T17:02:43.624Z",
          "iopub.execute_input": "2020-06-26T17:02:43.630Z",
          "iopub.status.idle": "2020-06-26T17:02:44.555Z"
        }
      }
    },
    {
      "cell_type": "code",
      "source": [
        "mutable struct Position \n",
        "  row::Int64\n",
        "  indexes::Set{Int64}\n",
        "end\n",
        "\n",
        "mutable struct Particle\n",
        "  value::Char\n",
        "  updated::Int64\n",
        "  pos::Position\n",
        "  best::Position\n",
        "  bestvalue::Float64\n",
        "  \n",
        "  function Particle(value::Char, pos::Position)\n",
        "    return new(value, 0, pos, pos, 0.0)\n",
        "  end\n",
        "end"
      ],
      "outputs": [],
      "execution_count": 5,
      "metadata": {
        "collapsed": true,
        "jupyter": {
          "source_hidden": false,
          "outputs_hidden": false
        },
        "nteract": {
          "transient": {
            "deleting": false
          }
        },
        "execution": {
          "iopub.status.busy": "2020-06-26T17:04:23.517Z",
          "iopub.execute_input": "2020-06-26T17:04:23.522Z",
          "iopub.status.idle": "2020-06-26T17:04:23.531Z"
        }
      }
    },
    {
      "cell_type": "code",
      "source": [
        "function getposition(index::Int64, row, value)\n",
        "  indexes = findall(i -> !ismissing(i) && i == value, row)\n",
        "  return Position(index, Set(indexes));\n",
        "end"
      ],
      "outputs": [
        {
          "output_type": "execute_result",
          "execution_count": 8,
          "data": {
            "text/plain": [
              "getposition (generic function with 1 method)"
            ]
          },
          "metadata": {}
        }
      ],
      "execution_count": 8,
      "metadata": {
        "collapsed": true,
        "jupyter": {
          "source_hidden": false,
          "outputs_hidden": false
        },
        "nteract": {
          "transient": {
            "deleting": false
          }
        },
        "execution": {
          "iopub.status.busy": "2020-06-26T17:04:51.136Z",
          "iopub.execute_input": "2020-06-26T17:04:51.140Z",
          "iopub.status.idle": "2020-06-26T17:04:51.153Z"
        }
      }
    },
    {
      "cell_type": "code",
      "source": [
        "Particle('b', getposition(2, M[2,:], 'b'))"
      ],
      "outputs": [
        {
          "output_type": "execute_result",
          "execution_count": 9,
          "data": {
            "text/plain": [
              "Particle('b', 0, Position(2, Set([4, 3, 1])), Position(2, Set([4, 3, 1])), 0.0)"
            ]
          },
          "metadata": {}
        }
      ],
      "execution_count": 9,
      "metadata": {
        "collapsed": true,
        "jupyter": {
          "source_hidden": false,
          "outputs_hidden": false
        },
        "nteract": {
          "transient": {
            "deleting": false
          }
        },
        "execution": {
          "iopub.status.busy": "2020-06-26T17:04:51.897Z",
          "iopub.execute_input": "2020-06-26T17:04:51.903Z",
          "iopub.status.idle": "2020-06-26T17:04:52.297Z"
        }
      }
    },
    {
      "cell_type": "code",
      "source": [],
      "outputs": [],
      "execution_count": null,
      "metadata": {
        "collapsed": true,
        "jupyter": {
          "source_hidden": false,
          "outputs_hidden": false
        },
        "nteract": {
          "transient": {
            "deleting": false
          }
        }
      }
    },
    {
      "cell_type": "code",
      "source": [
        "function createSwarm(rowIndex::Int64, row)\n",
        "  unique = Set(row)\n",
        "  println(unique)\n",
        "end\n",
        "\n",
        "function mostfrequent(row)\n",
        "  counts = countmap(row);\n",
        "  delete!(counts, '-');\n",
        "  max = findmax(counts);\n",
        "  return max;\n",
        "end\n",
        "\n",
        "function aligned(row)::Bool\n",
        "  row = Set(row)\n",
        "  return length(row) == 1 || (length(row) == 2 && ('-' in row || missing in row))\n",
        "end\n",
        "\n",
        "function full(row)::Bool\n",
        "  return length(Set(row)) == 1\n",
        "end\n",
        "\n",
        "function weight(row; w1=0.25, w2=0.5, w3=1.0)\n",
        "  if full(row)\n",
        "    return w3;\n",
        "  end\n",
        "  \n",
        "  max = mostfrequent(row)[1];\n",
        "  c = length(row);\n",
        "  if aligned(row)\n",
        "    return w2 * max / c;\n",
        "  else\n",
        "    x = max == 1 ? 0 : max;\n",
        "    return w1 * x / c;\n",
        "  end\n",
        "end"
      ],
      "outputs": [
        {
          "output_type": "execute_result",
          "execution_count": 10,
          "data": {
            "text/plain": [
              "weight (generic function with 1 method)"
            ]
          },
          "metadata": {}
        }
      ],
      "execution_count": 10,
      "metadata": {
        "collapsed": true,
        "jupyter": {
          "source_hidden": false,
          "outputs_hidden": false
        },
        "nteract": {
          "transient": {
            "deleting": false
          }
        },
        "execution": {
          "iopub.status.busy": "2020-06-26T17:05:10.236Z",
          "iopub.execute_input": "2020-06-26T17:05:10.243Z",
          "iopub.status.idle": "2020-06-26T17:05:10.330Z"
        }
      }
    },
    {
      "cell_type": "code",
      "source": [
        "function objective(M, rowindex::Int; endindex::Int=0)\n",
        "  weights = sum(weight.(eachrow(M[rowindex:end, :])))\n",
        "  C = mostfrequent(M[rowindex, :])[1];\n",
        "  A = sum(aligned.(eachrow(M))[rowindex:end])\n",
        "  \n",
        "  endindex = endindex == 0 ? size(M)[1] : endindex;\n",
        "  if endindex > size(M)[1]\n",
        "    throw(ArgumentError(\"endind exceeds the matrix size\"));\n",
        "  end\n",
        "  counts = countmap(M[rowindex:endindex, :]);\n",
        "  Gaps = get(counts, '-', 0);\n",
        "  \n",
        "  return weights * (A * C)/(1 + Gaps)\n",
        "end"
      ],
      "outputs": [
        {
          "output_type": "execute_result",
          "execution_count": 11,
          "data": {
            "text/plain": [
              "objective (generic function with 1 method)"
            ]
          },
          "metadata": {}
        }
      ],
      "execution_count": 11,
      "metadata": {
        "collapsed": true,
        "jupyter": {
          "source_hidden": false,
          "outputs_hidden": false
        },
        "nteract": {
          "transient": {
            "deleting": false
          }
        },
        "execution": {
          "iopub.status.busy": "2020-06-26T17:05:12.180Z",
          "iopub.execute_input": "2020-06-26T17:05:12.187Z",
          "iopub.status.idle": "2020-06-26T17:05:12.233Z"
        }
      }
    },
    {
      "cell_type": "code",
      "source": [
        "for (index, row) in enumerate(eachrow(M))\n",
        "#   println(\"$index: $row\")\n",
        "  createSwarm(index, row)\n",
        "  println(weight(row))\n",
        "end"
      ],
      "outputs": [],
      "execution_count": null,
      "metadata": {
        "collapsed": true,
        "jupyter": {
          "source_hidden": false,
          "outputs_hidden": false
        },
        "nteract": {
          "transient": {
            "deleting": false
          }
        },
        "execution": {
          "iopub.status.busy": "2020-06-26T06:39:47.110Z",
          "iopub.execute_input": "2020-06-26T06:39:47.115Z",
          "iopub.status.idle": "2020-06-26T06:39:47.155Z"
        }
      }
    },
    {
      "cell_type": "code",
      "source": [
        "objective(M, 2)"
      ],
      "outputs": [],
      "execution_count": null,
      "metadata": {
        "collapsed": true,
        "jupyter": {
          "source_hidden": false,
          "outputs_hidden": false
        },
        "nteract": {
          "transient": {
            "deleting": false
          }
        },
        "execution": {
          "iopub.status.busy": "2020-06-26T16:26:20.466Z",
          "iopub.execute_input": "2020-06-26T16:26:20.472Z",
          "iopub.status.idle": "2020-06-26T16:26:21.205Z"
        }
      }
    },
    {
      "cell_type": "code",
      "source": [
        "function criteria3(p::Particle, newrow)\n",
        "  return length(p.pos.indexes) != length(getposition(p.pos.row+1, newrow, p.value).indexes)\n",
        "end\n",
        "\n",
        "function criteria2(p::Particle)\n",
        "  return p.bestvalue > 6;\n",
        "end\n",
        "\n",
        "function stopcriteria(p::Particle, M)\n",
        "  return criteria3(p, M[p.pos.row + 1, :]) || criteria2(p);\n",
        "end"
      ],
      "outputs": [
        {
          "output_type": "execute_result",
          "execution_count": 48,
          "data": {
            "text/plain": [
              "stopcriteria (generic function with 1 method)"
            ]
          },
          "metadata": {}
        }
      ],
      "execution_count": 48,
      "metadata": {
        "collapsed": true,
        "jupyter": {
          "source_hidden": false,
          "outputs_hidden": false
        },
        "nteract": {
          "transient": {
            "deleting": false
          }
        },
        "execution": {
          "iopub.status.busy": "2020-06-26T17:22:48.291Z",
          "iopub.execute_input": "2020-06-26T17:22:48.299Z",
          "iopub.status.idle": "2020-06-26T17:22:48.310Z"
        }
      }
    },
    {
      "cell_type": "code",
      "source": [
        "p = Particle('b', getposition(2, M[2, :], 'b'))"
      ],
      "outputs": [
        {
          "output_type": "execute_result",
          "execution_count": 13,
          "data": {
            "text/plain": [
              "Particle('b', 0, Position(2, Set([4, 3, 1])), Position(2, Set([4, 3, 1])), 0.0)"
            ]
          },
          "metadata": {}
        }
      ],
      "execution_count": 13,
      "metadata": {
        "collapsed": true,
        "jupyter": {
          "source_hidden": false,
          "outputs_hidden": false
        },
        "nteract": {
          "transient": {
            "deleting": false
          }
        },
        "execution": {
          "iopub.status.busy": "2020-06-26T17:08:23.108Z",
          "iopub.execute_input": "2020-06-26T17:08:23.114Z",
          "iopub.status.idle": "2020-06-26T17:08:23.124Z"
        }
      }
    },
    {
      "cell_type": "code",
      "source": [],
      "outputs": [
        {
          "output_type": "execute_result",
          "execution_count": 14,
          "data": {
            "text/plain": [
              "true"
            ]
          },
          "metadata": {}
        }
      ],
      "execution_count": 14,
      "metadata": {
        "collapsed": true,
        "jupyter": {
          "source_hidden": false,
          "outputs_hidden": false
        },
        "nteract": {
          "transient": {
            "deleting": false
          }
        },
        "execution": {
          "iopub.status.busy": "2020-06-26T17:08:23.787Z",
          "iopub.execute_input": "2020-06-26T17:08:23.793Z",
          "iopub.status.idle": "2020-06-26T17:08:23.995Z"
        }
      }
    },
    {
      "cell_type": "code",
      "source": [
        "maximum([length(collect(skipmissing(col))) for col in eachcol(M)])"
      ],
      "outputs": [
        {
          "output_type": "execute_result",
          "execution_count": 47,
          "data": {
            "text/plain": [
              "8"
            ]
          },
          "metadata": {}
        }
      ],
      "execution_count": 47,
      "metadata": {
        "collapsed": true,
        "jupyter": {
          "source_hidden": false,
          "outputs_hidden": false
        },
        "nteract": {
          "transient": {
            "deleting": false
          }
        },
        "execution": {
          "iopub.status.busy": "2020-06-26T17:21:28.742Z",
          "iopub.execute_input": "2020-06-26T17:21:28.751Z",
          "iopub.status.idle": "2020-06-26T17:21:28.761Z"
        }
      }
    },
    {
      "cell_type": "code",
      "source": [],
      "outputs": [],
      "execution_count": null,
      "metadata": {
        "collapsed": true,
        "jupyter": {
          "source_hidden": false,
          "outputs_hidden": false
        },
        "nteract": {
          "transient": {
            "deleting": false
          }
        },
        "execution": {
          "iopub.status.busy": "2020-06-26T13:36:34.039Z",
          "iopub.execute_input": "2020-06-26T13:36:34.046Z",
          "iopub.status.idle": "2020-06-26T13:36:34.515Z"
        }
      }
    },
    {
      "cell_type": "code",
      "source": [],
      "outputs": [],
      "execution_count": null,
      "metadata": {
        "collapsed": true,
        "jupyter": {
          "source_hidden": false,
          "outputs_hidden": false
        },
        "nteract": {
          "transient": {
            "deleting": false
          }
        },
        "execution": {
          "iopub.status.busy": "2020-06-26T16:26:35.398Z",
          "iopub.execute_input": "2020-06-26T16:26:35.405Z",
          "iopub.status.idle": "2020-06-26T16:26:35.460Z"
        }
      }
    },
    {
      "cell_type": "code",
      "source": [],
      "outputs": [],
      "execution_count": null,
      "metadata": {
        "collapsed": true,
        "jupyter": {
          "source_hidden": false,
          "outputs_hidden": false
        },
        "nteract": {
          "transient": {
            "deleting": false
          }
        },
        "execution": {
          "iopub.status.busy": "2020-06-26T13:37:09.967Z",
          "iopub.execute_input": "2020-06-26T13:37:09.971Z",
          "iopub.status.idle": "2020-06-26T13:37:09.980Z"
        }
      }
    },
    {
      "cell_type": "code",
      "source": [],
      "outputs": [],
      "execution_count": null,
      "metadata": {
        "collapsed": true,
        "jupyter": {
          "source_hidden": false,
          "outputs_hidden": false
        },
        "nteract": {
          "transient": {
            "deleting": false
          }
        },
        "execution": {
          "iopub.status.busy": "2020-06-26T07:30:35.766Z",
          "iopub.execute_input": "2020-06-26T07:30:35.772Z",
          "iopub.status.idle": "2020-06-26T07:30:35.782Z"
        }
      }
    },
    {
      "cell_type": "code",
      "source": [],
      "outputs": [],
      "execution_count": null,
      "metadata": {
        "collapsed": true,
        "jupyter": {
          "source_hidden": false,
          "outputs_hidden": false
        },
        "nteract": {
          "transient": {
            "deleting": false
          }
        },
        "execution": {
          "iopub.status.busy": "2020-06-26T09:58:21.945Z",
          "iopub.execute_input": "2020-06-26T09:58:21.950Z",
          "iopub.status.idle": "2020-06-26T09:58:21.964Z"
        }
      }
    },
    {
      "cell_type": "code",
      "source": [],
      "outputs": [],
      "execution_count": null,
      "metadata": {
        "collapsed": true,
        "jupyter": {
          "source_hidden": false,
          "outputs_hidden": false
        },
        "nteract": {
          "transient": {
            "deleting": false
          }
        },
        "execution": {
          "iopub.status.busy": "2020-06-26T09:59:51.742Z",
          "iopub.execute_input": "2020-06-26T09:59:51.748Z",
          "iopub.status.idle": "2020-06-26T09:59:51.807Z"
        }
      }
    },
    {
      "cell_type": "code",
      "source": [],
      "outputs": [],
      "execution_count": null,
      "metadata": {
        "collapsed": true,
        "jupyter": {
          "source_hidden": false,
          "outputs_hidden": false
        },
        "nteract": {
          "transient": {
            "deleting": false
          }
        },
        "execution": {
          "iopub.status.busy": "2020-06-26T13:20:43.212Z",
          "iopub.execute_input": "2020-06-26T13:20:43.218Z",
          "iopub.status.idle": "2020-06-26T13:20:43.927Z"
        }
      }
    },
    {
      "cell_type": "code",
      "source": [
        "N = copy(M)"
      ],
      "outputs": [],
      "execution_count": null,
      "metadata": {
        "collapsed": true,
        "jupyter": {
          "source_hidden": false,
          "outputs_hidden": false
        },
        "nteract": {
          "transient": {
            "deleting": false
          }
        },
        "execution": {
          "iopub.status.busy": "2020-06-26T14:45:46.418Z",
          "iopub.execute_input": "2020-06-26T14:45:46.424Z",
          "iopub.status.idle": "2020-06-26T14:45:46.438Z"
        }
      }
    },
    {
      "cell_type": "code",
      "source": [
        "N[1, 2] = 'c'"
      ],
      "outputs": [],
      "execution_count": null,
      "metadata": {
        "collapsed": true,
        "jupyter": {
          "source_hidden": false,
          "outputs_hidden": false
        },
        "nteract": {
          "transient": {
            "deleting": false
          }
        },
        "execution": {
          "iopub.status.busy": "2020-06-26T14:45:50.254Z",
          "iopub.execute_input": "2020-06-26T14:45:50.260Z",
          "iopub.status.idle": "2020-06-26T14:45:50.276Z"
        }
      }
    },
    {
      "cell_type": "code",
      "source": [
        "N"
      ],
      "outputs": [],
      "execution_count": null,
      "metadata": {
        "collapsed": true,
        "jupyter": {
          "source_hidden": false,
          "outputs_hidden": false
        },
        "nteract": {
          "transient": {
            "deleting": false
          }
        },
        "execution": {
          "iopub.status.busy": "2020-06-26T14:45:50.754Z",
          "iopub.execute_input": "2020-06-26T14:45:50.761Z",
          "iopub.status.idle": "2020-06-26T14:45:50.771Z"
        }
      }
    },
    {
      "cell_type": "code",
      "source": [
        "M"
      ],
      "outputs": [],
      "execution_count": null,
      "metadata": {
        "collapsed": true,
        "jupyter": {
          "source_hidden": false,
          "outputs_hidden": false
        },
        "nteract": {
          "transient": {
            "deleting": false
          }
        },
        "execution": {
          "iopub.status.busy": "2020-06-26T14:45:52.018Z",
          "iopub.execute_input": "2020-06-26T14:45:52.024Z",
          "iopub.status.idle": "2020-06-26T14:45:52.034Z"
        }
      }
    },
    {
      "cell_type": "code",
      "source": [],
      "outputs": [],
      "execution_count": null,
      "metadata": {
        "collapsed": true,
        "jupyter": {
          "source_hidden": false,
          "outputs_hidden": false
        },
        "nteract": {
          "transient": {
            "deleting": false
          }
        }
      }
    }
  ],
  "metadata": {
    "kernel_info": {
      "name": "julia-1.3"
    },
    "language_info": {
      "file_extension": ".jl",
      "name": "julia",
      "mimetype": "application/julia",
      "version": "1.4.2"
    },
    "kernelspec": {
      "argv": [
        "C:\\Users\\aadim\\AppData\\Local\\Julia-1.3.1\\bin\\julia.exe",
        "-i",
        "--startup-file=yes",
        "--color=yes",
        "--project=@.",
        "C:\\Users\\aadim\\.julia\\packages\\IJulia\\yLI42\\src\\kernel.jl",
        "{connection_file}"
      ],
      "display_name": "Julia 1.3.1",
      "env": {},
      "interrupt_mode": "message",
      "language": "julia",
      "name": "julia-1.3"
    },
    "nteract": {
      "version": "0.23.3"
    }
  },
  "nbformat": 4,
  "nbformat_minor": 0
}
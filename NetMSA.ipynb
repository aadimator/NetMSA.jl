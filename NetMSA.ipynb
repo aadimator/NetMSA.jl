{
  "cells": [
    {
      "cell_type": "code",
      "source": [
        "using NetMSA\n",
        "using StatsBase"
      ],
      "outputs": [],
      "execution_count": 2,
      "metadata": {
        "collapsed": false,
        "jupyter": {
          "source_hidden": false,
          "outputs_hidden": false
        },
        "nteract": {
          "transient": {
            "deleting": false
          }
        },
        "execution": {
          "iopub.status.busy": "2020-06-29T09:05:59.902Z",
          "iopub.execute_input": "2020-06-29T09:05:59.908Z",
          "iopub.status.idle": "2020-06-29T09:05:59.915Z"
        }
      }
    },
    {
      "cell_type": "code",
      "source": [
        "S1 = \"abcbcdem\";\n",
        "S2 = \"acbcfg\";\n",
        "S3 = \"abchimn\";\n",
        "S4 = \"abcbcjkm\";\n",
        "\n",
        "L = [S1, S2, S3, S4]"
      ],
      "outputs": [
        {
          "output_type": "execute_result",
          "execution_count": 3,
          "data": {
            "text/plain": [
              "4-element Array{String,1}:\n",
              " \"abcbcdem\"\n",
              " \"acbcfg\"\n",
              " \"abchimn\"\n",
              " \"abcbcjkm\""
            ]
          },
          "metadata": {}
        }
      ],
      "execution_count": 3,
      "metadata": {
        "collapsed": true,
        "jupyter": {
          "source_hidden": false,
          "outputs_hidden": false
        },
        "nteract": {
          "transient": {
            "deleting": false
          }
        },
        "execution": {
          "iopub.status.busy": "2020-06-29T09:06:00.526Z",
          "iopub.execute_input": "2020-06-29T09:06:00.533Z",
          "iopub.status.idle": "2020-06-29T09:06:01.582Z"
        }
      }
    },
    {
      "cell_type": "code",
      "source": [
        "M = NetMSA.createPeerMatrix(L)"
      ],
      "outputs": [
        {
          "output_type": "execute_result",
          "execution_count": 4,
          "data": {
            "text/plain": [
              "8×4 Array{Union{Missing, Char},2}:\n",
              " 'a'  'a'      'a'      'a'\n",
              " 'b'  'c'      'b'      'b'\n",
              " 'c'  'b'      'c'      'c'\n",
              " 'b'  'c'      'h'      'b'\n",
              " 'c'  'f'      'i'      'c'\n",
              " 'd'  'g'      'm'      'j'\n",
              " 'e'  missing  'n'      'k'\n",
              " 'm'  missing  missing  'm'"
            ]
          },
          "metadata": {}
        }
      ],
      "execution_count": 4,
      "metadata": {
        "collapsed": true,
        "jupyter": {
          "source_hidden": false,
          "outputs_hidden": false
        },
        "nteract": {
          "transient": {
            "deleting": false
          }
        },
        "execution": {
          "iopub.status.busy": "2020-06-29T09:06:01.591Z",
          "iopub.execute_input": "2020-06-29T09:06:01.597Z",
          "iopub.status.idle": "2020-06-29T09:06:02.638Z"
        }
      }
    },
    {
      "cell_type": "code",
      "source": [
        "mutable struct Position \n",
        "  row::Int64\n",
        "  indexes::Vector{Int64}\n",
        "end\n",
        "\n",
        "mutable struct Particle\n",
        "  value::Char\n",
        "  updated::Int64\n",
        "  pos::Position\n",
        "  best::Position\n",
        "  bestvalue::Float64\n",
        "  \n",
        "  function Particle(value::Char, pos::Position)\n",
        "    return new(value, 0, pos, pos, 0.0)\n",
        "  end\n",
        "end"
      ],
      "outputs": [],
      "execution_count": 5,
      "metadata": {
        "collapsed": true,
        "jupyter": {
          "source_hidden": false,
          "outputs_hidden": false
        },
        "nteract": {
          "transient": {
            "deleting": false
          }
        },
        "execution": {
          "iopub.status.busy": "2020-06-29T09:06:02.650Z",
          "iopub.execute_input": "2020-06-29T09:06:02.657Z",
          "iopub.status.idle": "2020-06-29T09:06:02.736Z"
        }
      }
    },
    {
      "cell_type": "code",
      "source": [
        "function getposition(index::Int64, row, value)\n",
        "  indexes = findall(i -> i == value, skipmissing(row))\n",
        "  return Position(index, indexes);\n",
        "end\n",
        "\n",
        "function mostfrequent(row)\n",
        "  counts = countmap(row);\n",
        "  delete!(counts, '-');\n",
        "#   println(row)\n",
        "#   println(counts)\n",
        "  max = isempty(counts) ? 0 : findmax(counts);\n",
        "  return max;\n",
        "end\n",
        "\n",
        "function aligned(row)::Bool\n",
        "  row = Set(row)\n",
        "  return (length(row) == 1 && !(missing in row)) || (length(row) == 2 && ('-' in row || missing in row))\n",
        "end\n",
        "\n",
        "function full(row)::Bool\n",
        "  return length(Set(row)) == 1 && !(missing in Set(row))\n",
        "end\n",
        "\n",
        "function weight(row; w1=0.25, w2=0.5, w3=1.0)\n",
        "  if length(Set(skipmissing(row))) == 0\n",
        "    return 0;\n",
        "  end\n",
        "  if full(row)\n",
        "    return w3;\n",
        "  end\n",
        "  \n",
        "  c = length(row);\n",
        "  if c == 0\n",
        "    return 0;\n",
        "  end\n",
        "  max = mostfrequent(row)[1];\n",
        "  \n",
        "  if aligned(row)\n",
        "    return w2 * max / c;\n",
        "  else\n",
        "    x = max <= 1 ? 0 : max;\n",
        "    return w1 * x / c;\n",
        "  end\n",
        "end\n",
        "\n",
        "function objective(M, rowindex::Int; endindex::Int=0)\n",
        "  weights = sum(weight.(eachrow(M[rowindex:end, :])))\n",
        "  C = mostfrequent(M[rowindex, :])[1];\n",
        "  A = sum(aligned.(eachrow(M))[rowindex:end])\n",
        "  \n",
        "  endindex = endindex == 0 ? size(M)[1] : endindex;\n",
        "  if endindex > size(M)[1]\n",
        "    throw(ArgumentError(\"endind exceeds the matrix size\"));\n",
        "  end\n",
        "  counts = countmap(M[rowindex:endindex, :]);\n",
        "  Gaps = get(counts, '-', 0);\n",
        "  \n",
        "  \n",
        "  \n",
        "#   println(A)\n",
        "#   println(C)\n",
        "#   println(Gaps)\n",
        "#   println(weights)\n",
        "#   println(sum(weights))\n",
        "  \n",
        "  return weights * (A * C)/(1 + Gaps)\n",
        "end\n",
        "\n",
        "function createswarm(rowindex::Int64, row)\n",
        "  unique = Set(skipmissing(row))\n",
        "  swarm = Vector{Particle}(undef, length(unique))\n",
        "  for (i, c) in enumerate(unique)\n",
        "    swarm[i] = Particle(c, getposition(rowindex, row, c))\n",
        "  end\n",
        "  return swarm\n",
        "end\n",
        "\n",
        "function criteria3(p::Particle, M, newindex)\n",
        "#   display(newindex)\n",
        "#   display(M[newindex, :])\n",
        "#   display(length(p.pos.indexes) != length(getposition(newindex, M[newindex, :], p.value).indexes))\n",
        "  return length(p.pos.indexes) != length(getposition(newindex, M[newindex, :], p.value).indexes)\n",
        "end\n",
        "\n",
        "function criteria2(p::Particle)\n",
        "  return p.updated > 6;\n",
        "end\n",
        "\n",
        "function stopcriteria(p::Particle, M, t)\n",
        "  c3 = criteria3(p, M, t);\n",
        "  c2 = criteria2(p);\n",
        "  if c3\n",
        "    display(\"Terminating cause of criteria 3\")\n",
        "  elseif  c2\n",
        "    display(\"Terminating cause of criteria 2\")\n",
        "  end\n",
        "  return c3 || c2;\n",
        "end\n",
        "\n",
        "function remove_missing_rows(M)\n",
        "  return M[[length(Set(skipmissing(r))) != 0 for r in eachrow(M)], :]\n",
        "end"
      ],
      "outputs": [
        {
          "output_type": "execute_result",
          "execution_count": 21,
          "data": {
            "text/plain": [
              "remove_missing_rows (generic function with 1 method)"
            ]
          },
          "metadata": {}
        }
      ],
      "execution_count": 21,
      "metadata": {
        "collapsed": true,
        "jupyter": {
          "source_hidden": false,
          "outputs_hidden": false
        },
        "nteract": {
          "transient": {
            "deleting": false
          }
        },
        "execution": {
          "iopub.status.busy": "2020-06-29T09:11:08.056Z",
          "iopub.execute_input": "2020-06-29T09:11:08.060Z",
          "iopub.status.idle": "2020-06-29T09:11:08.071Z"
        }
      }
    },
    {
      "cell_type": "code",
      "source": [
        "function flydown(p, M; stride=1)\n",
        "  notpcols = setdiff(collect(1:size(M, 2)), p.pos.indexes)\n",
        "  colsize = size(M, 2)\n",
        "  pos = p.pos\n",
        "  newrows = fill('-', (stride, colsize))\n",
        "  M = vcat(M[1:pos.row - 1, :], reshape(newrows, stride, colsize), M[pos.row:end, :])\n",
        "  display(M)\n",
        "  for i in collect(pos.row+stride:size(M, 1))\n",
        "    M[i-stride,notpcols] = M[i, notpcols]\n",
        "    M[i, notpcols] .= missing\n",
        "  end\n",
        "  display(M)\n",
        "  M = remove_missing_rows(M)\n",
        "  return M\n",
        "end\n",
        "\n",
        "N = copy(M)\n",
        "c = 'c'\n",
        "p = Particle(c, getposition(2, N[2, :], c))\n",
        "N = flydown(p, N, stride=3)"
      ],
      "outputs": [
        {
          "output_type": "display_data",
          "data": {
            "text/plain": [
              "11×4 Array{Union{Missing, Char},2}:\n",
              " 'a'  'a'      'a'      'a'\n",
              " '-'  '-'      '-'      '-'\n",
              " '-'  '-'      '-'      '-'\n",
              " '-'  '-'      '-'      '-'\n",
              " 'b'  'c'      'b'      'b'\n",
              " 'c'  'b'      'c'      'c'\n",
              " 'b'  'c'      'h'      'b'\n",
              " 'c'  'f'      'i'      'c'\n",
              " 'd'  'g'      'm'      'j'\n",
              " 'e'  missing  'n'      'k'\n",
              " 'm'  missing  missing  'm'"
            ]
          },
          "metadata": {}
        },
        {
          "output_type": "display_data",
          "data": {
            "text/plain": [
              "11×4 Array{Union{Missing, Char},2}:\n",
              " 'a'      'a'      'a'      'a'\n",
              " 'b'      '-'      'b'      'b'\n",
              " 'c'      '-'      'c'      'c'\n",
              " 'b'      '-'      'h'      'b'\n",
              " 'c'      'c'      'i'      'c'\n",
              " 'd'      'b'      'm'      'j'\n",
              " 'e'      'c'      'n'      'k'\n",
              " 'm'      'f'      missing  'm'\n",
              " missing  'g'      missing  missing\n",
              " missing  missing  missing  missing\n",
              " missing  missing  missing  missing"
            ]
          },
          "metadata": {}
        },
        {
          "output_type": "execute_result",
          "execution_count": 29,
          "data": {
            "text/plain": [
              "9×4 Array{Union{Missing, Char},2}:\n",
              " 'a'      'a'  'a'      'a'\n",
              " 'b'      '-'  'b'      'b'\n",
              " 'c'      '-'  'c'      'c'\n",
              " 'b'      '-'  'h'      'b'\n",
              " 'c'      'c'  'i'      'c'\n",
              " 'd'      'b'  'm'      'j'\n",
              " 'e'      'c'  'n'      'k'\n",
              " 'm'      'f'  missing  'm'\n",
              " missing  'g'  missing  missing"
            ]
          },
          "metadata": {}
        }
      ],
      "execution_count": 29,
      "metadata": {
        "collapsed": true,
        "jupyter": {
          "source_hidden": false,
          "outputs_hidden": false
        },
        "nteract": {
          "transient": {
            "deleting": false
          }
        },
        "execution": {
          "iopub.status.busy": "2020-06-29T09:17:41.533Z",
          "iopub.execute_input": "2020-06-29T09:17:41.543Z",
          "iopub.status.idle": "2020-06-29T09:17:41.595Z"
        }
      }
    },
    {
      "cell_type": "code",
      "source": [
        "M"
      ],
      "outputs": [
        {
          "output_type": "execute_result",
          "execution_count": 25,
          "data": {
            "text/plain": [
              "8×4 Array{Union{Missing, Char},2}:\n",
              " 'a'  'a'      'a'      'a'\n",
              " 'b'  'c'      'b'      'b'\n",
              " 'c'  'b'      'c'      'c'\n",
              " 'b'  'c'      'h'      'b'\n",
              " 'c'  'f'      'i'      'c'\n",
              " 'd'  'g'      'm'      'j'\n",
              " 'e'  missing  'n'      'k'\n",
              " 'm'  missing  missing  'm'"
            ]
          },
          "metadata": {}
        }
      ],
      "execution_count": 25,
      "metadata": {
        "collapsed": true,
        "jupyter": {
          "source_hidden": false,
          "outputs_hidden": false
        },
        "nteract": {
          "transient": {
            "deleting": false
          }
        },
        "execution": {
          "iopub.status.busy": "2020-06-29T09:13:56.423Z",
          "iopub.execute_input": "2020-06-29T09:13:56.430Z",
          "iopub.status.idle": "2020-06-29T09:13:56.443Z"
        }
      }
    },
    {
      "cell_type": "code",
      "source": [
        "function rowalignment(r, M)\n",
        "  row = M[r, :];\n",
        "#   display(row);\n",
        "#   println(aligned(row))\n",
        "  if aligned(row)\n",
        "#     println(\"aligned\");\n",
        "    return nothing;\n",
        "  end\n",
        "  \n",
        "  swarm = createswarm(r, row);\n",
        "  \n",
        "  gₒ = g = swarm[1];\n",
        "  gₒvalue = gvalue = objective(M, r, endindex=r);\n",
        "  cols = size(row, 1)\n",
        "  \n",
        "  for p in swarm\n",
        "    \n",
        "    t = r;\n",
        "    N = copy(M);\n",
        "    \n",
        "    p.bestvalue = objective(M, r, endindex=t)\n",
        "#     display(\"Aligning $p\");\n",
        "#     display(N)\n",
        "#     display(p)\n",
        "    \n",
        "    missingp = setdiff(collect(1:size(N, 2)), p.pos.indexes)\n",
        "    maxlen = maximum([length(collect(skipmissing(col))) for col in eachcol(N[:, missingp])])\n",
        "    criteria1 = maxlen;\n",
        "    \n",
        "#     display(criteria1)\n",
        "    \n",
        "    while stopcriteria(p, N, t) != true && t < criteria1\n",
        "#       display(stopcriteria(p, N, t) != true)\n",
        "      t += 1;\n",
        "      p.updated += 1;\n",
        "     \n",
        "      N = flydown(p, N);\n",
        "#       display(N)\n",
        "      display(p)\n",
        "      score = objective(N, r);\n",
        "      display(score);\n",
        "#       display(p.bestvalue);\n",
        "      if score > p.bestvalue\n",
        "        p.bestvalue = score;\n",
        "        p.updated = 0;\n",
        "      end\n",
        "      \n",
        "      if score > gvalue\n",
        "        gvalue = score;\n",
        "        g = deepcopy(p);\n",
        "        g.best = getposition(t, N[t, :], p.value);\n",
        "        g.bestvalue = score;\n",
        "      end\n",
        "      \n",
        "      \n",
        "#       display(p)\n",
        "      \n",
        "    end\n",
        "  end\n",
        "  \n",
        "  if gvalue == gₒvalue\n",
        "    return nothing;\n",
        "  end\n",
        "  return g;\n",
        "end"
      ],
      "outputs": [
        {
          "output_type": "execute_result",
          "execution_count": 15,
          "data": {
            "text/plain": [
              "rowalignment (generic function with 1 method)"
            ]
          },
          "metadata": {}
        }
      ],
      "execution_count": 15,
      "metadata": {
        "collapsed": true,
        "jupyter": {
          "source_hidden": false,
          "outputs_hidden": false
        },
        "nteract": {
          "transient": {
            "deleting": false
          }
        },
        "execution": {
          "iopub.status.busy": "2020-06-29T09:09:59.575Z",
          "iopub.execute_input": "2020-06-29T09:09:59.585Z",
          "iopub.status.idle": "2020-06-29T09:09:59.598Z"
        }
      }
    },
    {
      "cell_type": "code",
      "source": [
        "N = copy(M)\n",
        "g = rowalignment(2, N)\n",
        "N = flydown(g, N, stride=g.best.row - g.pos.row)\n",
        "objective(N, 2)"
      ],
      "outputs": [
        {
          "output_type": "stream",
          "name": "stdout",
          "text": [
            "1\n",
            "3\n",
            "0\n",
            "[0.1875, 0.1875, 0.125, 0.125, 0.0, 0.0, 0.25]\n",
            "0.875\n",
            "1\n",
            "3\n",
            "0\n",
            "[0.1875, 0.1875, 0.125, 0.125, 0.0, 0.0, 0.25]\n",
            "0.875\n"
          ]
        },
        {
          "output_type": "error",
          "ename": "MethodError",
          "evalue": "MethodError: Cannot `convert` an object of type Array{Float64,1} to an object of type Float64\nClosest candidates are:\n  convert(::Type{T}, !Matched::T) where T<:Number at number.jl:6\n  convert(::Type{T}, !Matched::Number) where T<:Number at number.jl:7\n  convert(::Type{T}, !Matched::Base.TwicePrecision) where T<:Number at twiceprecision.jl:250\n  ...",
          "traceback": [
            "MethodError: Cannot `convert` an object of type Array{Float64,1} to an object of type Float64\nClosest candidates are:\n  convert(::Type{T}, !Matched::T) where T<:Number at number.jl:6\n  convert(::Type{T}, !Matched::Number) where T<:Number at number.jl:7\n  convert(::Type{T}, !Matched::Base.TwicePrecision) where T<:Number at twiceprecision.jl:250\n  ...",
            "",
            "Stacktrace:",
            " [1] setproperty!(::Particle, ::Symbol, ::Array{Float64,1}) at .\\Base.jl:34",
            " [2] rowalignment(::Int64, ::Array{Union{Missing, Char},2}) at .\\In[15]:21",
            " [3] top-level scope at In[24]:2"
          ]
        }
      ],
      "execution_count": 24,
      "metadata": {
        "collapsed": true,
        "jupyter": {
          "source_hidden": false,
          "outputs_hidden": false
        },
        "nteract": {
          "transient": {
            "deleting": false
          }
        },
        "execution": {
          "iopub.status.busy": "2020-06-29T09:12:15.802Z",
          "iopub.execute_input": "2020-06-29T09:12:15.811Z",
          "iopub.status.idle": "2020-06-29T09:12:16.464Z"
        }
      }
    },
    {
      "cell_type": "code",
      "source": [
        "g = rowalignment(3, N)\n",
        "# N = flydown(g, N, stride=g.best.row - g.pos.row)"
      ],
      "outputs": [],
      "execution_count": 17,
      "metadata": {
        "collapsed": true,
        "jupyter": {
          "source_hidden": false,
          "outputs_hidden": false
        },
        "nteract": {
          "transient": {
            "deleting": false
          }
        },
        "execution": {
          "iopub.status.busy": "2020-06-29T09:10:03.101Z",
          "iopub.execute_input": "2020-06-29T09:10:03.105Z",
          "iopub.status.idle": "2020-06-29T09:10:03.109Z"
        }
      }
    },
    {
      "cell_type": "code",
      "source": [
        "g = rowalignment(4, N)\n",
        "N = flydown(g, N, stride=g.best.row - g.pos.row)"
      ],
      "outputs": [
        {
          "output_type": "display_data",
          "data": {
            "text/plain": [
              "Particle('h', 1, Position(4, [3]), Position(4, [3]), 1.875)"
            ]
          },
          "metadata": {}
        },
        {
          "output_type": "display_data",
          "data": {
            "text/plain": [
              "1.03125"
            ]
          },
          "metadata": {}
        },
        {
          "output_type": "display_data",
          "data": {
            "text/plain": [
              "Particle('h', 2, Position(4, [3]), Position(4, [3]), 1.875)"
            ]
          },
          "metadata": {}
        },
        {
          "output_type": "display_data",
          "data": {
            "text/plain": [
              "6.0"
            ]
          },
          "metadata": {}
        },
        {
          "output_type": "display_data",
          "data": {
            "text/plain": [
              "Particle('h', 1, Position(4, [3]), Position(4, [3]), 6.0)"
            ]
          },
          "metadata": {}
        },
        {
          "output_type": "display_data",
          "data": {
            "text/plain": [
              "4.875"
            ]
          },
          "metadata": {}
        },
        {
          "output_type": "display_data",
          "data": {
            "text/plain": [
              "Particle('h', 2, Position(4, [3]), Position(4, [3]), 6.0)"
            ]
          },
          "metadata": {}
        },
        {
          "output_type": "display_data",
          "data": {
            "text/plain": [
              "6.0"
            ]
          },
          "metadata": {}
        },
        {
          "output_type": "display_data",
          "data": {
            "text/plain": [
              "Particle('b', 1, Position(4, [1, 2, 4]), Position(4, [1, 2, 4]), 1.875)"
            ]
          },
          "metadata": {}
        },
        {
          "output_type": "display_data",
          "data": {
            "text/plain": [
              "0.375"
            ]
          },
          "metadata": {}
        },
        {
          "output_type": "display_data",
          "data": {
            "text/plain": [
              "Particle('b', 2, Position(4, [1, 2, 4]), Position(4, [1, 2, 4]), 1.875)"
            ]
          },
          "metadata": {}
        },
        {
          "output_type": "display_data",
          "data": {
            "text/plain": [
              "0.375"
            ]
          },
          "metadata": {}
        },
        {
          "output_type": "display_data",
          "data": {
            "text/plain": [
              "Particle('b', 3, Position(4, [1, 2, 4]), Position(4, [1, 2, 4]), 1.875)"
            ]
          },
          "metadata": {}
        },
        {
          "output_type": "display_data",
          "data": {
            "text/plain": [
              "0.59375"
            ]
          },
          "metadata": {}
        },
        {
          "output_type": "execute_result",
          "execution_count": 18,
          "data": {
            "text/plain": [
              "9×4 Array{Union{Missing, Char},2}:\n",
              " 'a'      'a'      'a'  'a'\n",
              " 'b'      '-'      'b'  'b'\n",
              " 'c'      'c'      'c'  'c'\n",
              " 'b'      'b'      '-'  'b'\n",
              " 'c'      'c'      '-'  'c'\n",
              " 'd'      'f'      'h'  'j'\n",
              " 'e'      'g'      'i'  'k'\n",
              " 'm'      missing  'm'  'm'\n",
              " missing  missing  'n'  missing"
            ]
          },
          "metadata": {}
        }
      ],
      "execution_count": 18,
      "metadata": {
        "collapsed": true,
        "jupyter": {
          "source_hidden": false,
          "outputs_hidden": false
        },
        "nteract": {
          "transient": {
            "deleting": false
          }
        },
        "execution": {
          "iopub.status.busy": "2020-06-29T09:10:04.884Z",
          "iopub.execute_input": "2020-06-29T09:10:04.890Z",
          "iopub.status.idle": "2020-06-29T09:10:04.938Z"
        }
      }
    },
    {
      "cell_type": "code",
      "source": [
        "display(N)\n",
        "objective(N, 4)"
      ],
      "outputs": [
        {
          "output_type": "display_data",
          "data": {
            "text/plain": [
              "9×4 Array{Union{Missing, Char},2}:\n",
              " 'a'      'a'      'a'  'a'\n",
              " 'b'      '-'      'b'  'b'\n",
              " 'c'      'c'      'c'  'c'\n",
              " 'b'      'b'      '-'  'b'\n",
              " 'c'      'c'      '-'  'c'\n",
              " 'd'      'f'      'h'  'j'\n",
              " 'e'      'g'      'i'  'k'\n",
              " 'm'      missing  'm'  'm'\n",
              " missing  missing  'n'  missing"
            ]
          },
          "metadata": {}
        },
        {
          "output_type": "stream",
          "name": "stdout",
          "text": [
            "4\n",
            "3\n",
            "2\n",
            "[0.375, 0.375, 0.0, 0.0, 0.375, 0.375]\n",
            "1.5\n"
          ]
        },
        {
          "output_type": "execute_result",
          "execution_count": 23,
          "data": {
            "text/plain": [
              "6-element Array{Float64,1}:\n",
              " 1.5\n",
              " 1.5\n",
              " 0.0\n",
              " 0.0\n",
              " 1.5\n",
              " 1.5"
            ]
          },
          "metadata": {}
        }
      ],
      "execution_count": 23,
      "metadata": {
        "collapsed": true,
        "jupyter": {
          "source_hidden": false,
          "outputs_hidden": false
        },
        "nteract": {
          "transient": {
            "deleting": false
          }
        },
        "execution": {
          "iopub.status.busy": "2020-06-29T09:11:23.102Z",
          "iopub.execute_input": "2020-06-29T09:11:23.106Z",
          "iopub.status.idle": "2020-06-29T09:11:23.122Z"
        }
      }
    },
    {
      "cell_type": "code",
      "source": [
        "function matrixalignment(M)\n",
        "  for (index, row) in enumerate(eachrow(M))\n",
        "  #   println(\"$index: $row\")\n",
        "    g = rowalignment(index, M) \n",
        "    if !isnothing(g)\n",
        "      M = flydown(g, M, stride=g.best.row - g.pos.row)\n",
        "    end\n",
        "  end\n",
        "  replace!(M, missing => '-')\n",
        "end\n",
        "matrixalignment(M)"
      ],
      "outputs": [
        {
          "output_type": "stream",
          "name": "stdout",
          "text": [
            "1\n",
            "3\n",
            "0\n",
            "[0.1875, 0.1875, 0.125, 0.125, 0.0, 0.0, 0.25]\n",
            "0.875\n",
            "1\n",
            "3\n",
            "0\n",
            "[0.1875, 0.1875, 0.125, 0.125, 0.0, 0.0, 0.25]\n",
            "0.875\n"
          ]
        },
        {
          "output_type": "error",
          "ename": "MethodError",
          "evalue": "MethodError: Cannot `convert` an object of type Array{Float64,1} to an object of type Float64\nClosest candidates are:\n  convert(::Type{T}, !Matched::T) where T<:Number at number.jl:6\n  convert(::Type{T}, !Matched::Number) where T<:Number at number.jl:7\n  convert(::Type{T}, !Matched::Base.TwicePrecision) where T<:Number at twiceprecision.jl:250\n  ...",
          "traceback": [
            "MethodError: Cannot `convert` an object of type Array{Float64,1} to an object of type Float64\nClosest candidates are:\n  convert(::Type{T}, !Matched::T) where T<:Number at number.jl:6\n  convert(::Type{T}, !Matched::Number) where T<:Number at number.jl:7\n  convert(::Type{T}, !Matched::Base.TwicePrecision) where T<:Number at twiceprecision.jl:250\n  ...",
            "",
            "Stacktrace:",
            " [1] setproperty!(::Particle, ::Symbol, ::Array{Float64,1}) at .\\Base.jl:34",
            " [2] rowalignment(::Int64, ::Array{Union{Missing, Char},2}) at .\\In[15]:21",
            " [3] matrixalignment(::Array{Union{Missing, Char},2}) at .\\In[30]:4",
            " [4] top-level scope at In[30]:11"
          ]
        }
      ],
      "execution_count": 30,
      "metadata": {
        "collapsed": true,
        "jupyter": {
          "source_hidden": false,
          "outputs_hidden": false
        },
        "nteract": {
          "transient": {
            "deleting": false
          }
        },
        "execution": {
          "iopub.status.busy": "2020-06-29T09:22:18.737Z",
          "iopub.execute_input": "2020-06-29T09:22:18.744Z",
          "iopub.status.idle": "2020-06-29T09:22:18.806Z"
        }
      }
    },
    {
      "cell_type": "code",
      "source": [],
      "outputs": [],
      "execution_count": null,
      "metadata": {
        "collapsed": true,
        "jupyter": {
          "source_hidden": false,
          "outputs_hidden": false
        },
        "nteract": {
          "transient": {
            "deleting": false
          }
        },
        "execution": {
          "iopub.status.busy": "2020-06-27T07:47:03.281Z",
          "iopub.execute_input": "2020-06-27T07:47:03.289Z",
          "iopub.status.idle": "2020-06-27T07:47:03.302Z"
        }
      }
    },
    {
      "cell_type": "code",
      "source": [],
      "outputs": [],
      "execution_count": null,
      "metadata": {
        "collapsed": true,
        "jupyter": {
          "source_hidden": false,
          "outputs_hidden": false
        },
        "nteract": {
          "transient": {
            "deleting": false
          }
        }
      }
    }
  ],
  "metadata": {
    "kernel_info": {
      "name": "julia-1.3"
    },
    "language_info": {
      "file_extension": ".jl",
      "name": "julia",
      "mimetype": "application/julia",
      "version": "1.4.2"
    },
    "kernelspec": {
      "argv": [
        "C:\\Users\\aadim\\AppData\\Local\\Julia-1.3.1\\bin\\julia.exe",
        "-i",
        "--startup-file=yes",
        "--color=yes",
        "--project=@.",
        "C:\\Users\\aadim\\.julia\\packages\\IJulia\\yLI42\\src\\kernel.jl",
        "{connection_file}"
      ],
      "display_name": "Julia 1.3.1",
      "env": {},
      "interrupt_mode": "message",
      "language": "julia",
      "name": "julia-1.3"
    },
    "nteract": {
      "version": "0.23.3"
    }
  },
  "nbformat": 4,
  "nbformat_minor": 0
}
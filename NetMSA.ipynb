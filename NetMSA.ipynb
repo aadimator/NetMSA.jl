{
  "cells": [
    {
      "cell_type": "code",
      "source": [
        "using NetMSA\n",
        "using StatsBase\n",
        "using BenchmarkTools"
      ],
      "outputs": [
        {
          "output_type": "stream",
          "name": "stderr",
          "text": [
            "┌ Info: Precompiling NetMSA [ff9d66d5-9e17-4192-b9f7-4feb15bf8d64]\n",
            "└ @ Base loading.jl:1260\n"
          ]
        }
      ],
      "execution_count": 1,
      "metadata": {
        "collapsed": false,
        "jupyter": {
          "source_hidden": false,
          "outputs_hidden": false
        },
        "nteract": {
          "transient": {
            "deleting": false
          }
        },
        "execution": {
          "iopub.status.busy": "2020-07-01T12:08:48.831Z",
          "iopub.execute_input": "2020-07-01T12:08:49.881Z",
          "iopub.status.idle": "2020-07-01T12:08:52.548Z"
        }
      }
    },
    {
      "cell_type": "code",
      "source": [
        "S1 = \"abcbcdem\";\n",
        "S2 = \"acbcfg\";\n",
        "S3 = \"abchimn\";\n",
        "S4 = \"abcbcjkm\";\n",
        "\n",
        "L = [S1, S2, S3, S4]"
      ],
      "outputs": [
        {
          "output_type": "execute_result",
          "execution_count": 2,
          "data": {
            "text/plain": [
              "4-element Array{String,1}:\n",
              " \"abcbcdem\"\n",
              " \"acbcfg\"\n",
              " \"abchimn\"\n",
              " \"abcbcjkm\""
            ]
          },
          "metadata": {}
        }
      ],
      "execution_count": 2,
      "metadata": {
        "collapsed": true,
        "jupyter": {
          "source_hidden": false,
          "outputs_hidden": false
        },
        "nteract": {
          "transient": {
            "deleting": false
          }
        },
        "execution": {
          "iopub.status.busy": "2020-07-01T12:08:54.470Z",
          "iopub.execute_input": "2020-07-01T12:08:54.480Z",
          "iopub.status.idle": "2020-07-01T12:08:55.517Z"
        }
      }
    },
    {
      "cell_type": "code",
      "source": [
        "M = NetMSA.createPeerMatrix(L)"
      ],
      "outputs": [
        {
          "output_type": "execute_result",
          "execution_count": 3,
          "data": {
            "text/plain": [
              "8×4 Array{Union{Missing, Char},2}:\n",
              " 'a'  'a'      'a'      'a'\n",
              " 'b'  'c'      'b'      'b'\n",
              " 'c'  'b'      'c'      'c'\n",
              " 'b'  'c'      'h'      'b'\n",
              " 'c'  'f'      'i'      'c'\n",
              " 'd'  'g'      'm'      'j'\n",
              " 'e'  missing  'n'      'k'\n",
              " 'm'  missing  missing  'm'"
            ]
          },
          "metadata": {}
        }
      ],
      "execution_count": 3,
      "metadata": {
        "collapsed": true,
        "jupyter": {
          "source_hidden": false,
          "outputs_hidden": false
        },
        "nteract": {
          "transient": {
            "deleting": false
          }
        },
        "execution": {
          "iopub.status.busy": "2020-07-01T12:08:57.224Z",
          "iopub.execute_input": "2020-07-01T12:08:57.233Z",
          "iopub.status.idle": "2020-07-01T12:08:58.219Z"
        }
      }
    },
    {
      "cell_type": "code",
      "source": [
        "mutable struct Position \n",
        "  row::Int64\n",
        "  indexes::Vector{Int64}\n",
        "end\n",
        "\n",
        "mutable struct Particle\n",
        "  value::Char\n",
        "  updated::Int64\n",
        "  pos::Position\n",
        "  best::Position\n",
        "  bestvalue::Float64\n",
        "  \n",
        "  function Particle(value::Char, pos::Position)\n",
        "    return new(value, 0, pos, pos, 0.0)\n",
        "  end\n",
        "end"
      ],
      "outputs": [],
      "execution_count": 4,
      "metadata": {
        "collapsed": true,
        "jupyter": {
          "source_hidden": false,
          "outputs_hidden": false
        },
        "nteract": {
          "transient": {
            "deleting": false
          }
        },
        "execution": {
          "iopub.status.busy": "2020-07-01T12:09:01.704Z",
          "iopub.execute_input": "2020-07-01T12:09:01.712Z",
          "iopub.status.idle": "2020-07-01T12:09:01.780Z"
        }
      }
    },
    {
      "cell_type": "code",
      "source": [
        "function getposition(value::T, rowindex::Int64, row::SubArray{T, 1}) where (T)\n",
        "  indexes = findall(i -> i == value, skipmissing(row))\n",
        "  return Position(rowindex, indexes);\n",
        "end\n",
        "\n",
        "r = collect(eachrow(M))\n",
        "@benchmark getposition('b', 2, r[2])\n"
      ],
      "outputs": [
        {
          "output_type": "execute_result",
          "execution_count": 33,
          "data": {
            "text/plain": [
              "BenchmarkTools.Trial: \n",
              "  memory estimate:  416 bytes\n",
              "  allocs estimate:  12\n",
              "  --------------\n",
              "  minimum time:     189.024 ns (0.00% GC)\n",
              "  median time:      228.659 ns (0.00% GC)\n",
              "  mean time:        342.172 ns (20.56% GC)\n",
              "  maximum time:     22.723 μs (95.02% GC)\n",
              "  --------------\n",
              "  samples:          10000\n",
              "  evals/sample:     656"
            ]
          },
          "metadata": {}
        }
      ],
      "execution_count": 33,
      "metadata": {
        "collapsed": true,
        "jupyter": {
          "source_hidden": false,
          "outputs_hidden": false
        },
        "nteract": {
          "transient": {
            "deleting": false
          }
        },
        "execution": {
          "iopub.status.busy": "2020-06-30T07:17:40.651Z",
          "iopub.execute_input": "2020-06-30T07:17:40.661Z",
          "iopub.status.idle": "2020-06-30T07:17:44.108Z"
        }
      }
    },
    {
      "cell_type": "code",
      "source": [
        "function getposition(value::T, rowindex::Int64, row::Array{T, 1}) where (T)\n",
        "  indexes = findall(i -> i == value, skipmissing(row))\n",
        "  return Position(rowindex, indexes);\n",
        "end\n",
        "\n",
        "@benchmark getposition('b', 2, M[2, :])"
      ],
      "outputs": [
        {
          "output_type": "execute_result",
          "execution_count": 35,
          "data": {
            "text/plain": [
              "BenchmarkTools.Trial: \n",
              "  memory estimate:  544 bytes\n",
              "  allocs estimate:  14\n",
              "  --------------\n",
              "  minimum time:     569.892 ns (0.00% GC)\n",
              "  median time:      658.065 ns (0.00% GC)\n",
              "  mean time:        887.365 ns (12.01% GC)\n",
              "  maximum time:     60.381 μs (97.84% GC)\n",
              "  --------------\n",
              "  samples:          10000\n",
              "  evals/sample:     186"
            ]
          },
          "metadata": {}
        }
      ],
      "execution_count": 35,
      "metadata": {
        "collapsed": true,
        "jupyter": {
          "source_hidden": false,
          "outputs_hidden": false
        },
        "nteract": {
          "transient": {
            "deleting": false
          }
        },
        "execution": {
          "iopub.status.busy": "2020-06-30T07:17:47.159Z",
          "iopub.execute_input": "2020-06-30T07:17:47.170Z",
          "iopub.status.idle": "2020-06-30T07:17:50.234Z"
        }
      }
    },
    {
      "cell_type": "code",
      "source": [
        "function getposition(value::T, rowindex::Int64, matrix::Matrix{T}) where (T)\n",
        "  indexes = findall(i -> i == value, skipmissing(matrix[rowindex, :]))\n",
        "  return Position(rowindex, indexes);\n",
        "end\n",
        "\n",
        "@benchmark getposition('b', 2, M)"
      ],
      "outputs": [
        {
          "output_type": "execute_result",
          "execution_count": 36,
          "data": {
            "text/plain": [
              "BenchmarkTools.Trial: \n",
              "  memory estimate:  528 bytes\n",
              "  allocs estimate:  13\n",
              "  --------------\n",
              "  minimum time:     204.665 ns (0.00% GC)\n",
              "  median time:      242.000 ns (0.00% GC)\n",
              "  mean time:        385.117 ns (25.78% GC)\n",
              "  maximum time:     19.744 μs (98.72% GC)\n",
              "  --------------\n",
              "  samples:          10000\n",
              "  evals/sample:     600"
            ]
          },
          "metadata": {}
        }
      ],
      "execution_count": 36,
      "metadata": {
        "collapsed": true,
        "jupyter": {
          "source_hidden": false,
          "outputs_hidden": false
        },
        "nteract": {
          "transient": {
            "deleting": false
          }
        },
        "execution": {
          "iopub.status.busy": "2020-06-30T07:17:50.245Z",
          "iopub.execute_input": "2020-06-30T07:17:50.256Z",
          "iopub.status.idle": "2020-06-30T07:17:53.836Z"
        }
      }
    },
    {
      "cell_type": "code",
      "source": [],
      "outputs": [],
      "execution_count": null,
      "metadata": {
        "collapsed": true,
        "jupyter": {
          "source_hidden": false,
          "outputs_hidden": false
        },
        "nteract": {
          "transient": {
            "deleting": false
          }
        }
      }
    },
    {
      "cell_type": "code",
      "source": [
        "function getposition(index::Int64, row, value)\n",
        "  indexes = findall(i -> i == value, skipmissing(row))\n",
        "  return Position(index, indexes);\n",
        "end\n",
        "\n",
        "function mostfrequent(row)\n",
        "  counts = countmap(row);\n",
        "  delete!(counts, '-');\n",
        "#   println(row)\n",
        "#   println(counts)\n",
        "  max = isempty(counts) ? 0 : findmax(counts);\n",
        "  return max;\n",
        "end\n",
        "\n",
        "function aligned(row)::Bool\n",
        "  row = Set(row)\n",
        "  return (length(row) == 1 && !(missing in row)) || (length(row) == 2 && ('-' in row || missing in row))\n",
        "end\n",
        "\n",
        "function full(row)::Bool\n",
        "  return length(Set(row)) == 1 && !(missing in Set(row))\n",
        "end\n",
        "\n",
        "function weight(row; w1=0.25, w2=0.5, w3=1.0)\n",
        "  if full(row)\n",
        "    return w3;\n",
        "  end\n",
        "  \n",
        "  c = length(row);\n",
        "  if c == 0\n",
        "    return 0;\n",
        "  end\n",
        "  max = mostfrequent(row)[1];\n",
        "  \n",
        "  if aligned(row)\n",
        "    return w2 * max / c;\n",
        "  else\n",
        "    x = max <= 1 ? 0 : max;\n",
        "    return w1 * x / c;\n",
        "  end\n",
        "end\n",
        "\n",
        "function objective(M, rowindex::Int; endindex::Int=0)\n",
        "  weights = sum(weight.(eachrow(M[rowindex:end, :])))\n",
        "  C = mostfrequent(M[rowindex, :])[1];\n",
        "  A = sum(aligned.(eachrow(M))[rowindex:end])\n",
        "  \n",
        "  endindex = endindex == 0 ? size(M)[1] : endindex;\n",
        "  if endindex > size(M)[1]\n",
        "    throw(ArgumentError(\"endind exceeds the matrix size\"));\n",
        "  end\n",
        "  counts = countmap(M[rowindex:endindex, :]);\n",
        "  Gaps = get(counts, '-', 0);\n",
        "  \n",
        "  \n",
        "  \n",
        "#   println(A)\n",
        "#   println(C)\n",
        "#   println(Gaps)\n",
        "#   println(weights)\n",
        "#   println(sum(weights))\n",
        "  \n",
        "  return weights * (A * C)/(1 + Gaps)\n",
        "end\n",
        "\n",
        "function createswarm(rowindex::Int64, row)\n",
        "  unique = Set(skipmissing(row))\n",
        "  swarm = Vector{Particle}(undef, length(unique))\n",
        "  for (i, c) in enumerate(unique)\n",
        "    swarm[i] = Particle(c, getposition(rowindex, row, c))\n",
        "  end\n",
        "  return swarm\n",
        "end\n",
        "\n",
        "function criteria3(p::Particle, M, newindex)\n",
        "#   display(newindex)\n",
        "#   display(M[newindex, :])\n",
        "#   display(length(p.pos.indexes) != length(getposition(newindex, M[newindex, :], p.value).indexes))\n",
        "  return length(p.pos.indexes) != length(getposition(newindex, M[newindex, :], p.value).indexes)\n",
        "end\n",
        "\n",
        "function criteria2(p::Particle)\n",
        "  return p.updated > 6;\n",
        "end\n",
        "\n",
        "function stopcriteria(p::Particle, M, t)\n",
        "  c3 = criteria3(p, M, t);\n",
        "  c2 = criteria2(p);\n",
        "  if c3\n",
        "    display(\"Terminating cause of criteria 3\")\n",
        "  elseif  c2\n",
        "    display(\"Terminating cause of criteria 2\")\n",
        "  end\n",
        "  return c3 || c2;\n",
        "end\n",
        "\n",
        "function remove_missing_rows(M)\n",
        "  return M[[length(Set(skipmissing(r))) != 0 for r in eachrow(M)], :]\n",
        "end"
      ],
      "outputs": [
        {
          "output_type": "execute_result",
          "execution_count": 5,
          "data": {
            "text/plain": [
              "remove_missing_rows (generic function with 1 method)"
            ]
          },
          "metadata": {}
        }
      ],
      "execution_count": 5,
      "metadata": {
        "collapsed": true,
        "jupyter": {
          "source_hidden": false,
          "outputs_hidden": false
        },
        "nteract": {
          "transient": {
            "deleting": false
          }
        },
        "execution": {
          "iopub.status.busy": "2020-07-01T12:09:20.459Z",
          "iopub.execute_input": "2020-07-01T12:09:20.473Z",
          "iopub.status.idle": "2020-07-01T12:09:20.889Z"
        }
      }
    },
    {
      "cell_type": "code",
      "source": [
        "function flydown(p, M; stride=1)\n",
        "  notpcols = setdiff(collect(1:size(M, 2)), p.pos.indexes)\n",
        "  colsize = size(M, 2)\n",
        "  pos = p.pos\n",
        "  newrows = fill('-', (stride, colsize))\n",
        "  M = vcat(M[1:pos.row - 1, :], reshape(newrows, stride, colsize), M[pos.row:end, :])\n",
        "  display(M)\n",
        "  for i in collect(pos.row+stride:size(M, 1))\n",
        "    M[i-stride,notpcols] = M[i, notpcols]\n",
        "    M[i, notpcols] .= missing\n",
        "  end\n",
        "#   display(M)\n",
        "  M = remove_missing_rows(M)\n",
        "  return M\n",
        "end\n",
        "\n",
        "N = copy(M)\n",
        "c = 'c'\n",
        "p = Particle(c, getposition(2, N[2, :], c))\n",
        "N = flydown(p, N, stride=3)"
      ],
      "outputs": [
        {
          "output_type": "display_data",
          "data": {
            "text/plain": [
              "11×4 Array{Union{Missing, Char},2}:\n",
              " 'a'  'a'      'a'      'a'\n",
              " '-'  '-'      '-'      '-'\n",
              " '-'  '-'      '-'      '-'\n",
              " '-'  '-'      '-'      '-'\n",
              " 'b'  'c'      'b'      'b'\n",
              " 'c'  'b'      'c'      'c'\n",
              " 'b'  'c'      'h'      'b'\n",
              " 'c'  'f'      'i'      'c'\n",
              " 'd'  'g'      'm'      'j'\n",
              " 'e'  missing  'n'      'k'\n",
              " 'm'  missing  missing  'm'"
            ]
          },
          "metadata": {}
        },
        {
          "output_type": "execute_result",
          "execution_count": 9,
          "data": {
            "text/plain": [
              "9×4 Array{Union{Missing, Char},2}:\n",
              " 'a'      'a'  'a'      'a'\n",
              " 'b'      '-'  'b'      'b'\n",
              " 'c'      '-'  'c'      'c'\n",
              " 'b'      '-'  'h'      'b'\n",
              " 'c'      'c'  'i'      'c'\n",
              " 'd'      'b'  'm'      'j'\n",
              " 'e'      'c'  'n'      'k'\n",
              " 'm'      'f'  missing  'm'\n",
              " missing  'g'  missing  missing"
            ]
          },
          "metadata": {}
        }
      ],
      "execution_count": 9,
      "metadata": {
        "collapsed": true,
        "jupyter": {
          "source_hidden": false,
          "outputs_hidden": false
        },
        "nteract": {
          "transient": {
            "deleting": false
          }
        },
        "execution": {
          "iopub.status.busy": "2020-07-01T12:10:36.558Z",
          "iopub.execute_input": "2020-07-01T12:10:36.572Z",
          "iopub.status.idle": "2020-07-01T12:10:36.604Z"
        }
      }
    },
    {
      "cell_type": "code",
      "source": [
        "M"
      ],
      "outputs": [],
      "execution_count": null,
      "metadata": {
        "collapsed": true,
        "jupyter": {
          "source_hidden": false,
          "outputs_hidden": false
        },
        "nteract": {
          "transient": {
            "deleting": false
          }
        },
        "execution": {
          "iopub.status.busy": "2020-06-29T09:13:56.423Z",
          "iopub.execute_input": "2020-06-29T09:13:56.430Z",
          "iopub.status.idle": "2020-06-29T09:13:56.443Z"
        }
      }
    },
    {
      "cell_type": "code",
      "source": [
        "function rowalignment(r, M)\n",
        "  row = M[r, :];\n",
        "#   display(row);\n",
        "#   println(aligned(row))\n",
        "  if aligned(row)\n",
        "#     println(\"aligned\");\n",
        "    return nothing;\n",
        "  end\n",
        "  \n",
        "  swarm = createswarm(r, row);\n",
        "  \n",
        "  gₒ = g = swarm[1];\n",
        "  gₒvalue = gvalue = objective(M, r, endindex=r);\n",
        "  cols = size(row, 1)\n",
        "  \n",
        "  for p in swarm\n",
        "    \n",
        "    t = r;\n",
        "    N = copy(M);\n",
        "    \n",
        "    p.bestvalue = objective(M, r, endindex=t)\n",
        "#     display(\"Aligning $p\");\n",
        "#     display(N)\n",
        "#     display(p)\n",
        "    \n",
        "    missingp = setdiff(collect(1:size(N, 2)), p.pos.indexes)\n",
        "    maxlen = maximum([length(collect(skipmissing(col))) for col in eachcol(N[:, missingp])])\n",
        "    criteria1 = maxlen;\n",
        "    \n",
        "#     display(criteria1)\n",
        "    \n",
        "    while stopcriteria(p, N, t) != true && t < criteria1\n",
        "#       display(stopcriteria(p, N, t) != true)\n",
        "      t += 1;\n",
        "      p.updated += 1;\n",
        "     \n",
        "      N = flydown(p, N);\n",
        "#       display(N)\n",
        "      display(p)\n",
        "      score = objective(N, r);\n",
        "#       display(score);\n",
        "#       display(p.bestvalue);\n",
        "      if score > p.bestvalue\n",
        "        p.bestvalue = score;\n",
        "        p.updated = 0;\n",
        "      end\n",
        "      \n",
        "      if score > gvalue\n",
        "        gvalue = score;\n",
        "        g = deepcopy(p);\n",
        "        g.best = getposition(t, N[t, :], p.value);\n",
        "        g.bestvalue = score;\n",
        "      end\n",
        "      \n",
        "      \n",
        "#       display(p)\n",
        "      \n",
        "    end\n",
        "  end\n",
        "  \n",
        "  if gvalue == gₒvalue\n",
        "    return nothing;\n",
        "  end\n",
        "  return g;\n",
        "end"
      ],
      "outputs": [
        {
          "output_type": "execute_result",
          "execution_count": 12,
          "data": {
            "text/plain": [
              "rowalignment (generic function with 1 method)"
            ]
          },
          "metadata": {}
        }
      ],
      "execution_count": 12,
      "metadata": {
        "collapsed": true,
        "jupyter": {
          "source_hidden": false,
          "outputs_hidden": false
        },
        "nteract": {
          "transient": {
            "deleting": false
          }
        },
        "execution": {
          "iopub.status.busy": "2020-07-01T12:11:03.767Z",
          "iopub.execute_input": "2020-07-01T12:11:03.777Z",
          "iopub.status.idle": "2020-07-01T12:11:03.793Z"
        }
      }
    },
    {
      "cell_type": "code",
      "source": [
        "N = copy(M)\n",
        "g = rowalignment(2, N)\n",
        "N = flydown(g, N, stride=g.best.row - g.pos.row)\n",
        "objective(N, 2)"
      ],
      "outputs": [
        {
          "output_type": "display_data",
          "data": {
            "text/plain": [
              "9×4 Array{Union{Missing, Char},2}:\n",
              " 'a'  'a'      'a'      'a'\n",
              " '-'  '-'      '-'      '-'\n",
              " 'b'  'c'      'b'      'b'\n",
              " 'c'  'b'      'c'      'c'\n",
              " 'b'  'c'      'h'      'b'\n",
              " 'c'  'f'      'i'      'c'\n",
              " 'd'  'g'      'm'      'j'\n",
              " 'e'  missing  'n'      'k'\n",
              " 'm'  missing  missing  'm'"
            ]
          },
          "metadata": {}
        },
        {
          "output_type": "display_data",
          "data": {
            "text/plain": [
              "Particle('c', 1, Position(2, [2]), Position(2, [2]), 2.625)"
            ]
          },
          "metadata": {}
        },
        {
          "output_type": "display_data",
          "data": {
            "text/plain": [
              "\"Terminating cause of criteria 3\""
            ]
          },
          "metadata": {}
        },
        {
          "output_type": "display_data",
          "data": {
            "text/plain": [
              "9×4 Array{Union{Missing, Char},2}:\n",
              " 'a'  'a'      'a'      'a'\n",
              " '-'  '-'      '-'      '-'\n",
              " 'b'  'c'      'b'      'b'\n",
              " 'c'  'b'      'c'      'c'\n",
              " 'b'  'c'      'h'      'b'\n",
              " 'c'  'f'      'i'      'c'\n",
              " 'd'  'g'      'm'      'j'\n",
              " 'e'  missing  'n'      'k'\n",
              " 'm'  missing  missing  'm'"
            ]
          },
          "metadata": {}
        },
        {
          "output_type": "display_data",
          "data": {
            "text/plain": [
              "Particle('b', 1, Position(2, [1, 3, 4]), Position(2, [1, 3, 4]), 2.625)"
            ]
          },
          "metadata": {}
        },
        {
          "output_type": "display_data",
          "data": {
            "text/plain": [
              "\"Terminating cause of criteria 3\""
            ]
          },
          "metadata": {}
        },
        {
          "output_type": "display_data",
          "data": {
            "text/plain": [
              "9×4 Array{Union{Missing, Char},2}:\n",
              " 'a'  'a'      'a'      'a'\n",
              " '-'  '-'      '-'      '-'\n",
              " 'b'  'c'      'b'      'b'\n",
              " 'c'  'b'      'c'      'c'\n",
              " 'b'  'c'      'h'      'b'\n",
              " 'c'  'f'      'i'      'c'\n",
              " 'd'  'g'      'm'      'j'\n",
              " 'e'  missing  'n'      'k'\n",
              " 'm'  missing  missing  'm'"
            ]
          },
          "metadata": {}
        },
        {
          "output_type": "execute_result",
          "execution_count": 13,
          "data": {
            "text/plain": [
              "9.0"
            ]
          },
          "metadata": {}
        }
      ],
      "execution_count": 13,
      "metadata": {
        "collapsed": true,
        "jupyter": {
          "source_hidden": false,
          "outputs_hidden": false
        },
        "nteract": {
          "transient": {
            "deleting": false
          }
        },
        "execution": {
          "iopub.status.busy": "2020-07-01T12:11:05.836Z",
          "iopub.execute_input": "2020-07-01T12:11:05.846Z",
          "iopub.status.idle": "2020-07-01T12:11:05.932Z"
        }
      }
    },
    {
      "cell_type": "code",
      "source": [
        "g = rowalignment(3, N)\n",
        "# N = flydown(g, N, stride=g.best.row - g.pos.row)"
      ],
      "outputs": [],
      "execution_count": 14,
      "metadata": {
        "collapsed": true,
        "jupyter": {
          "source_hidden": false,
          "outputs_hidden": false
        },
        "nteract": {
          "transient": {
            "deleting": false
          }
        },
        "execution": {
          "iopub.status.busy": "2020-07-01T12:11:17.733Z",
          "iopub.execute_input": "2020-07-01T12:11:17.741Z",
          "iopub.status.idle": "2020-07-01T12:11:17.751Z"
        }
      }
    },
    {
      "cell_type": "code",
      "source": [
        "g = rowalignment(4, N)\n",
        "N = flydown(g, N, stride=g.best.row - g.pos.row)"
      ],
      "outputs": [
        {
          "output_type": "display_data",
          "data": {
            "text/plain": [
              "9×4 Array{Union{Missing, Char},2}:\n",
              " 'a'  'a'      'a'      'a'\n",
              " 'b'  '-'      'b'      'b'\n",
              " 'c'  'c'      'c'      'c'\n",
              " '-'  '-'      '-'      '-'\n",
              " 'b'  'b'      'h'      'b'\n",
              " 'c'  'c'      'i'      'c'\n",
              " 'd'  'f'      'm'      'j'\n",
              " 'e'  'g'      'n'      'k'\n",
              " 'm'  missing  missing  'm'"
            ]
          },
          "metadata": {}
        },
        {
          "output_type": "display_data",
          "data": {
            "text/plain": [
              "Particle('h', 1, Position(4, [3]), Position(4, [3]), 1.875)"
            ]
          },
          "metadata": {}
        },
        {
          "output_type": "display_data",
          "data": {
            "text/plain": [
              "9×4 Array{Union{Missing, Char},2}:\n",
              " 'a'  'a'      'a'  'a'\n",
              " 'b'  '-'      'b'  'b'\n",
              " 'c'  'c'      'c'  'c'\n",
              " '-'  '-'      '-'  '-'\n",
              " 'b'  'b'      '-'  'b'\n",
              " 'c'  'c'      'h'  'c'\n",
              " 'd'  'f'      'i'  'j'\n",
              " 'e'  'g'      'm'  'k'\n",
              " 'm'  missing  'n'  'm'"
            ]
          },
          "metadata": {}
        },
        {
          "output_type": "display_data",
          "data": {
            "text/plain": [
              "Particle('h', 2, Position(4, [3]), Position(4, [3]), 1.875)"
            ]
          },
          "metadata": {}
        },
        {
          "output_type": "display_data",
          "data": {
            "text/plain": [
              "10×4 Array{Union{Missing, Char},2}:\n",
              " 'a'      'a'      'a'  'a'\n",
              " 'b'      '-'      'b'  'b'\n",
              " 'c'      'c'      'c'  'c'\n",
              " '-'      '-'      '-'  '-'\n",
              " 'b'      'b'      '-'  'b'\n",
              " 'c'      'c'      '-'  'c'\n",
              " 'd'      'f'      'h'  'j'\n",
              " 'e'      'g'      'i'  'k'\n",
              " 'm'      missing  'm'  'm'\n",
              " missing  missing  'n'  missing"
            ]
          },
          "metadata": {}
        },
        {
          "output_type": "display_data",
          "data": {
            "text/plain": [
              "Particle('h', 1, Position(4, [3]), Position(4, [3]), 6.0)"
            ]
          },
          "metadata": {}
        },
        {
          "output_type": "display_data",
          "data": {
            "text/plain": [
              "11×4 Array{Union{Missing, Char},2}:\n",
              " 'a'      'a'      'a'  'a'\n",
              " 'b'      '-'      'b'  'b'\n",
              " 'c'      'c'      'c'  'c'\n",
              " '-'      '-'      '-'  '-'\n",
              " 'b'      'b'      '-'  'b'\n",
              " 'c'      'c'      '-'  'c'\n",
              " 'd'      'f'      '-'  'j'\n",
              " 'e'      'g'      'h'  'k'\n",
              " 'm'      missing  'i'  'm'\n",
              " missing  missing  'm'  missing\n",
              " missing  missing  'n'  missing"
            ]
          },
          "metadata": {}
        },
        {
          "output_type": "display_data",
          "data": {
            "text/plain": [
              "Particle('h', 2, Position(4, [3]), Position(4, [3]), 6.0)"
            ]
          },
          "metadata": {}
        },
        {
          "output_type": "display_data",
          "data": {
            "text/plain": [
              "9×4 Array{Union{Missing, Char},2}:\n",
              " 'a'  'a'      'a'      'a'\n",
              " 'b'  '-'      'b'      'b'\n",
              " 'c'  'c'      'c'      'c'\n",
              " '-'  '-'      '-'      '-'\n",
              " 'b'  'b'      'h'      'b'\n",
              " 'c'  'c'      'i'      'c'\n",
              " 'd'  'f'      'm'      'j'\n",
              " 'e'  'g'      'n'      'k'\n",
              " 'm'  missing  missing  'm'"
            ]
          },
          "metadata": {}
        },
        {
          "output_type": "display_data",
          "data": {
            "text/plain": [
              "Particle('b', 1, Position(4, [1, 2, 4]), Position(4, [1, 2, 4]), 1.875)"
            ]
          },
          "metadata": {}
        },
        {
          "output_type": "display_data",
          "data": {
            "text/plain": [
              "10×4 Array{Union{Missing, Char},2}:\n",
              " 'a'  'a'      'a'      'a'\n",
              " 'b'  '-'      'b'      'b'\n",
              " 'c'  'c'      'c'      'c'\n",
              " '-'  '-'      '-'      '-'\n",
              " '-'  '-'      'h'      '-'\n",
              " 'b'  'b'      'i'      'b'\n",
              " 'c'  'c'      'm'      'c'\n",
              " 'd'  'f'      'n'      'j'\n",
              " 'e'  'g'      missing  'k'\n",
              " 'm'  missing  missing  'm'"
            ]
          },
          "metadata": {}
        },
        {
          "output_type": "display_data",
          "data": {
            "text/plain": [
              "Particle('b', 2, Position(4, [1, 2, 4]), Position(4, [1, 2, 4]), 1.875)"
            ]
          },
          "metadata": {}
        },
        {
          "output_type": "display_data",
          "data": {
            "text/plain": [
              "11×4 Array{Union{Missing, Char},2}:\n",
              " 'a'  'a'      'a'      'a'\n",
              " 'b'  '-'      'b'      'b'\n",
              " 'c'  'c'      'c'      'c'\n",
              " '-'  '-'      '-'      '-'\n",
              " '-'  '-'      'h'      '-'\n",
              " '-'  '-'      'i'      '-'\n",
              " 'b'  'b'      'm'      'b'\n",
              " 'c'  'c'      'n'      'c'\n",
              " 'd'  'f'      missing  'j'\n",
              " 'e'  'g'      missing  'k'\n",
              " 'm'  missing  missing  'm'"
            ]
          },
          "metadata": {}
        },
        {
          "output_type": "display_data",
          "data": {
            "text/plain": [
              "Particle('b', 3, Position(4, [1, 2, 4]), Position(4, [1, 2, 4]), 1.875)"
            ]
          },
          "metadata": {}
        },
        {
          "output_type": "display_data",
          "data": {
            "text/plain": [
              "10×4 Array{Union{Missing, Char},2}:\n",
              " 'a'  'a'      'a'      'a'\n",
              " 'b'  '-'      'b'      'b'\n",
              " 'c'  'c'      'c'      'c'\n",
              " '-'  '-'      '-'      '-'\n",
              " '-'  '-'      '-'      '-'\n",
              " 'b'  'b'      'h'      'b'\n",
              " 'c'  'c'      'i'      'c'\n",
              " 'd'  'f'      'm'      'j'\n",
              " 'e'  'g'      'n'      'k'\n",
              " 'm'  missing  missing  'm'"
            ]
          },
          "metadata": {}
        },
        {
          "output_type": "execute_result",
          "execution_count": 15,
          "data": {
            "text/plain": [
              "9×4 Array{Union{Missing, Char},2}:\n",
              " 'a'      'a'      'a'  'a'\n",
              " 'b'      '-'      'b'  'b'\n",
              " 'c'      'c'      'c'  'c'\n",
              " 'b'      'b'      '-'  'b'\n",
              " 'c'      'c'      '-'  'c'\n",
              " 'd'      'f'      'h'  'j'\n",
              " 'e'      'g'      'i'  'k'\n",
              " 'm'      missing  'm'  'm'\n",
              " missing  missing  'n'  missing"
            ]
          },
          "metadata": {}
        }
      ],
      "execution_count": 15,
      "metadata": {
        "collapsed": true,
        "jupyter": {
          "source_hidden": false,
          "outputs_hidden": false
        },
        "nteract": {
          "transient": {
            "deleting": false
          }
        },
        "execution": {
          "iopub.status.busy": "2020-07-01T12:11:19.495Z",
          "iopub.execute_input": "2020-07-01T12:11:19.501Z",
          "iopub.status.idle": "2020-07-01T12:11:19.576Z"
        }
      }
    },
    {
      "cell_type": "code",
      "source": [
        "display(N)\n",
        "objective(N, 4)"
      ],
      "outputs": [
        {
          "output_type": "display_data",
          "data": {
            "text/plain": [
              "9×4 Array{Union{Missing, Char},2}:\n",
              " 'a'      'a'      'a'  'a'\n",
              " 'b'      '-'      'b'  'b'\n",
              " 'c'      'c'      'c'  'c'\n",
              " 'b'      'b'      '-'  'b'\n",
              " 'c'      'c'      '-'  'c'\n",
              " 'd'      'f'      'h'  'j'\n",
              " 'e'      'g'      'i'  'k'\n",
              " 'm'      missing  'm'  'm'\n",
              " missing  missing  'n'  missing"
            ]
          },
          "metadata": {}
        },
        {
          "output_type": "execute_result",
          "execution_count": 16,
          "data": {
            "text/plain": [
              "6.0"
            ]
          },
          "metadata": {}
        }
      ],
      "execution_count": 16,
      "metadata": {
        "collapsed": true,
        "jupyter": {
          "source_hidden": false,
          "outputs_hidden": false
        },
        "nteract": {
          "transient": {
            "deleting": false
          }
        },
        "execution": {
          "iopub.status.busy": "2020-07-01T12:11:32.083Z",
          "iopub.execute_input": "2020-07-01T12:11:32.091Z",
          "iopub.status.idle": "2020-07-01T12:11:32.113Z"
        }
      }
    },
    {
      "cell_type": "code",
      "source": [
        "function matrixalignment(M)\n",
        "  for (index, row) in enumerate(eachrow(M))\n",
        "  #   println(\"$index: $row\")\n",
        "    g = rowalignment(index, M) \n",
        "    if !isnothing(g)\n",
        "      M = flydown(g, M, stride=g.best.row - g.pos.row)\n",
        "    end\n",
        "  end\n",
        "  replace!(M, missing => '-')\n",
        "end\n",
        "matrixalignment(M)"
      ],
      "outputs": [
        {
          "output_type": "display_data",
          "data": {
            "text/plain": [
              "9×4 Array{Union{Missing, Char},2}:\n",
              " 'a'  'a'      'a'      'a'\n",
              " '-'  '-'      '-'      '-'\n",
              " 'b'  'c'      'b'      'b'\n",
              " 'c'  'b'      'c'      'c'\n",
              " 'b'  'c'      'h'      'b'\n",
              " 'c'  'f'      'i'      'c'\n",
              " 'd'  'g'      'm'      'j'\n",
              " 'e'  missing  'n'      'k'\n",
              " 'm'  missing  missing  'm'"
            ]
          },
          "metadata": {}
        },
        {
          "output_type": "display_data",
          "data": {
            "text/plain": [
              "9×4 Array{Union{Missing, Char},2}:\n",
              " 'a'      'a'      'a'      'a'\n",
              " 'b'      '-'      'b'      'b'\n",
              " 'c'      'c'      'c'      'c'\n",
              " 'b'      'b'      'h'      'b'\n",
              " 'c'      'c'      'i'      'c'\n",
              " 'd'      'f'      'm'      'j'\n",
              " 'e'      'g'      'n'      'k'\n",
              " 'm'      missing  missing  'm'\n",
              " missing  missing  missing  missing"
            ]
          },
          "metadata": {}
        },
        {
          "output_type": "display_data",
          "data": {
            "text/plain": [
              "Particle('c', 1, Position(2, [2]), Position(2, [2]), 2.625)"
            ]
          },
          "metadata": {}
        },
        {
          "output_type": "display_data",
          "data": {
            "text/plain": [
              "9.0"
            ]
          },
          "metadata": {}
        },
        {
          "output_type": "display_data",
          "data": {
            "text/plain": [
              "\"Terminating cause of criteria 3\""
            ]
          },
          "metadata": {}
        },
        {
          "output_type": "display_data",
          "data": {
            "text/plain": [
              "9×4 Array{Union{Missing, Char},2}:\n",
              " 'a'  'a'      'a'      'a'\n",
              " '-'  '-'      '-'      '-'\n",
              " 'b'  'c'      'b'      'b'\n",
              " 'c'  'b'      'c'      'c'\n",
              " 'b'  'c'      'h'      'b'\n",
              " 'c'  'f'      'i'      'c'\n",
              " 'd'  'g'      'm'      'j'\n",
              " 'e'  missing  'n'      'k'\n",
              " 'm'  missing  missing  'm'"
            ]
          },
          "metadata": {}
        },
        {
          "output_type": "display_data",
          "data": {
            "text/plain": [
              "9×4 Array{Union{Missing, Char},2}:\n",
              " 'a'  'a'      'a'      'a'\n",
              " '-'  'c'      '-'      '-'\n",
              " 'b'  'b'      'b'      'b'\n",
              " 'c'  'c'      'c'      'c'\n",
              " 'b'  'f'      'h'      'b'\n",
              " 'c'  'g'      'i'      'c'\n",
              " 'd'  missing  'm'      'j'\n",
              " 'e'  missing  'n'      'k'\n",
              " 'm'  missing  missing  'm'"
            ]
          },
          "metadata": {}
        },
        {
          "output_type": "display_data",
          "data": {
            "text/plain": [
              "Particle('b', 1, Position(2, [1, 3, 4]), Position(2, [1, 3, 4]), 2.625)"
            ]
          },
          "metadata": {}
        },
        {
          "output_type": "display_data",
          "data": {
            "text/plain": [
              "2.625"
            ]
          },
          "metadata": {}
        },
        {
          "output_type": "display_data",
          "data": {
            "text/plain": [
              "\"Terminating cause of criteria 3\""
            ]
          },
          "metadata": {}
        },
        {
          "output_type": "display_data",
          "data": {
            "text/plain": [
              "9×4 Array{Union{Missing, Char},2}:\n",
              " 'a'  'a'      'a'      'a'\n",
              " '-'  '-'      '-'      '-'\n",
              " 'b'  'c'      'b'      'b'\n",
              " 'c'  'b'      'c'      'c'\n",
              " 'b'  'c'      'h'      'b'\n",
              " 'c'  'f'      'i'      'c'\n",
              " 'd'  'g'      'm'      'j'\n",
              " 'e'  missing  'n'      'k'\n",
              " 'm'  missing  missing  'm'"
            ]
          },
          "metadata": {}
        },
        {
          "output_type": "display_data",
          "data": {
            "text/plain": [
              "9×4 Array{Union{Missing, Char},2}:\n",
              " 'a'      'a'      'a'      'a'\n",
              " 'b'      '-'      'b'      'b'\n",
              " 'c'      'c'      'c'      'c'\n",
              " 'b'      'b'      'h'      'b'\n",
              " 'c'      'c'      'i'      'c'\n",
              " 'd'      'f'      'm'      'j'\n",
              " 'e'      'g'      'n'      'k'\n",
              " 'm'      missing  missing  'm'\n",
              " missing  missing  missing  missing"
            ]
          },
          "metadata": {}
        },
        {
          "output_type": "display_data",
          "data": {
            "text/plain": [
              "9×4 Array{Union{Missing, Char},2}:\n",
              " 'a'  'a'      'a'      'a'\n",
              " 'b'  '-'      'b'      'b'\n",
              " 'c'  'c'      'c'      'c'\n",
              " '-'  '-'      '-'      '-'\n",
              " 'b'  'b'      'h'      'b'\n",
              " 'c'  'c'      'i'      'c'\n",
              " 'd'  'f'      'm'      'j'\n",
              " 'e'  'g'      'n'      'k'\n",
              " 'm'  missing  missing  'm'"
            ]
          },
          "metadata": {}
        },
        {
          "output_type": "display_data",
          "data": {
            "text/plain": [
              "9×4 Array{Union{Missing, Char},2}:\n",
              " 'a'      'a'      'a'      'a'\n",
              " 'b'      '-'      'b'      'b'\n",
              " 'c'      'c'      'c'      'c'\n",
              " 'b'      'b'      '-'      'b'\n",
              " 'c'      'c'      'h'      'c'\n",
              " 'd'      'f'      'i'      'j'\n",
              " 'e'      'g'      'm'      'k'\n",
              " 'm'      missing  'n'      'm'\n",
              " missing  missing  missing  missing"
            ]
          },
          "metadata": {}
        },
        {
          "output_type": "display_data",
          "data": {
            "text/plain": [
              "Particle('h', 1, Position(4, [3]), Position(4, [3]), 1.875)"
            ]
          },
          "metadata": {}
        },
        {
          "output_type": "display_data",
          "data": {
            "text/plain": [
              "1.03125"
            ]
          },
          "metadata": {}
        },
        {
          "output_type": "display_data",
          "data": {
            "text/plain": [
              "9×4 Array{Union{Missing, Char},2}:\n",
              " 'a'  'a'      'a'  'a'\n",
              " 'b'  '-'      'b'  'b'\n",
              " 'c'  'c'      'c'  'c'\n",
              " '-'  '-'      '-'  '-'\n",
              " 'b'  'b'      '-'  'b'\n",
              " 'c'  'c'      'h'  'c'\n",
              " 'd'  'f'      'i'  'j'\n",
              " 'e'  'g'      'm'  'k'\n",
              " 'm'  missing  'n'  'm'"
            ]
          },
          "metadata": {}
        },
        {
          "output_type": "display_data",
          "data": {
            "text/plain": [
              "9×4 Array{Union{Missing, Char},2}:\n",
              " 'a'      'a'      'a'  'a'\n",
              " 'b'      '-'      'b'  'b'\n",
              " 'c'      'c'      'c'  'c'\n",
              " 'b'      'b'      '-'  'b'\n",
              " 'c'      'c'      '-'  'c'\n",
              " 'd'      'f'      'h'  'j'\n",
              " 'e'      'g'      'i'  'k'\n",
              " 'm'      missing  'm'  'm'\n",
              " missing  missing  'n'  missing"
            ]
          },
          "metadata": {}
        },
        {
          "output_type": "display_data",
          "data": {
            "text/plain": [
              "Particle('h', 2, Position(4, [3]), Position(4, [3]), 1.875)"
            ]
          },
          "metadata": {}
        },
        {
          "output_type": "display_data",
          "data": {
            "text/plain": [
              "6.0"
            ]
          },
          "metadata": {}
        },
        {
          "output_type": "display_data",
          "data": {
            "text/plain": [
              "10×4 Array{Union{Missing, Char},2}:\n",
              " 'a'      'a'      'a'  'a'\n",
              " 'b'      '-'      'b'  'b'\n",
              " 'c'      'c'      'c'  'c'\n",
              " '-'      '-'      '-'  '-'\n",
              " 'b'      'b'      '-'  'b'\n",
              " 'c'      'c'      '-'  'c'\n",
              " 'd'      'f'      'h'  'j'\n",
              " 'e'      'g'      'i'  'k'\n",
              " 'm'      missing  'm'  'm'\n",
              " missing  missing  'n'  missing"
            ]
          },
          "metadata": {}
        },
        {
          "output_type": "display_data",
          "data": {
            "text/plain": [
              "10×4 Array{Union{Missing, Char},2}:\n",
              " 'a'      'a'      'a'  'a'\n",
              " 'b'      '-'      'b'  'b'\n",
              " 'c'      'c'      'c'  'c'\n",
              " 'b'      'b'      '-'  'b'\n",
              " 'c'      'c'      '-'  'c'\n",
              " 'd'      'f'      '-'  'j'\n",
              " 'e'      'g'      'h'  'k'\n",
              " 'm'      missing  'i'  'm'\n",
              " missing  missing  'm'  missing\n",
              " missing  missing  'n'  missing"
            ]
          },
          "metadata": {}
        },
        {
          "output_type": "display_data",
          "data": {
            "text/plain": [
              "Particle('h', 1, Position(4, [3]), Position(4, [3]), 6.0)"
            ]
          },
          "metadata": {}
        },
        {
          "output_type": "display_data",
          "data": {
            "text/plain": [
              "4.875"
            ]
          },
          "metadata": {}
        },
        {
          "output_type": "display_data",
          "data": {
            "text/plain": [
              "11×4 Array{Union{Missing, Char},2}:\n",
              " 'a'      'a'      'a'  'a'\n",
              " 'b'      '-'      'b'  'b'\n",
              " 'c'      'c'      'c'  'c'\n",
              " '-'      '-'      '-'  '-'\n",
              " 'b'      'b'      '-'  'b'\n",
              " 'c'      'c'      '-'  'c'\n",
              " 'd'      'f'      '-'  'j'\n",
              " 'e'      'g'      'h'  'k'\n",
              " 'm'      missing  'i'  'm'\n",
              " missing  missing  'm'  missing\n",
              " missing  missing  'n'  missing"
            ]
          },
          "metadata": {}
        },
        {
          "output_type": "display_data",
          "data": {
            "text/plain": [
              "11×4 Array{Union{Missing, Char},2}:\n",
              " 'a'      'a'      'a'  'a'\n",
              " 'b'      '-'      'b'  'b'\n",
              " 'c'      'c'      'c'  'c'\n",
              " 'b'      'b'      '-'  'b'\n",
              " 'c'      'c'      '-'  'c'\n",
              " 'd'      'f'      '-'  'j'\n",
              " 'e'      'g'      '-'  'k'\n",
              " 'm'      missing  'h'  'm'\n",
              " missing  missing  'i'  missing\n",
              " missing  missing  'm'  missing\n",
              " missing  missing  'n'  missing"
            ]
          },
          "metadata": {}
        },
        {
          "output_type": "display_data",
          "data": {
            "text/plain": [
              "Particle('h', 2, Position(4, [3]), Position(4, [3]), 6.0)"
            ]
          },
          "metadata": {}
        },
        {
          "output_type": "display_data",
          "data": {
            "text/plain": [
              "6.0"
            ]
          },
          "metadata": {}
        },
        {
          "output_type": "display_data",
          "data": {
            "text/plain": [
              "9×4 Array{Union{Missing, Char},2}:\n",
              " 'a'  'a'      'a'      'a'\n",
              " 'b'  '-'      'b'      'b'\n",
              " 'c'  'c'      'c'      'c'\n",
              " '-'  '-'      '-'      '-'\n",
              " 'b'  'b'      'h'      'b'\n",
              " 'c'  'c'      'i'      'c'\n",
              " 'd'  'f'      'm'      'j'\n",
              " 'e'  'g'      'n'      'k'\n",
              " 'm'  missing  missing  'm'"
            ]
          },
          "metadata": {}
        },
        {
          "output_type": "display_data",
          "data": {
            "text/plain": [
              "9×4 Array{Union{Missing, Char},2}:\n",
              " 'a'  'a'      'a'      'a'\n",
              " 'b'  '-'      'b'      'b'\n",
              " 'c'  'c'      'c'      'c'\n",
              " '-'  '-'      'h'      '-'\n",
              " 'b'  'b'      'i'      'b'\n",
              " 'c'  'c'      'm'      'c'\n",
              " 'd'  'f'      'n'      'j'\n",
              " 'e'  'g'      missing  'k'\n",
              " 'm'  missing  missing  'm'"
            ]
          },
          "metadata": {}
        },
        {
          "output_type": "display_data",
          "data": {
            "text/plain": [
              "Particle('b', 1, Position(4, [1, 2, 4]), Position(4, [1, 2, 4]), 1.875)"
            ]
          },
          "metadata": {}
        },
        {
          "output_type": "display_data",
          "data": {
            "text/plain": [
              "0.375"
            ]
          },
          "metadata": {}
        },
        {
          "output_type": "display_data",
          "data": {
            "text/plain": [
              "10×4 Array{Union{Missing, Char},2}:\n",
              " 'a'  'a'      'a'      'a'\n",
              " 'b'  '-'      'b'      'b'\n",
              " 'c'  'c'      'c'      'c'\n",
              " '-'  '-'      '-'      '-'\n",
              " '-'  '-'      'h'      '-'\n",
              " 'b'  'b'      'i'      'b'\n",
              " 'c'  'c'      'm'      'c'\n",
              " 'd'  'f'      'n'      'j'\n",
              " 'e'  'g'      missing  'k'\n",
              " 'm'  missing  missing  'm'"
            ]
          },
          "metadata": {}
        },
        {
          "output_type": "display_data",
          "data": {
            "text/plain": [
              "10×4 Array{Union{Missing, Char},2}:\n",
              " 'a'  'a'      'a'      'a'\n",
              " 'b'  '-'      'b'      'b'\n",
              " 'c'  'c'      'c'      'c'\n",
              " '-'  '-'      'h'      '-'\n",
              " '-'  '-'      'i'      '-'\n",
              " 'b'  'b'      'm'      'b'\n",
              " 'c'  'c'      'n'      'c'\n",
              " 'd'  'f'      missing  'j'\n",
              " 'e'  'g'      missing  'k'\n",
              " 'm'  missing  missing  'm'"
            ]
          },
          "metadata": {}
        },
        {
          "output_type": "display_data",
          "data": {
            "text/plain": [
              "Particle('b', 2, Position(4, [1, 2, 4]), Position(4, [1, 2, 4]), 1.875)"
            ]
          },
          "metadata": {}
        },
        {
          "output_type": "display_data",
          "data": {
            "text/plain": [
              "0.375"
            ]
          },
          "metadata": {}
        },
        {
          "output_type": "display_data",
          "data": {
            "text/plain": [
              "11×4 Array{Union{Missing, Char},2}:\n",
              " 'a'  'a'      'a'      'a'\n",
              " 'b'  '-'      'b'      'b'\n",
              " 'c'  'c'      'c'      'c'\n",
              " '-'  '-'      '-'      '-'\n",
              " '-'  '-'      'h'      '-'\n",
              " '-'  '-'      'i'      '-'\n",
              " 'b'  'b'      'm'      'b'\n",
              " 'c'  'c'      'n'      'c'\n",
              " 'd'  'f'      missing  'j'\n",
              " 'e'  'g'      missing  'k'\n",
              " 'm'  missing  missing  'm'"
            ]
          },
          "metadata": {}
        },
        {
          "output_type": "display_data",
          "data": {
            "text/plain": [
              "11×4 Array{Union{Missing, Char},2}:\n",
              " 'a'  'a'      'a'      'a'\n",
              " 'b'  '-'      'b'      'b'\n",
              " 'c'  'c'      'c'      'c'\n",
              " '-'  '-'      'h'      '-'\n",
              " '-'  '-'      'i'      '-'\n",
              " '-'  '-'      'm'      '-'\n",
              " 'b'  'b'      'n'      'b'\n",
              " 'c'  'c'      missing  'c'\n",
              " 'd'  'f'      missing  'j'\n",
              " 'e'  'g'      missing  'k'\n",
              " 'm'  missing  missing  'm'"
            ]
          },
          "metadata": {}
        },
        {
          "output_type": "display_data",
          "data": {
            "text/plain": [
              "Particle('b', 3, Position(4, [1, 2, 4]), Position(4, [1, 2, 4]), 1.875)"
            ]
          },
          "metadata": {}
        },
        {
          "output_type": "display_data",
          "data": {
            "text/plain": [
              "0.59375"
            ]
          },
          "metadata": {}
        },
        {
          "output_type": "display_data",
          "data": {
            "text/plain": [
              "10×4 Array{Union{Missing, Char},2}:\n",
              " 'a'  'a'      'a'      'a'\n",
              " 'b'  '-'      'b'      'b'\n",
              " 'c'  'c'      'c'      'c'\n",
              " '-'  '-'      '-'      '-'\n",
              " '-'  '-'      '-'      '-'\n",
              " 'b'  'b'      'h'      'b'\n",
              " 'c'  'c'      'i'      'c'\n",
              " 'd'  'f'      'm'      'j'\n",
              " 'e'  'g'      'n'      'k'\n",
              " 'm'  missing  missing  'm'"
            ]
          },
          "metadata": {}
        },
        {
          "output_type": "display_data",
          "data": {
            "text/plain": [
              "10×4 Array{Union{Missing, Char},2}:\n",
              " 'a'      'a'      'a'      'a'\n",
              " 'b'      '-'      'b'      'b'\n",
              " 'c'      'c'      'c'      'c'\n",
              " 'b'      'b'      '-'      'b'\n",
              " 'c'      'c'      '-'      'c'\n",
              " 'd'      'f'      'h'      'j'\n",
              " 'e'      'g'      'i'      'k'\n",
              " 'm'      missing  'm'      'm'\n",
              " missing  missing  'n'      missing\n",
              " missing  missing  missing  missing"
            ]
          },
          "metadata": {}
        },
        {
          "output_type": "display_data",
          "data": {
            "text/plain": [
              "10×4 Array{Union{Missing, Char},2}:\n",
              " 'a'      'a'      'a'  'a'\n",
              " 'b'      '-'      'b'  'b'\n",
              " 'c'      'c'      'c'  'c'\n",
              " 'b'      'b'      '-'  'b'\n",
              " 'c'      'c'      '-'  'c'\n",
              " '-'      '-'      '-'  '-'\n",
              " 'd'      'f'      'h'  'j'\n",
              " 'e'      'g'      'i'  'k'\n",
              " 'm'      missing  'm'  'm'\n",
              " missing  missing  'n'  missing"
            ]
          },
          "metadata": {}
        },
        {
          "output_type": "display_data",
          "data": {
            "text/plain": [
              "10×4 Array{Union{Missing, Char},2}:\n",
              " 'a'      'a'      'a'      'a'\n",
              " 'b'      '-'      'b'      'b'\n",
              " 'c'      'c'      'c'      'c'\n",
              " 'b'      'b'      '-'      'b'\n",
              " 'c'      'c'      '-'      'c'\n",
              " 'd'      '-'      'h'      'j'\n",
              " 'e'      'f'      'i'      'k'\n",
              " 'm'      'g'      'm'      'm'\n",
              " missing  missing  'n'      missing\n",
              " missing  missing  missing  missing"
            ]
          },
          "metadata": {}
        },
        {
          "output_type": "display_data",
          "data": {
            "text/plain": [
              "Particle('f', 1, Position(6, [2]), Position(6, [2]), 1.5)"
            ]
          },
          "metadata": {}
        },
        {
          "output_type": "display_data",
          "data": {
            "text/plain": [
              "0.28125"
            ]
          },
          "metadata": {}
        },
        {
          "output_type": "display_data",
          "data": {
            "text/plain": [
              "10×4 Array{Union{Missing, Char},2}:\n",
              " 'a'      'a'      'a'  'a'\n",
              " 'b'      '-'      'b'  'b'\n",
              " 'c'      'c'      'c'  'c'\n",
              " 'b'      'b'      '-'  'b'\n",
              " 'c'      'c'      '-'  'c'\n",
              " '-'      '-'      '-'  '-'\n",
              " 'd'      '-'      'h'  'j'\n",
              " 'e'      'f'      'i'  'k'\n",
              " 'm'      'g'      'm'  'm'\n",
              " missing  missing  'n'  missing"
            ]
          },
          "metadata": {}
        },
        {
          "output_type": "display_data",
          "data": {
            "text/plain": [
              "10×4 Array{Union{Missing, Char},2}:\n",
              " 'a'      'a'      'a'      'a'\n",
              " 'b'      '-'      'b'      'b'\n",
              " 'c'      'c'      'c'      'c'\n",
              " 'b'      'b'      '-'      'b'\n",
              " 'c'      'c'      '-'      'c'\n",
              " 'd'      '-'      'h'      'j'\n",
              " 'e'      '-'      'i'      'k'\n",
              " 'm'      'f'      'm'      'm'\n",
              " missing  'g'      'n'      missing\n",
              " missing  missing  missing  missing"
            ]
          },
          "metadata": {}
        },
        {
          "output_type": "display_data",
          "data": {
            "text/plain": [
              "Particle('f', 2, Position(6, [2]), Position(6, [2]), 1.5)"
            ]
          },
          "metadata": {}
        },
        {
          "output_type": "display_data",
          "data": {
            "text/plain": [
              "0.0"
            ]
          },
          "metadata": {}
        },
        {
          "output_type": "display_data",
          "data": {
            "text/plain": [
              "10×4 Array{Union{Missing, Char},2}:\n",
              " 'a'      'a'  'a'  'a'\n",
              " 'b'      '-'  'b'  'b'\n",
              " 'c'      'c'  'c'  'c'\n",
              " 'b'      'b'  '-'  'b'\n",
              " 'c'      'c'  '-'  'c'\n",
              " '-'      '-'  '-'  '-'\n",
              " 'd'      '-'  'h'  'j'\n",
              " 'e'      '-'  'i'  'k'\n",
              " 'm'      'f'  'm'  'm'\n",
              " missing  'g'  'n'  missing"
            ]
          },
          "metadata": {}
        },
        {
          "output_type": "display_data",
          "data": {
            "text/plain": [
              "10×4 Array{Union{Missing, Char},2}:\n",
              " 'a'      'a'  'a'      'a'\n",
              " 'b'      '-'  'b'      'b'\n",
              " 'c'      'c'  'c'      'c'\n",
              " 'b'      'b'  '-'      'b'\n",
              " 'c'      'c'  '-'      'c'\n",
              " 'd'      '-'  'h'      'j'\n",
              " 'e'      '-'  'i'      'k'\n",
              " 'm'      '-'  'm'      'm'\n",
              " missing  'f'  'n'      missing\n",
              " missing  'g'  missing  missing"
            ]
          },
          "metadata": {}
        },
        {
          "output_type": "display_data",
          "data": {
            "text/plain": [
              "Particle('f', 3, Position(6, [2]), Position(6, [2]), 1.5)"
            ]
          },
          "metadata": {}
        },
        {
          "output_type": "display_data",
          "data": {
            "text/plain": [
              "0.4375"
            ]
          },
          "metadata": {}
        },
        {
          "output_type": "display_data",
          "data": {
            "text/plain": [
              "10×4 Array{Union{Missing, Char},2}:\n",
              " 'a'      'a'      'a'  'a'\n",
              " 'b'      '-'      'b'  'b'\n",
              " 'c'      'c'      'c'  'c'\n",
              " 'b'      'b'      '-'  'b'\n",
              " 'c'      'c'      '-'  'c'\n",
              " '-'      '-'      '-'  '-'\n",
              " 'd'      'f'      'h'  'j'\n",
              " 'e'      'g'      'i'  'k'\n",
              " 'm'      missing  'm'  'm'\n",
              " missing  missing  'n'  missing"
            ]
          },
          "metadata": {}
        },
        {
          "output_type": "display_data",
          "data": {
            "text/plain": [
              "10×4 Array{Union{Missing, Char},2}:\n",
              " 'a'      'a'      'a'  'a'\n",
              " 'b'      '-'      'b'  'b'\n",
              " 'c'      'c'      'c'  'c'\n",
              " 'b'      'b'      '-'  'b'\n",
              " 'c'      'c'      '-'  'c'\n",
              " 'd'      'f'      '-'  'j'\n",
              " 'e'      'g'      'h'  'k'\n",
              " 'm'      missing  'i'  'm'\n",
              " missing  missing  'm'  missing\n",
              " missing  missing  'n'  missing"
            ]
          },
          "metadata": {}
        },
        {
          "output_type": "display_data",
          "data": {
            "text/plain": [
              "Particle('h', 1, Position(6, [3]), Position(6, [3]), 1.5)"
            ]
          },
          "metadata": {}
        },
        {
          "output_type": "display_data",
          "data": {
            "text/plain": [
              "0.875"
            ]
          },
          "metadata": {}
        },
        {
          "output_type": "display_data",
          "data": {
            "text/plain": [
              "11×4 Array{Union{Missing, Char},2}:\n",
              " 'a'      'a'      'a'  'a'\n",
              " 'b'      '-'      'b'  'b'\n",
              " 'c'      'c'      'c'  'c'\n",
              " 'b'      'b'      '-'  'b'\n",
              " 'c'      'c'      '-'  'c'\n",
              " '-'      '-'      '-'  '-'\n",
              " 'd'      'f'      '-'  'j'\n",
              " 'e'      'g'      'h'  'k'\n",
              " 'm'      missing  'i'  'm'\n",
              " missing  missing  'm'  missing\n",
              " missing  missing  'n'  missing"
            ]
          },
          "metadata": {}
        },
        {
          "output_type": "display_data",
          "data": {
            "text/plain": [
              "11×4 Array{Union{Missing, Char},2}:\n",
              " 'a'      'a'      'a'  'a'\n",
              " 'b'      '-'      'b'  'b'\n",
              " 'c'      'c'      'c'  'c'\n",
              " 'b'      'b'      '-'  'b'\n",
              " 'c'      'c'      '-'  'c'\n",
              " 'd'      'f'      '-'  'j'\n",
              " 'e'      'g'      '-'  'k'\n",
              " 'm'      missing  'h'  'm'\n",
              " missing  missing  'i'  missing\n",
              " missing  missing  'm'  missing\n",
              " missing  missing  'n'  missing"
            ]
          },
          "metadata": {}
        },
        {
          "output_type": "display_data",
          "data": {
            "text/plain": [
              "Particle('h', 2, Position(6, [3]), Position(6, [3]), 1.5)"
            ]
          },
          "metadata": {}
        },
        {
          "output_type": "display_data",
          "data": {
            "text/plain": [
              "1.25"
            ]
          },
          "metadata": {}
        },
        {
          "output_type": "display_data",
          "data": {
            "text/plain": [
              "10×4 Array{Union{Missing, Char},2}:\n",
              " 'a'      'a'      'a'  'a'\n",
              " 'b'      '-'      'b'  'b'\n",
              " 'c'      'c'      'c'  'c'\n",
              " 'b'      'b'      '-'  'b'\n",
              " 'c'      'c'      '-'  'c'\n",
              " '-'      '-'      '-'  '-'\n",
              " 'd'      'f'      'h'  'j'\n",
              " 'e'      'g'      'i'  'k'\n",
              " 'm'      missing  'm'  'm'\n",
              " missing  missing  'n'  missing"
            ]
          },
          "metadata": {}
        },
        {
          "output_type": "display_data",
          "data": {
            "text/plain": [
              "10×4 Array{Union{Missing, Char},2}:\n",
              " 'a'      'a'      'a'      'a'\n",
              " 'b'      '-'      'b'      'b'\n",
              " 'c'      'c'      'c'      'c'\n",
              " 'b'      'b'      '-'      'b'\n",
              " 'c'      'c'      '-'      'c'\n",
              " '-'      'f'      'h'      'j'\n",
              " 'd'      'g'      'i'      'k'\n",
              " 'e'      missing  'm'      'm'\n",
              " 'm'      missing  'n'      missing\n",
              " missing  missing  missing  missing"
            ]
          },
          "metadata": {}
        },
        {
          "output_type": "display_data",
          "data": {
            "text/plain": [
              "Particle('d', 1, Position(6, [1]), Position(6, [1]), 1.5)"
            ]
          },
          "metadata": {}
        },
        {
          "output_type": "display_data",
          "data": {
            "text/plain": [
              "0.0"
            ]
          },
          "metadata": {}
        },
        {
          "output_type": "display_data",
          "data": {
            "text/plain": [
              "10×4 Array{Union{Missing, Char},2}:\n",
              " 'a'  'a'      'a'  'a'\n",
              " 'b'  '-'      'b'  'b'\n",
              " 'c'  'c'      'c'  'c'\n",
              " 'b'  'b'      '-'  'b'\n",
              " 'c'  'c'      '-'  'c'\n",
              " '-'  '-'      '-'  '-'\n",
              " '-'  'f'      'h'  'j'\n",
              " 'd'  'g'      'i'  'k'\n",
              " 'e'  missing  'm'  'm'\n",
              " 'm'  missing  'n'  missing"
            ]
          },
          "metadata": {}
        },
        {
          "output_type": "display_data",
          "data": {
            "text/plain": [
              "10×4 Array{Union{Missing, Char},2}:\n",
              " 'a'  'a'      'a'      'a'\n",
              " 'b'  '-'      'b'      'b'\n",
              " 'c'  'c'      'c'      'c'\n",
              " 'b'  'b'      '-'      'b'\n",
              " 'c'  'c'      '-'      'c'\n",
              " '-'  'f'      'h'      'j'\n",
              " '-'  'g'      'i'      'k'\n",
              " 'd'  missing  'm'      'm'\n",
              " 'e'  missing  'n'      missing\n",
              " 'm'  missing  missing  missing"
            ]
          },
          "metadata": {}
        },
        {
          "output_type": "display_data",
          "data": {
            "text/plain": [
              "Particle('d', 2, Position(6, [1]), Position(6, [1]), 1.5)"
            ]
          },
          "metadata": {}
        },
        {
          "output_type": "display_data",
          "data": {
            "text/plain": [
              "0.20833333333333334"
            ]
          },
          "metadata": {}
        },
        {
          "output_type": "display_data",
          "data": {
            "text/plain": [
              "11×4 Array{Union{Missing, Char},2}:\n",
              " 'a'  'a'      'a'      'a'\n",
              " 'b'  '-'      'b'      'b'\n",
              " 'c'  'c'      'c'      'c'\n",
              " 'b'  'b'      '-'      'b'\n",
              " 'c'  'c'      '-'      'c'\n",
              " '-'  '-'      '-'      '-'\n",
              " '-'  'f'      'h'      'j'\n",
              " '-'  'g'      'i'      'k'\n",
              " 'd'  missing  'm'      'm'\n",
              " 'e'  missing  'n'      missing\n",
              " 'm'  missing  missing  missing"
            ]
          },
          "metadata": {}
        },
        {
          "output_type": "display_data",
          "data": {
            "text/plain": [
              "11×4 Array{Union{Missing, Char},2}:\n",
              " 'a'  'a'      'a'      'a'\n",
              " 'b'  '-'      'b'      'b'\n",
              " 'c'  'c'      'c'      'c'\n",
              " 'b'  'b'      '-'      'b'\n",
              " 'c'  'c'      '-'      'c'\n",
              " '-'  'f'      'h'      'j'\n",
              " '-'  'g'      'i'      'k'\n",
              " '-'  missing  'm'      'm'\n",
              " 'd'  missing  'n'      missing\n",
              " 'e'  missing  missing  missing\n",
              " 'm'  missing  missing  missing"
            ]
          },
          "metadata": {}
        },
        {
          "output_type": "display_data",
          "data": {
            "text/plain": [
              "Particle('d', 3, Position(6, [1]), Position(6, [1]), 1.5)"
            ]
          },
          "metadata": {}
        },
        {
          "output_type": "display_data",
          "data": {
            "text/plain": [
              "0.5"
            ]
          },
          "metadata": {}
        },
        {
          "output_type": "display_data",
          "data": {
            "text/plain": [
              "10×4 Array{Union{Missing, Char},2}:\n",
              " 'a'      'a'      'a'  'a'\n",
              " 'b'      '-'      'b'  'b'\n",
              " 'c'      'c'      'c'  'c'\n",
              " 'b'      'b'      '-'  'b'\n",
              " 'c'      'c'      '-'  'c'\n",
              " '-'      '-'      '-'  '-'\n",
              " 'd'      'f'      'h'  'j'\n",
              " 'e'      'g'      'i'  'k'\n",
              " 'm'      missing  'm'  'm'\n",
              " missing  missing  'n'  missing"
            ]
          },
          "metadata": {}
        },
        {
          "output_type": "display_data",
          "data": {
            "text/plain": [
              "10×4 Array{Union{Missing, Char},2}:\n",
              " 'a'      'a'      'a'      'a'\n",
              " 'b'      '-'      'b'      'b'\n",
              " 'c'      'c'      'c'      'c'\n",
              " 'b'      'b'      '-'      'b'\n",
              " 'c'      'c'      '-'      'c'\n",
              " 'd'      'f'      'h'      '-'\n",
              " 'e'      'g'      'i'      'j'\n",
              " 'm'      missing  'm'      'k'\n",
              " missing  missing  'n'      'm'\n",
              " missing  missing  missing  missing"
            ]
          },
          "metadata": {}
        },
        {
          "output_type": "display_data",
          "data": {
            "text/plain": [
              "Particle('j', 1, Position(6, [4]), Position(6, [4]), 1.5)"
            ]
          },
          "metadata": {}
        },
        {
          "output_type": "display_data",
          "data": {
            "text/plain": [
              "0.0"
            ]
          },
          "metadata": {}
        },
        {
          "output_type": "display_data",
          "data": {
            "text/plain": [
              "10×4 Array{Union{Missing, Char},2}:\n",
              " 'a'      'a'      'a'  'a'\n",
              " 'b'      '-'      'b'  'b'\n",
              " 'c'      'c'      'c'  'c'\n",
              " 'b'      'b'      '-'  'b'\n",
              " 'c'      'c'      '-'  'c'\n",
              " '-'      '-'      '-'  '-'\n",
              " 'd'      'f'      'h'  '-'\n",
              " 'e'      'g'      'i'  'j'\n",
              " 'm'      missing  'm'  'k'\n",
              " missing  missing  'n'  'm'"
            ]
          },
          "metadata": {}
        },
        {
          "output_type": "display_data",
          "data": {
            "text/plain": [
              "10×4 Array{Union{Missing, Char},2}:\n",
              " 'a'      'a'      'a'      'a'\n",
              " 'b'      '-'      'b'      'b'\n",
              " 'c'      'c'      'c'      'c'\n",
              " 'b'      'b'      '-'      'b'\n",
              " 'c'      'c'      '-'      'c'\n",
              " 'd'      'f'      'h'      '-'\n",
              " 'e'      'g'      'i'      '-'\n",
              " 'm'      missing  'm'      'j'\n",
              " missing  missing  'n'      'k'\n",
              " missing  missing  missing  'm'"
            ]
          },
          "metadata": {}
        },
        {
          "output_type": "display_data",
          "data": {
            "text/plain": [
              "Particle('j', 2, Position(6, [4]), Position(6, [4]), 1.5)"
            ]
          },
          "metadata": {}
        },
        {
          "output_type": "display_data",
          "data": {
            "text/plain": [
              "0.20833333333333334"
            ]
          },
          "metadata": {}
        },
        {
          "output_type": "display_data",
          "data": {
            "text/plain": [
              "11×4 Array{Union{Missing, Char},2}:\n",
              " 'a'      'a'      'a'      'a'\n",
              " 'b'      '-'      'b'      'b'\n",
              " 'c'      'c'      'c'      'c'\n",
              " 'b'      'b'      '-'      'b'\n",
              " 'c'      'c'      '-'      'c'\n",
              " '-'      '-'      '-'      '-'\n",
              " 'd'      'f'      'h'      '-'\n",
              " 'e'      'g'      'i'      '-'\n",
              " 'm'      missing  'm'      'j'\n",
              " missing  missing  'n'      'k'\n",
              " missing  missing  missing  'm'"
            ]
          },
          "metadata": {}
        },
        {
          "output_type": "display_data",
          "data": {
            "text/plain": [
              "11×4 Array{Union{Missing, Char},2}:\n",
              " 'a'      'a'      'a'      'a'\n",
              " 'b'      '-'      'b'      'b'\n",
              " 'c'      'c'      'c'      'c'\n",
              " 'b'      'b'      '-'      'b'\n",
              " 'c'      'c'      '-'      'c'\n",
              " 'd'      'f'      'h'      '-'\n",
              " 'e'      'g'      'i'      '-'\n",
              " 'm'      missing  'm'      '-'\n",
              " missing  missing  'n'      'j'\n",
              " missing  missing  missing  'k'\n",
              " missing  missing  missing  'm'"
            ]
          },
          "metadata": {}
        },
        {
          "output_type": "display_data",
          "data": {
            "text/plain": [
              "Particle('j', 3, Position(6, [4]), Position(6, [4]), 1.5)"
            ]
          },
          "metadata": {}
        },
        {
          "output_type": "display_data",
          "data": {
            "text/plain": [
              "0.5"
            ]
          },
          "metadata": {}
        },
        {
          "output_type": "display_data",
          "data": {
            "text/plain": [
              "10×4 Array{Union{Missing, Char},2}:\n",
              " 'a'      'a'      'a'  'a'\n",
              " 'b'      '-'      'b'  'b'\n",
              " 'c'      'c'      'c'  'c'\n",
              " 'b'      'b'      '-'  'b'\n",
              " 'c'      'c'      '-'  'c'\n",
              " 'd'      'f'      'h'  'j'\n",
              " '-'      '-'      '-'  '-'\n",
              " 'e'      'g'      'i'  'k'\n",
              " 'm'      missing  'm'  'm'\n",
              " missing  missing  'n'  missing"
            ]
          },
          "metadata": {}
        },
        {
          "output_type": "display_data",
          "data": {
            "text/plain": [
              "10×4 Array{Union{Missing, Char},2}:\n",
              " 'a'      'a'      'a'      'a'\n",
              " 'b'      '-'      'b'      'b'\n",
              " 'c'      'c'      'c'      'c'\n",
              " 'b'      'b'      '-'      'b'\n",
              " 'c'      'c'      '-'      'c'\n",
              " 'd'      'f'      'h'      'j'\n",
              " 'e'      '-'      'i'      'k'\n",
              " 'm'      'g'      'm'      'm'\n",
              " missing  missing  'n'      missing\n",
              " missing  missing  missing  missing"
            ]
          },
          "metadata": {}
        },
        {
          "output_type": "display_data",
          "data": {
            "text/plain": [
              "Particle('g', 1, Position(7, [2]), Position(7, [2]), 1.5)"
            ]
          },
          "metadata": {}
        },
        {
          "output_type": "display_data",
          "data": {
            "text/plain": [
              "0.28125"
            ]
          },
          "metadata": {}
        },
        {
          "output_type": "display_data",
          "data": {
            "text/plain": [
              "10×4 Array{Union{Missing, Char},2}:\n",
              " 'a'      'a'      'a'  'a'\n",
              " 'b'      '-'      'b'  'b'\n",
              " 'c'      'c'      'c'  'c'\n",
              " 'b'      'b'      '-'  'b'\n",
              " 'c'      'c'      '-'  'c'\n",
              " 'd'      'f'      'h'  'j'\n",
              " '-'      '-'      '-'  '-'\n",
              " 'e'      '-'      'i'  'k'\n",
              " 'm'      'g'      'm'  'm'\n",
              " missing  missing  'n'  missing"
            ]
          },
          "metadata": {}
        },
        {
          "output_type": "display_data",
          "data": {
            "text/plain": [
              "10×4 Array{Union{Missing, Char},2}:\n",
              " 'a'      'a'      'a'      'a'\n",
              " 'b'      '-'      'b'      'b'\n",
              " 'c'      'c'      'c'      'c'\n",
              " 'b'      'b'      '-'      'b'\n",
              " 'c'      'c'      '-'      'c'\n",
              " 'd'      'f'      'h'      'j'\n",
              " 'e'      '-'      'i'      'k'\n",
              " 'm'      '-'      'm'      'm'\n",
              " missing  'g'      'n'      missing\n",
              " missing  missing  missing  missing"
            ]
          },
          "metadata": {}
        },
        {
          "output_type": "display_data",
          "data": {
            "text/plain": [
              "Particle('g', 2, Position(7, [2]), Position(7, [2]), 1.5)"
            ]
          },
          "metadata": {}
        },
        {
          "output_type": "display_data",
          "data": {
            "text/plain": [
              "0.16666666666666666"
            ]
          },
          "metadata": {}
        },
        {
          "output_type": "display_data",
          "data": {
            "text/plain": [
              "10×4 Array{Union{Missing, Char},2}:\n",
              " 'a'      'a'      'a'  'a'\n",
              " 'b'      '-'      'b'  'b'\n",
              " 'c'      'c'      'c'  'c'\n",
              " 'b'      'b'      '-'  'b'\n",
              " 'c'      'c'      '-'  'c'\n",
              " 'd'      'f'      'h'  'j'\n",
              " '-'      '-'      '-'  '-'\n",
              " 'e'      'g'      'i'  'k'\n",
              " 'm'      missing  'm'  'm'\n",
              " missing  missing  'n'  missing"
            ]
          },
          "metadata": {}
        },
        {
          "output_type": "display_data",
          "data": {
            "text/plain": [
              "10×4 Array{Union{Missing, Char},2}:\n",
              " 'a'      'a'      'a'  'a'\n",
              " 'b'      '-'      'b'  'b'\n",
              " 'c'      'c'      'c'  'c'\n",
              " 'b'      'b'      '-'  'b'\n",
              " 'c'      'c'      '-'  'c'\n",
              " 'd'      'f'      'h'  'j'\n",
              " 'e'      'g'      '-'  'k'\n",
              " 'm'      missing  'i'  'm'\n",
              " missing  missing  'm'  missing\n",
              " missing  missing  'n'  missing"
            ]
          },
          "metadata": {}
        },
        {
          "output_type": "display_data",
          "data": {
            "text/plain": [
              "Particle('i', 1, Position(7, [3]), Position(7, [3]), 1.5)"
            ]
          },
          "metadata": {}
        },
        {
          "output_type": "display_data",
          "data": {
            "text/plain": [
              "0.875"
            ]
          },
          "metadata": {}
        },
        {
          "output_type": "display_data",
          "data": {
            "text/plain": [
              "10×4 Array{Union{Missing, Char},2}:\n",
              " 'a'      'a'      'a'  'a'\n",
              " 'b'      '-'      'b'  'b'\n",
              " 'c'      'c'      'c'  'c'\n",
              " 'b'      'b'      '-'  'b'\n",
              " 'c'      'c'      '-'  'c'\n",
              " 'd'      'f'      'h'  'j'\n",
              " '-'      '-'      '-'  '-'\n",
              " 'e'      'g'      'i'  'k'\n",
              " 'm'      missing  'm'  'm'\n",
              " missing  missing  'n'  missing"
            ]
          },
          "metadata": {}
        },
        {
          "output_type": "display_data",
          "data": {
            "text/plain": [
              "10×4 Array{Union{Missing, Char},2}:\n",
              " 'a'      'a'      'a'      'a'\n",
              " 'b'      '-'      'b'      'b'\n",
              " 'c'      'c'      'c'      'c'\n",
              " 'b'      'b'      '-'      'b'\n",
              " 'c'      'c'      '-'      'c'\n",
              " 'd'      'f'      'h'      'j'\n",
              " '-'      'g'      'i'      'k'\n",
              " 'e'      missing  'm'      'm'\n",
              " 'm'      missing  'n'      missing\n",
              " missing  missing  missing  missing"
            ]
          },
          "metadata": {}
        },
        {
          "output_type": "display_data",
          "data": {
            "text/plain": [
              "Particle('e', 1, Position(7, [1]), Position(7, [1]), 1.5)"
            ]
          },
          "metadata": {}
        },
        {
          "output_type": "display_data",
          "data": {
            "text/plain": [
              "0.0"
            ]
          },
          "metadata": {}
        },
        {
          "output_type": "display_data",
          "data": {
            "text/plain": [
              "10×4 Array{Union{Missing, Char},2}:\n",
              " 'a'  'a'      'a'  'a'\n",
              " 'b'  '-'      'b'  'b'\n",
              " 'c'  'c'      'c'  'c'\n",
              " 'b'  'b'      '-'  'b'\n",
              " 'c'  'c'      '-'  'c'\n",
              " 'd'  'f'      'h'  'j'\n",
              " '-'  '-'      '-'  '-'\n",
              " '-'  'g'      'i'  'k'\n",
              " 'e'  missing  'm'  'm'\n",
              " 'm'  missing  'n'  missing"
            ]
          },
          "metadata": {}
        },
        {
          "output_type": "display_data",
          "data": {
            "text/plain": [
              "10×4 Array{Union{Missing, Char},2}:\n",
              " 'a'  'a'      'a'      'a'\n",
              " 'b'  '-'      'b'      'b'\n",
              " 'c'  'c'      'c'      'c'\n",
              " 'b'  'b'      '-'      'b'\n",
              " 'c'  'c'      '-'      'c'\n",
              " 'd'  'f'      'h'      'j'\n",
              " '-'  'g'      'i'      'k'\n",
              " '-'  missing  'm'      'm'\n",
              " 'e'  missing  'n'      missing\n",
              " 'm'  missing  missing  missing"
            ]
          },
          "metadata": {}
        },
        {
          "output_type": "display_data",
          "data": {
            "text/plain": [
              "Particle('e', 2, Position(7, [1]), Position(7, [1]), 1.5)"
            ]
          },
          "metadata": {}
        },
        {
          "output_type": "display_data",
          "data": {
            "text/plain": [
              "0.20833333333333334"
            ]
          },
          "metadata": {}
        },
        {
          "output_type": "display_data",
          "data": {
            "text/plain": [
              "10×4 Array{Union{Missing, Char},2}:\n",
              " 'a'      'a'      'a'  'a'\n",
              " 'b'      '-'      'b'  'b'\n",
              " 'c'      'c'      'c'  'c'\n",
              " 'b'      'b'      '-'  'b'\n",
              " 'c'      'c'      '-'  'c'\n",
              " 'd'      'f'      'h'  'j'\n",
              " '-'      '-'      '-'  '-'\n",
              " 'e'      'g'      'i'  'k'\n",
              " 'm'      missing  'm'  'm'\n",
              " missing  missing  'n'  missing"
            ]
          },
          "metadata": {}
        },
        {
          "output_type": "display_data",
          "data": {
            "text/plain": [
              "10×4 Array{Union{Missing, Char},2}:\n",
              " 'a'      'a'      'a'      'a'\n",
              " 'b'      '-'      'b'      'b'\n",
              " 'c'      'c'      'c'      'c'\n",
              " 'b'      'b'      '-'      'b'\n",
              " 'c'      'c'      '-'      'c'\n",
              " 'd'      'f'      'h'      'j'\n",
              " 'e'      'g'      'i'      '-'\n",
              " 'm'      missing  'm'      'k'\n",
              " missing  missing  'n'      'm'\n",
              " missing  missing  missing  missing"
            ]
          },
          "metadata": {}
        },
        {
          "output_type": "display_data",
          "data": {
            "text/plain": [
              "Particle('k', 1, Position(7, [4]), Position(7, [4]), 1.5)"
            ]
          },
          "metadata": {}
        },
        {
          "output_type": "display_data",
          "data": {
            "text/plain": [
              "0.0"
            ]
          },
          "metadata": {}
        },
        {
          "output_type": "display_data",
          "data": {
            "text/plain": [
              "10×4 Array{Union{Missing, Char},2}:\n",
              " 'a'      'a'      'a'  'a'\n",
              " 'b'      '-'      'b'  'b'\n",
              " 'c'      'c'      'c'  'c'\n",
              " 'b'      'b'      '-'  'b'\n",
              " 'c'      'c'      '-'  'c'\n",
              " 'd'      'f'      'h'  'j'\n",
              " '-'      '-'      '-'  '-'\n",
              " 'e'      'g'      'i'  '-'\n",
              " 'm'      missing  'm'  'k'\n",
              " missing  missing  'n'  'm'"
            ]
          },
          "metadata": {}
        },
        {
          "output_type": "display_data",
          "data": {
            "text/plain": [
              "10×4 Array{Union{Missing, Char},2}:\n",
              " 'a'      'a'      'a'      'a'\n",
              " 'b'      '-'      'b'      'b'\n",
              " 'c'      'c'      'c'      'c'\n",
              " 'b'      'b'      '-'      'b'\n",
              " 'c'      'c'      '-'      'c'\n",
              " 'd'      'f'      'h'      'j'\n",
              " 'e'      'g'      'i'      '-'\n",
              " 'm'      missing  'm'      '-'\n",
              " missing  missing  'n'      'k'\n",
              " missing  missing  missing  'm'"
            ]
          },
          "metadata": {}
        },
        {
          "output_type": "display_data",
          "data": {
            "text/plain": [
              "Particle('k', 2, Position(7, [4]), Position(7, [4]), 1.5)"
            ]
          },
          "metadata": {}
        },
        {
          "output_type": "display_data",
          "data": {
            "text/plain": [
              "0.20833333333333334"
            ]
          },
          "metadata": {}
        },
        {
          "output_type": "execute_result",
          "execution_count": 8,
          "data": {
            "text/plain": [
              "9×4 Array{Union{Missing, Char},2}:\n",
              " 'a'  'a'  'a'  'a'\n",
              " 'b'  '-'  'b'  'b'\n",
              " 'c'  'c'  'c'  'c'\n",
              " 'b'  'b'  '-'  'b'\n",
              " 'c'  'c'  '-'  'c'\n",
              " 'd'  'f'  'h'  'j'\n",
              " 'e'  'g'  'i'  'k'\n",
              " 'm'  '-'  'm'  'm'\n",
              " '-'  '-'  'n'  '-'"
            ]
          },
          "metadata": {}
        }
      ],
      "execution_count": 8,
      "metadata": {
        "collapsed": true,
        "jupyter": {
          "source_hidden": false,
          "outputs_hidden": false
        },
        "nteract": {
          "transient": {
            "deleting": false
          }
        },
        "execution": {
          "iopub.status.busy": "2020-07-01T12:09:44.477Z",
          "iopub.execute_input": "2020-07-01T12:09:44.485Z",
          "iopub.status.idle": "2020-07-01T12:09:49.798Z"
        }
      }
    },
    {
      "cell_type": "code",
      "source": [],
      "outputs": [],
      "execution_count": null,
      "metadata": {
        "collapsed": true,
        "jupyter": {
          "source_hidden": false,
          "outputs_hidden": false
        },
        "nteract": {
          "transient": {
            "deleting": false
          }
        },
        "execution": {
          "iopub.status.busy": "2020-06-27T07:47:03.281Z",
          "iopub.execute_input": "2020-06-27T07:47:03.289Z",
          "iopub.status.idle": "2020-06-27T07:47:03.302Z"
        }
      }
    },
    {
      "cell_type": "code",
      "source": [],
      "outputs": [],
      "execution_count": null,
      "metadata": {
        "collapsed": true,
        "jupyter": {
          "source_hidden": false,
          "outputs_hidden": false
        },
        "nteract": {
          "transient": {
            "deleting": false
          }
        }
      }
    }
  ],
  "metadata": {
    "kernel_info": {
      "name": "julia-1.3"
    },
    "language_info": {
      "file_extension": ".jl",
      "name": "julia",
      "mimetype": "application/julia",
      "version": "1.4.2"
    },
    "kernelspec": {
      "argv": [
        "C:\\Users\\aadim\\AppData\\Local\\Julia-1.3.1\\bin\\julia.exe",
        "-i",
        "--startup-file=yes",
        "--color=yes",
        "--project=@.",
        "C:\\Users\\aadim\\.julia\\packages\\IJulia\\yLI42\\src\\kernel.jl",
        "{connection_file}"
      ],
      "display_name": "Julia 1.3.1",
      "env": {},
      "interrupt_mode": "message",
      "language": "julia",
      "name": "julia-1.3"
    },
    "nteract": {
      "version": "0.23.3"
    }
  },
  "nbformat": 4,
  "nbformat_minor": 0
}
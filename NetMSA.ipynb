{
  "cells": [
    {
      "cell_type": "code",
      "source": [
        "using NetMSA\n",
        "using StatsBase"
      ],
      "outputs": [],
      "execution_count": 1,
      "metadata": {
        "collapsed": false,
        "jupyter": {
          "source_hidden": false,
          "outputs_hidden": false
        },
        "nteract": {
          "transient": {
            "deleting": false
          }
        },
        "execution": {
          "iopub.status.busy": "2020-06-26T06:39:00.354Z",
          "iopub.execute_input": "2020-06-26T06:39:01.372Z",
          "iopub.status.idle": "2020-06-26T06:39:02.458Z"
        }
      }
    },
    {
      "cell_type": "code",
      "source": [
        "S1 = \"abcbcdem\";\n",
        "S2 = \"acbcfg\";\n",
        "S3 = \"abchimn\";\n",
        "S4 = \"abcbcjkm\";\n",
        "\n",
        "L = [S1, S2, S3, S4]"
      ],
      "outputs": [
        {
          "output_type": "execute_result",
          "execution_count": 2,
          "data": {
            "text/plain": [
              "4-element Array{String,1}:\n",
              " \"abcbcdem\"\n",
              " \"acbcfg\"\n",
              " \"abchimn\"\n",
              " \"abcbcjkm\""
            ]
          },
          "metadata": {}
        }
      ],
      "execution_count": 2,
      "metadata": {
        "collapsed": true,
        "jupyter": {
          "source_hidden": false,
          "outputs_hidden": false
        },
        "nteract": {
          "transient": {
            "deleting": false
          }
        },
        "execution": {
          "iopub.status.busy": "2020-06-26T06:39:02.468Z",
          "iopub.execute_input": "2020-06-26T06:39:02.473Z",
          "iopub.status.idle": "2020-06-26T06:39:03.524Z"
        }
      }
    },
    {
      "cell_type": "code",
      "source": [
        "M = NetMSA.createPeerMatrix(L)"
      ],
      "outputs": [
        {
          "output_type": "execute_result",
          "execution_count": 3,
          "data": {
            "text/plain": [
              "8×4 Array{Union{Missing, Char},2}:\n",
              " 'a'  'a'      'a'      'a'\n",
              " 'b'  'c'      'b'      'b'\n",
              " 'c'  'b'      'c'      'c'\n",
              " 'b'  'c'      'h'      'b'\n",
              " 'c'  'f'      'i'      'c'\n",
              " 'd'  'g'      'm'      'j'\n",
              " 'e'  missing  'n'      'k'\n",
              " 'm'  missing  missing  'm'"
            ]
          },
          "metadata": {}
        }
      ],
      "execution_count": 3,
      "metadata": {
        "collapsed": true,
        "jupyter": {
          "source_hidden": false,
          "outputs_hidden": false
        },
        "nteract": {
          "transient": {
            "deleting": false
          }
        },
        "execution": {
          "iopub.status.busy": "2020-06-26T06:39:03.531Z",
          "iopub.execute_input": "2020-06-26T06:39:03.535Z",
          "iopub.status.idle": "2020-06-26T06:39:04.549Z"
        }
      }
    },
    {
      "cell_type": "code",
      "source": [
        "mutable struct Position \n",
        "  row::Int64\n",
        "  locations::Int64\n",
        "end\n",
        "\n",
        "mutable struct Particle\n",
        "  value::Char\n",
        "  best::Position\n",
        "end"
      ],
      "outputs": [],
      "execution_count": 4,
      "metadata": {
        "collapsed": true,
        "jupyter": {
          "source_hidden": false,
          "outputs_hidden": false
        },
        "nteract": {
          "transient": {
            "deleting": false
          }
        },
        "execution": {
          "iopub.status.busy": "2020-06-26T06:39:04.555Z",
          "iopub.execute_input": "2020-06-26T06:39:04.560Z",
          "iopub.status.idle": "2020-06-26T06:39:04.625Z"
        }
      }
    },
    {
      "cell_type": "code",
      "source": [
        "function createSwarm(rowIndex::Int64, row)\n",
        "  unique = Set(row)\n",
        "  println(unique)\n",
        "end\n",
        "\n",
        "function aligned(row)::Bool\n",
        "  row = Set(row)\n",
        "  return length(row) == 1 || (length(row) == 2 && ('-' in row || missing in row))\n",
        "end\n",
        "\n",
        "function full(row)::Bool\n",
        "  return length(Set(row)) == 1\n",
        "end\n",
        "\n",
        "function weight(row, w1=0.25, w2=0.5, w3=1.0)\n",
        "  if full(row)\n",
        "    return w3;\n",
        "  end\n",
        "  \n",
        "  counts = countmap(row)\n",
        "  delete!(counts, '-')\n",
        "  max = findmax(counts)[1];\n",
        "  c = length(row);\n",
        "  if aligned(row)\n",
        "    return w2 * max / c;\n",
        "  else\n",
        "    x = max == 1 ? 0 : max;\n",
        "    return w1 * x / c;\n",
        "  end\n",
        "end"
      ],
      "outputs": [
        {
          "output_type": "execute_result",
          "execution_count": 37,
          "data": {
            "text/plain": [
              "weight (generic function with 4 methods)"
            ]
          },
          "metadata": {}
        }
      ],
      "execution_count": 37,
      "metadata": {
        "collapsed": true,
        "jupyter": {
          "source_hidden": false,
          "outputs_hidden": false
        },
        "nteract": {
          "transient": {
            "deleting": false
          }
        },
        "execution": {
          "iopub.status.busy": "2020-06-26T07:20:09.861Z",
          "iopub.execute_input": "2020-06-26T07:20:09.867Z",
          "iopub.status.idle": "2020-06-26T07:20:09.876Z"
        }
      }
    },
    {
      "cell_type": "code",
      "source": [
        "for (index, row) in enumerate(eachrow(M))\n",
        "#   println(\"$index: $row\")\n",
        "  createSwarm(index, row)\n",
        "  println(weight(row))\n",
        "end"
      ],
      "outputs": [
        {
          "output_type": "stream",
          "name": "stdout",
          "text": [
            "Set(Union{Missing, Char}['a'])\n",
            "1.0\n",
            "Set(Union{Missing, Char}['c', 'b'])\n",
            "0.1875\n",
            "Set(Union{Missing, Char}['c', 'b'])\n",
            "0.1875\n",
            "Set(Union{Missing, Char}['h', 'c', 'b'])\n",
            "0.125\n",
            "Set(Union{Missing, Char}['f', 'c', 'i'])\n",
            "0.125\n",
            "Set(Union{Missing, Char}['g', 'd', 'j', 'm'])\n",
            "0.0\n",
            "Set(Union{Missing, Char}['n', missing, 'e', 'k'])\n",
            "0.0\n",
            "Set(Union{Missing, Char}[missing, 'm'])\n",
            "0.125\n"
          ]
        }
      ],
      "execution_count": 10,
      "metadata": {
        "collapsed": true,
        "jupyter": {
          "source_hidden": false,
          "outputs_hidden": false
        },
        "nteract": {
          "transient": {
            "deleting": false
          }
        },
        "execution": {
          "iopub.status.busy": "2020-06-26T06:39:47.110Z",
          "iopub.execute_input": "2020-06-26T06:39:47.115Z",
          "iopub.status.idle": "2020-06-26T06:39:47.155Z"
        }
      }
    },
    {
      "cell_type": "code",
      "source": [
        "function objective(M, rowind)\n",
        "  weights = cumsum(weight.(eachrow(M[2:end, :])))[end]\n",
        "  A = \n",
        "end"
      ],
      "outputs": [],
      "execution_count": null,
      "metadata": {
        "collapsed": true,
        "jupyter": {
          "source_hidden": false,
          "outputs_hidden": false
        },
        "nteract": {
          "transient": {
            "deleting": false
          }
        },
        "execution": {
          "iopub.status.busy": "2020-06-25T13:38:39.622Z",
          "iopub.execute_input": "2020-06-25T13:38:39.627Z",
          "iopub.status.idle": "2020-06-25T13:38:40.261Z"
        }
      }
    },
    {
      "cell_type": "code",
      "source": [
        "aligned(M[8, :])"
      ],
      "outputs": [
        {
          "output_type": "execute_result",
          "execution_count": 38,
          "data": {
            "text/plain": [
              "true"
            ]
          },
          "metadata": {}
        }
      ],
      "execution_count": 38,
      "metadata": {
        "collapsed": true,
        "jupyter": {
          "source_hidden": false,
          "outputs_hidden": false
        },
        "nteract": {
          "transient": {
            "deleting": false
          }
        },
        "execution": {
          "iopub.status.busy": "2020-06-26T07:20:12.714Z",
          "iopub.execute_input": "2020-06-26T07:20:12.718Z",
          "iopub.status.idle": "2020-06-26T07:20:12.727Z"
        }
      }
    },
    {
      "cell_type": "code",
      "source": [
        "accumulate(+, weight.(eachrow(M))[2:end])"
      ],
      "outputs": [
        {
          "output_type": "execute_result",
          "execution_count": 39,
          "data": {
            "text/plain": [
              "7-element Array{Float64,1}:\n",
              " 0.1875\n",
              " 0.375\n",
              " 0.5\n",
              " 0.625\n",
              " 0.625\n",
              " 0.625\n",
              " 0.875"
            ]
          },
          "metadata": {}
        }
      ],
      "execution_count": 39,
      "metadata": {
        "collapsed": true,
        "jupyter": {
          "source_hidden": false,
          "outputs_hidden": false
        },
        "nteract": {
          "transient": {
            "deleting": false
          }
        },
        "execution": {
          "iopub.status.busy": "2020-06-26T07:20:17.851Z",
          "iopub.execute_input": "2020-06-26T07:20:17.856Z",
          "iopub.status.idle": "2020-06-26T07:20:17.879Z"
        }
      }
    },
    {
      "cell_type": "code",
      "source": [
        "cumsum(weight.(eachrow(M[2:end, :])))[end]"
      ],
      "outputs": [
        {
          "output_type": "execute_result",
          "execution_count": 49,
          "data": {
            "text/plain": [
              "0.875"
            ]
          },
          "metadata": {}
        }
      ],
      "execution_count": 49,
      "metadata": {
        "collapsed": true,
        "jupyter": {
          "source_hidden": false,
          "outputs_hidden": false
        },
        "nteract": {
          "transient": {
            "deleting": false
          }
        },
        "execution": {
          "iopub.status.busy": "2020-06-26T07:48:44.280Z",
          "iopub.execute_input": "2020-06-26T07:48:44.287Z",
          "iopub.status.idle": "2020-06-26T07:48:44.298Z"
        }
      }
    },
    {
      "cell_type": "code",
      "source": [
        "nₛ"
      ],
      "outputs": [],
      "execution_count": null,
      "metadata": {
        "collapsed": true,
        "jupyter": {
          "source_hidden": false,
          "outputs_hidden": false
        },
        "nteract": {
          "transient": {
            "deleting": false
          }
        }
      }
    },
    {
      "cell_type": "code",
      "source": [
        "0.5 * 2/4"
      ],
      "outputs": [
        {
          "output_type": "execute_result",
          "execution_count": 35,
          "data": {
            "text/plain": [
              "0.25"
            ]
          },
          "metadata": {}
        }
      ],
      "execution_count": 35,
      "metadata": {
        "collapsed": true,
        "jupyter": {
          "source_hidden": false,
          "outputs_hidden": false
        },
        "nteract": {
          "transient": {
            "deleting": false
          }
        },
        "execution": {
          "iopub.status.busy": "2020-06-26T07:18:02.020Z",
          "iopub.execute_input": "2020-06-26T07:18:02.026Z",
          "iopub.status.idle": "2020-06-26T07:18:02.037Z"
        }
      }
    },
    {
      "cell_type": "code",
      "source": [
        "weight.(eachrow(M[2:end, :]))"
      ],
      "outputs": [
        {
          "output_type": "execute_result",
          "execution_count": 46,
          "data": {
            "text/plain": [
              "7-element Array{Float64,1}:\n",
              " 0.1875\n",
              " 0.1875\n",
              " 0.125\n",
              " 0.125\n",
              " 0.0\n",
              " 0.0\n",
              " 0.25"
            ]
          },
          "metadata": {}
        }
      ],
      "execution_count": 46,
      "metadata": {
        "collapsed": true,
        "jupyter": {
          "source_hidden": false,
          "outputs_hidden": false
        },
        "nteract": {
          "transient": {
            "deleting": false
          }
        },
        "execution": {
          "iopub.status.busy": "2020-06-26T07:30:35.766Z",
          "iopub.execute_input": "2020-06-26T07:30:35.772Z",
          "iopub.status.idle": "2020-06-26T07:30:35.782Z"
        }
      }
    },
    {
      "cell_type": "code",
      "source": [],
      "outputs": [],
      "execution_count": null,
      "metadata": {
        "collapsed": true,
        "jupyter": {
          "source_hidden": false,
          "outputs_hidden": false
        },
        "nteract": {
          "transient": {
            "deleting": false
          }
        },
        "execution": {
          "iopub.status.busy": "2020-06-25T13:41:38.836Z",
          "iopub.execute_input": "2020-06-25T13:41:38.841Z",
          "iopub.status.idle": "2020-06-25T13:41:39.095Z"
        }
      }
    },
    {
      "cell_type": "code",
      "source": [],
      "outputs": [],
      "execution_count": null,
      "metadata": {
        "collapsed": true,
        "jupyter": {
          "source_hidden": false,
          "outputs_hidden": false
        },
        "nteract": {
          "transient": {
            "deleting": false
          }
        },
        "execution": {
          "iopub.status.busy": "2020-06-25T13:50:41.893Z",
          "iopub.execute_input": "2020-06-25T13:50:41.900Z",
          "iopub.status.idle": "2020-06-25T13:50:47.735Z"
        }
      }
    },
    {
      "cell_type": "code",
      "source": [],
      "outputs": [],
      "execution_count": null,
      "metadata": {
        "collapsed": true,
        "jupyter": {
          "source_hidden": false,
          "outputs_hidden": false
        },
        "nteract": {
          "transient": {
            "deleting": false
          }
        },
        "execution": {
          "iopub.status.busy": "2020-06-25T14:01:40.257Z",
          "iopub.execute_input": "2020-06-25T14:01:40.261Z",
          "iopub.status.idle": "2020-06-25T14:01:40.272Z"
        }
      }
    },
    {
      "cell_type": "code",
      "source": [],
      "outputs": [],
      "execution_count": null,
      "metadata": {
        "collapsed": true,
        "jupyter": {
          "source_hidden": false,
          "outputs_hidden": false
        },
        "nteract": {
          "transient": {
            "deleting": false
          }
        },
        "execution": {
          "iopub.status.busy": "2020-06-25T13:56:28.097Z",
          "iopub.execute_input": "2020-06-25T13:56:28.103Z",
          "iopub.status.idle": "2020-06-25T13:56:28.111Z"
        }
      }
    },
    {
      "cell_type": "code",
      "source": [],
      "outputs": [],
      "execution_count": null,
      "metadata": {
        "collapsed": true,
        "jupyter": {
          "source_hidden": false,
          "outputs_hidden": false
        },
        "nteract": {
          "transient": {
            "deleting": false
          }
        }
      }
    }
  ],
  "metadata": {
    "kernel_info": {
      "name": "julia-1.3"
    },
    "language_info": {
      "file_extension": ".jl",
      "name": "julia",
      "mimetype": "application/julia",
      "version": "1.4.2"
    },
    "kernelspec": {
      "argv": [
        "C:\\Users\\aadim\\AppData\\Local\\Julia-1.3.1\\bin\\julia.exe",
        "-i",
        "--startup-file=yes",
        "--color=yes",
        "--project=@.",
        "C:\\Users\\aadim\\.julia\\packages\\IJulia\\yLI42\\src\\kernel.jl",
        "{connection_file}"
      ],
      "display_name": "Julia 1.3.1",
      "env": {},
      "interrupt_mode": "message",
      "language": "julia",
      "name": "julia-1.3"
    },
    "nteract": {
      "version": "0.23.3"
    }
  },
  "nbformat": 4,
  "nbformat_minor": 0
}
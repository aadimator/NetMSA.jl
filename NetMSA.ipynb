{
  "cells": [
    {
      "cell_type": "code",
      "source": [
        "using NetMSA\n",
        "using StatsBase"
      ],
      "outputs": [],
      "execution_count": 2,
      "metadata": {
        "collapsed": false,
        "jupyter": {
          "source_hidden": false,
          "outputs_hidden": false
        },
        "nteract": {
          "transient": {
            "deleting": false
          }
        },
        "execution": {
          "iopub.status.busy": "2020-06-28T10:50:46.274Z",
          "iopub.execute_input": "2020-06-28T10:50:46.284Z",
          "iopub.status.idle": "2020-06-28T10:50:46.300Z"
        }
      }
    },
    {
      "cell_type": "code",
      "source": [
        "S1 = \"abcbcdem\";\n",
        "S2 = \"acbcfg\";\n",
        "S3 = \"abchimn\";\n",
        "S4 = \"abcbcjkm\";\n",
        "\n",
        "L = [S1, S2, S3, S4]"
      ],
      "outputs": [
        {
          "output_type": "execute_result",
          "execution_count": 3,
          "data": {
            "text/plain": [
              "4-element Array{String,1}:\n",
              " \"abcbcdem\"\n",
              " \"acbcfg\"\n",
              " \"abchimn\"\n",
              " \"abcbcjkm\""
            ]
          },
          "metadata": {}
        }
      ],
      "execution_count": 3,
      "metadata": {
        "collapsed": true,
        "jupyter": {
          "source_hidden": false,
          "outputs_hidden": false
        },
        "nteract": {
          "transient": {
            "deleting": false
          }
        },
        "execution": {
          "iopub.status.busy": "2020-06-28T10:50:46.532Z",
          "iopub.execute_input": "2020-06-28T10:50:46.548Z",
          "iopub.status.idle": "2020-06-28T10:50:47.582Z"
        }
      }
    },
    {
      "cell_type": "code",
      "source": [
        "M = NetMSA.createPeerMatrix(L)"
      ],
      "outputs": [
        {
          "output_type": "execute_result",
          "execution_count": 4,
          "data": {
            "text/plain": [
              "8×4 Array{Union{Missing, Char},2}:\n",
              " 'a'  'a'      'a'      'a'\n",
              " 'b'  'c'      'b'      'b'\n",
              " 'c'  'b'      'c'      'c'\n",
              " 'b'  'c'      'h'      'b'\n",
              " 'c'  'f'      'i'      'c'\n",
              " 'd'  'g'      'm'      'j'\n",
              " 'e'  missing  'n'      'k'\n",
              " 'm'  missing  missing  'm'"
            ]
          },
          "metadata": {}
        }
      ],
      "execution_count": 4,
      "metadata": {
        "collapsed": true,
        "jupyter": {
          "source_hidden": false,
          "outputs_hidden": false
        },
        "nteract": {
          "transient": {
            "deleting": false
          }
        },
        "execution": {
          "iopub.status.busy": "2020-06-28T10:50:48.287Z",
          "iopub.execute_input": "2020-06-28T10:50:48.302Z",
          "iopub.status.idle": "2020-06-28T10:50:49.270Z"
        }
      }
    },
    {
      "cell_type": "code",
      "source": [
        "mutable struct Position \n",
        "  row::Int64\n",
        "  indexes::Vector{Int64}\n",
        "end\n",
        "\n",
        "mutable struct Particle\n",
        "  value::Char\n",
        "  updated::Int64\n",
        "  pos::Position\n",
        "  best::Position\n",
        "  bestvalue::Float64\n",
        "  \n",
        "  function Particle(value::Char, pos::Position)\n",
        "    return new(value, 0, pos, pos, 0.0)\n",
        "  end\n",
        "end"
      ],
      "outputs": [],
      "execution_count": 5,
      "metadata": {
        "collapsed": true,
        "jupyter": {
          "source_hidden": false,
          "outputs_hidden": false
        },
        "nteract": {
          "transient": {
            "deleting": false
          }
        },
        "execution": {
          "iopub.status.busy": "2020-06-28T10:50:50.860Z",
          "iopub.execute_input": "2020-06-28T10:50:50.877Z",
          "iopub.status.idle": "2020-06-28T10:50:50.940Z"
        }
      }
    },
    {
      "cell_type": "code",
      "source": [
        "function getposition(index::Int64, row, value)\n",
        "  indexes = findall(i -> i == value, skipmissing(row))\n",
        "  return Position(index, indexes);\n",
        "end\n",
        "\n",
        "function mostfrequent(row)\n",
        "  counts = countmap(row);\n",
        "  delete!(counts, '-');\n",
        "#   println(row)\n",
        "#   println(counts)\n",
        "  max = isempty(counts) ? 0 : findmax(counts);\n",
        "  return max;\n",
        "end\n",
        "\n",
        "function aligned(row)::Bool\n",
        "  row = Set(row)\n",
        "  return (length(row) == 1 && !(missing in row)) || (length(row) == 2 && ('-' in row || missing in row))\n",
        "end\n",
        "\n",
        "function full(row)::Bool\n",
        "  return length(Set(row)) == 1 && !(missing in Set(row))\n",
        "end\n",
        "\n",
        "function weight(row; w1=0.25, w2=0.5, w3=1.0)\n",
        "  if length(Set(skipmissing(row))) == 0\n",
        "    return 0;\n",
        "  end\n",
        "  if full(row)\n",
        "    return w3;\n",
        "  end\n",
        "  \n",
        "  c = length(row);\n",
        "  if c == 0\n",
        "    return 0;\n",
        "  end\n",
        "  max = mostfrequent(row)[1];\n",
        "  \n",
        "  if aligned(row)\n",
        "    return w2 * max / c;\n",
        "  else\n",
        "    x = max <= 1 ? 0 : max;\n",
        "    return w1 * x / c;\n",
        "  end\n",
        "end\n",
        "\n",
        "function objective(M, rowindex::Int; endindex::Int=0)\n",
        "  weights = sum(weight.(eachrow(M[rowindex:end, :])))\n",
        "  C = mostfrequent(M[rowindex, :])[1];\n",
        "  A = sum(aligned.(eachrow(M))[rowindex:end])\n",
        "  \n",
        "  endindex = endindex == 0 ? size(M)[1] : endindex;\n",
        "  if endindex > size(M)[1]\n",
        "    throw(ArgumentError(\"endind exceeds the matrix size\"));\n",
        "  end\n",
        "  counts = countmap(M[rowindex:endindex, :]);\n",
        "  Gaps = get(counts, '-', 0);\n",
        "  \n",
        "  \n",
        "  \n",
        "#   println(A)\n",
        "#   println(C)\n",
        "#   println(Gaps)\n",
        "#   println(weights)\n",
        "#   println(sum(weights))\n",
        "  \n",
        "  return weights * (A * C)/(1 + Gaps)\n",
        "end\n",
        "\n",
        "function createswarm(rowindex::Int64, row)\n",
        "  unique = Set(skipmissing(row))\n",
        "  swarm = Vector{Particle}(undef, length(unique))\n",
        "  for (i, c) in enumerate(unique)\n",
        "    swarm[i] = Particle(c, getposition(rowindex, row, c))\n",
        "  end\n",
        "  return swarm\n",
        "end\n",
        "\n",
        "function criteria3(p::Particle, M, newindex)\n",
        "#   display(newindex)\n",
        "#   display(M[newindex, :])\n",
        "#   display(length(p.pos.indexes) != length(getposition(newindex, M[newindex, :], p.value).indexes))\n",
        "  return length(p.pos.indexes) != length(getposition(newindex, M[newindex, :], p.value).indexes)\n",
        "end\n",
        "\n",
        "function criteria2(p::Particle)\n",
        "  return p.updated > 6;\n",
        "end\n",
        "\n",
        "function stopcriteria(p::Particle, M, t)\n",
        "  c3 = criteria3(p, M, t);\n",
        "  c2 = criteria2(p);\n",
        "  if c3\n",
        "    display(\"Terminating cause of criteria 3\")\n",
        "  elseif  c2\n",
        "    display(\"Terminating cause of criteria 2\")\n",
        "  end\n",
        "  return c3 || c2;\n",
        "end\n",
        "\n",
        "function remove_missing_rows(M)\n",
        "  return M[[length(Set(skipmissing(r))) != 0 for r in eachrow(M)], :]\n",
        "end"
      ],
      "outputs": [
        {
          "output_type": "execute_result",
          "execution_count": 144,
          "data": {
            "text/plain": [
              "remove_missing_rows (generic function with 1 method)"
            ]
          },
          "metadata": {}
        }
      ],
      "execution_count": 144,
      "metadata": {
        "collapsed": true,
        "jupyter": {
          "source_hidden": false,
          "outputs_hidden": false
        },
        "nteract": {
          "transient": {
            "deleting": false
          }
        },
        "execution": {
          "iopub.status.busy": "2020-06-28T13:02:51.893Z",
          "iopub.execute_input": "2020-06-28T13:02:51.901Z",
          "iopub.status.idle": "2020-06-28T13:02:51.918Z"
        }
      }
    },
    {
      "cell_type": "code",
      "source": [
        "function flydown(p, M; stride=1)\n",
        "  notpcols = setdiff(collect(1:size(M, 2)), p.pos.indexes)\n",
        "  colsize = size(M, 2)\n",
        "  pos = p.pos\n",
        "  newrows = fill('-', (stride, colsize))\n",
        "  M = vcat(M[1:pos.row - 1, :], reshape(newrows, stride, colsize), M[pos.row:end, :])\n",
        "  for i in collect(pos.row+stride:size(M, 1))\n",
        "    M[i-stride,notpcols] = M[i, notpcols]\n",
        "    M[i, notpcols] .= missing\n",
        "  end\n",
        "  M = remove_missing_rows(M)\n",
        "  return M\n",
        "end\n",
        "\n",
        "N = copy(M)\n",
        "c = 'b'\n",
        "p = Particle(c, getposition(2, N[2, :], c))\n",
        "N = flydown(p, N, stride=4)"
      ],
      "outputs": [
        {
          "output_type": "execute_result",
          "execution_count": 72,
          "data": {
            "text/plain": [
              "12×4 Array{Union{Missing, Char},2}:\n",
              " 'a'  'a'      'a'      'a'\n",
              " '-'  'c'      '-'      '-'\n",
              " '-'  'b'      '-'      '-'\n",
              " '-'  'c'      '-'      '-'\n",
              " '-'  'f'      '-'      '-'\n",
              " 'b'  'g'      'b'      'b'\n",
              " 'c'  missing  'c'      'c'\n",
              " 'b'  missing  'h'      'b'\n",
              " 'c'  missing  'i'      'c'\n",
              " 'd'  missing  'm'      'j'\n",
              " 'e'  missing  'n'      'k'\n",
              " 'm'  missing  missing  'm'"
            ]
          },
          "metadata": {}
        }
      ],
      "execution_count": 72,
      "metadata": {
        "collapsed": true,
        "jupyter": {
          "source_hidden": false,
          "outputs_hidden": false
        },
        "nteract": {
          "transient": {
            "deleting": false
          }
        },
        "execution": {
          "iopub.status.busy": "2020-06-28T11:17:50.768Z",
          "iopub.execute_input": "2020-06-28T11:17:50.777Z",
          "iopub.status.idle": "2020-06-28T11:17:50.816Z"
        }
      }
    },
    {
      "cell_type": "code",
      "source": [
        "function rowalignment(r, M)\n",
        "  row = M[r, :];\n",
        "#   display(row);\n",
        "#   println(aligned(row))\n",
        "  if aligned(row)\n",
        "#     println(\"aligned\");\n",
        "    return nothing;\n",
        "  end\n",
        "  \n",
        "  swarm = createswarm(r, row);\n",
        "  \n",
        "  gₒ = g = swarm[1];\n",
        "  gₒvalue = gvalue = objective(M, r, endindex=r);\n",
        "  cols = size(row, 1)\n",
        "  \n",
        "  for p in swarm\n",
        "    \n",
        "    t = r;\n",
        "    N = copy(M);\n",
        "    \n",
        "    p.bestvalue = objective(M, r, endindex=t)\n",
        "#     display(\"Aligning $p\");\n",
        "#     display(N)\n",
        "#     display(p)\n",
        "    \n",
        "    missingp = setdiff(collect(1:size(N, 2)), p.pos.indexes)\n",
        "    maxlen = maximum([length(collect(skipmissing(col))) for col in eachcol(N[:, missingp])])\n",
        "    criteria1 = maxlen;\n",
        "    \n",
        "#     display(criteria1)\n",
        "    \n",
        "    while stopcriteria(p, N, t) != true && t < criteria1\n",
        "#       display(stopcriteria(p, N, t) != true)\n",
        "      t += 1;\n",
        "      p.updated += 1;\n",
        "     \n",
        "      N = flydown(p, N);\n",
        "#       display(N)\n",
        "#       display(p)\n",
        "      score = objective(N, r);\n",
        "#       display(score);\n",
        "#       display(p.bestvalue);\n",
        "      if score > p.bestvalue\n",
        "        p.bestvalue = score;\n",
        "        p.updated = 0;\n",
        "      end\n",
        "      \n",
        "      if score > gvalue\n",
        "        gvalue = score;\n",
        "        g = deepcopy(p);\n",
        "        g.best = getposition(t, N[t, :], p.value);\n",
        "        g.bestvalue = score;\n",
        "      end\n",
        "      \n",
        "      \n",
        "#       display(p)\n",
        "      \n",
        "    end\n",
        "  end\n",
        "  \n",
        "  if gvalue == gₒvalue\n",
        "    return nothing;\n",
        "  end\n",
        "  return g;\n",
        "end"
      ],
      "outputs": [
        {
          "output_type": "execute_result",
          "execution_count": 160,
          "data": {
            "text/plain": [
              "rowalignment (generic function with 1 method)"
            ]
          },
          "metadata": {}
        }
      ],
      "execution_count": 160,
      "metadata": {
        "collapsed": true,
        "jupyter": {
          "source_hidden": false,
          "outputs_hidden": false
        },
        "nteract": {
          "transient": {
            "deleting": false
          }
        },
        "execution": {
          "iopub.status.busy": "2020-06-28T13:30:03.751Z",
          "iopub.execute_input": "2020-06-28T13:30:03.759Z",
          "iopub.status.idle": "2020-06-28T13:30:03.776Z"
        }
      }
    },
    {
      "cell_type": "code",
      "source": [
        "N = copy(M)\n",
        "g = rowalignment(2, N)\n",
        "N = flydown(g, N, stride=g.best.row - g.pos.row)"
      ],
      "outputs": [
        {
          "output_type": "display_data",
          "data": {
            "text/plain": [
              "\"Terminating cause of criteria 3\""
            ]
          },
          "metadata": {}
        },
        {
          "output_type": "display_data",
          "data": {
            "text/plain": [
              "\"Terminating cause of criteria 3\""
            ]
          },
          "metadata": {}
        },
        {
          "output_type": "execute_result",
          "execution_count": 147,
          "data": {
            "text/plain": [
              "8×4 Array{Union{Missing, Char},2}:\n",
              " 'a'  'a'      'a'      'a'\n",
              " 'b'  '-'      'b'      'b'\n",
              " 'c'  'c'      'c'      'c'\n",
              " 'b'  'b'      'h'      'b'\n",
              " 'c'  'c'      'i'      'c'\n",
              " 'd'  'f'      'm'      'j'\n",
              " 'e'  'g'      'n'      'k'\n",
              " 'm'  missing  missing  'm'"
            ]
          },
          "metadata": {}
        }
      ],
      "execution_count": 147,
      "metadata": {
        "collapsed": true,
        "jupyter": {
          "source_hidden": false,
          "outputs_hidden": false
        },
        "nteract": {
          "transient": {
            "deleting": false
          }
        },
        "execution": {
          "iopub.status.busy": "2020-06-28T13:03:03.287Z",
          "iopub.execute_input": "2020-06-28T13:03:03.295Z",
          "iopub.status.idle": "2020-06-28T13:03:03.320Z"
        }
      }
    },
    {
      "cell_type": "code",
      "source": [
        "g = rowalignment(3, N)\n",
        "# N = flydown(g, N, stride=g.best.row - g.pos.row)"
      ],
      "outputs": [],
      "execution_count": 148,
      "metadata": {
        "collapsed": true,
        "jupyter": {
          "source_hidden": false,
          "outputs_hidden": false
        },
        "nteract": {
          "transient": {
            "deleting": false
          }
        },
        "execution": {
          "iopub.status.busy": "2020-06-28T13:03:04.369Z",
          "iopub.execute_input": "2020-06-28T13:03:04.376Z",
          "iopub.status.idle": "2020-06-28T13:03:04.388Z"
        }
      }
    },
    {
      "cell_type": "code",
      "source": [
        "g = rowalignment(4, N)\n",
        "N = flydown(g, N, stride=g.best.row - g.pos.row)"
      ],
      "outputs": [
        {
          "output_type": "execute_result",
          "execution_count": 149,
          "data": {
            "text/plain": [
              "9×4 Array{Union{Missing, Char},2}:\n",
              " 'a'      'a'      'a'  'a'\n",
              " 'b'      '-'      'b'  'b'\n",
              " 'c'      'c'      'c'  'c'\n",
              " 'b'      'b'      '-'  'b'\n",
              " 'c'      'c'      '-'  'c'\n",
              " 'd'      'f'      'h'  'j'\n",
              " 'e'      'g'      'i'  'k'\n",
              " 'm'      missing  'm'  'm'\n",
              " missing  missing  'n'  missing"
            ]
          },
          "metadata": {}
        }
      ],
      "execution_count": 149,
      "metadata": {
        "collapsed": true,
        "jupyter": {
          "source_hidden": false,
          "outputs_hidden": false
        },
        "nteract": {
          "transient": {
            "deleting": false
          }
        },
        "execution": {
          "iopub.status.busy": "2020-06-28T13:03:05.219Z",
          "iopub.execute_input": "2020-06-28T13:03:05.226Z",
          "iopub.status.idle": "2020-06-28T13:03:05.240Z"
        }
      }
    },
    {
      "cell_type": "code",
      "source": [
        "objective(N, 4)"
      ],
      "outputs": [
        {
          "output_type": "execute_result",
          "execution_count": 145,
          "data": {
            "text/plain": [
              "6.0"
            ]
          },
          "metadata": {}
        }
      ],
      "execution_count": 145,
      "metadata": {
        "collapsed": true,
        "jupyter": {
          "source_hidden": false,
          "outputs_hidden": false
        },
        "nteract": {
          "transient": {
            "deleting": false
          }
        },
        "execution": {
          "iopub.status.busy": "2020-06-28T13:02:57.838Z",
          "iopub.execute_input": "2020-06-28T13:02:57.850Z",
          "iopub.status.idle": "2020-06-28T13:02:58.062Z"
        }
      }
    },
    {
      "cell_type": "code",
      "source": [
        "function matrix_alignment(M)\n",
        "  for (index, row) in enumerate(eachrow(M))\n",
        "  #   println(\"$index: $row\")\n",
        "    g = rowalignment(index, M) \n",
        "    if !isnothing(g)\n",
        "      M = flydown(g, M, stride=g.best.row - g.pos.row)\n",
        "    end\n",
        "  end\n",
        "  replace!(M, missing => '-')\n",
        "end\n",
        "matrix_alignment(M)"
      ],
      "outputs": [
        {
          "output_type": "execute_result",
          "execution_count": 162,
          "data": {
            "text/plain": [
              "9×4 Array{Union{Missing, Char},2}:\n",
              " 'a'  'a'  'a'  'a'\n",
              " 'b'  '-'  'b'  'b'\n",
              " 'c'  'c'  'c'  'c'\n",
              " 'b'  'b'  '-'  'b'\n",
              " 'c'  'c'  '-'  'c'\n",
              " 'd'  'f'  'h'  'j'\n",
              " 'e'  'g'  'i'  'k'\n",
              " 'm'  '-'  'm'  'm'\n",
              " '-'  '-'  'n'  '-'"
            ]
          },
          "metadata": {}
        }
      ],
      "execution_count": 162,
      "metadata": {
        "collapsed": true,
        "jupyter": {
          "source_hidden": false,
          "outputs_hidden": false
        },
        "nteract": {
          "transient": {
            "deleting": false
          }
        },
        "execution": {
          "iopub.status.busy": "2020-06-28T13:31:29.147Z",
          "iopub.execute_input": "2020-06-28T13:31:29.157Z",
          "iopub.status.idle": "2020-06-28T13:31:29.176Z"
        }
      }
    },
    {
      "cell_type": "code",
      "source": [],
      "outputs": [],
      "execution_count": null,
      "metadata": {
        "collapsed": true,
        "jupyter": {
          "source_hidden": false,
          "outputs_hidden": false
        },
        "nteract": {
          "transient": {
            "deleting": false
          }
        },
        "execution": {
          "iopub.status.busy": "2020-06-27T07:47:03.281Z",
          "iopub.execute_input": "2020-06-27T07:47:03.289Z",
          "iopub.status.idle": "2020-06-27T07:47:03.302Z"
        }
      }
    },
    {
      "cell_type": "code",
      "source": [],
      "outputs": [],
      "execution_count": null,
      "metadata": {
        "collapsed": true,
        "jupyter": {
          "source_hidden": false,
          "outputs_hidden": false
        },
        "nteract": {
          "transient": {
            "deleting": false
          }
        }
      }
    }
  ],
  "metadata": {
    "kernel_info": {
      "name": "julia-1.3"
    },
    "language_info": {
      "file_extension": ".jl",
      "name": "julia",
      "mimetype": "application/julia",
      "version": "1.4.2"
    },
    "kernelspec": {
      "argv": [
        "C:\\Users\\aadim\\AppData\\Local\\Julia-1.3.1\\bin\\julia.exe",
        "-i",
        "--startup-file=yes",
        "--color=yes",
        "--project=@.",
        "C:\\Users\\aadim\\.julia\\packages\\IJulia\\yLI42\\src\\kernel.jl",
        "{connection_file}"
      ],
      "display_name": "Julia 1.3.1",
      "env": {},
      "interrupt_mode": "message",
      "language": "julia",
      "name": "julia-1.3"
    },
    "nteract": {
      "version": "0.23.3"
    }
  },
  "nbformat": 4,
  "nbformat_minor": 0
}